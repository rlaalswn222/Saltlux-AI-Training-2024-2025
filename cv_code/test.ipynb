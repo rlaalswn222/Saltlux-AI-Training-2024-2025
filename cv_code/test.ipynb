{
 "cells": [
  {
   "cell_type": "code",
   "execution_count": 2,
   "metadata": {},
   "outputs": [
    {
     "name": "stdout",
     "output_type": "stream",
     "text": [
      "image data type =  uint8\n",
      "image type =  <class 'numpy.ndarray'>\n",
      "image shape (630, 630)\n",
      "height = 630, width = 630\n"
     ]
    }
   ],
   "source": [
    "\n",
    "import cv2\n",
    "import sys\n",
    "import matplotlib.pyplot as plt \n",
    "import numpy as np\n",
    "\n",
    "img = cv2.imread(\"./mri_brain.jpeg\", cv2.IMREAD_GRAYSCALE)\n",
    "\n",
    "if img is None:\n",
    "    print(\"Image read failed\")\n",
    "    sys.exit()\n",
    "\n",
    "print(\"image data type = \", img.dtype)\n",
    "print(\"image type = \", type(img))\n",
    "print(\"image shape\", img.shape )\n",
    "w, h =img.shape[:2] # color라서 2까지만 불러옴\n",
    "print(\"height = {0}, width = {1}\".format(w, h) )\n",
    "\n",
    "cv2.imshow(\"mri\", img)\n",
    "cv2.waitKey()\n",
    "cv2.destroyAllWindows()\n"
   ]
  },
  {
   "cell_type": "code",
   "execution_count": null,
   "metadata": {},
   "outputs": [
    {
     "name": "stdout",
     "output_type": "stream",
     "text": [
      "width =630, height = 630\n"
     ]
    },
    {
     "ename": "NameError",
     "evalue": "name 'cv' is not defined",
     "output_type": "error",
     "traceback": [
      "\u001b[1;31m---------------------------------------------------------------------------\u001b[0m",
      "\u001b[1;31mNameError\u001b[0m                                 Traceback (most recent call last)",
      "Cell \u001b[1;32mIn[3], line 11\u001b[0m\n\u001b[0;32m      8\u001b[0m \u001b[38;5;28mprint\u001b[39m(\u001b[38;5;124m\"\u001b[39m\u001b[38;5;124mwidth =\u001b[39m\u001b[38;5;132;01m{}\u001b[39;00m\u001b[38;5;124m, height = \u001b[39m\u001b[38;5;132;01m{}\u001b[39;00m\u001b[38;5;124m\"\u001b[39m\u001b[38;5;241m.\u001b[39mformat(w, h))\n\u001b[0;32m     10\u001b[0m cv2\u001b[38;5;241m.\u001b[39mimshow(\u001b[38;5;124m\"\u001b[39m\u001b[38;5;124mson\u001b[39m\u001b[38;5;124m\"\u001b[39m, img)\n\u001b[1;32m---> 11\u001b[0m cv\u001b[38;5;241m.\u001b[39mnamedWindow(\u001b[38;5;124m\"\u001b[39m\u001b[38;5;124mimage\u001b[39m\u001b[38;5;124m\"\u001b[39m, cv2\u001b[38;5;241m.\u001b[39mWINDOW_NORMAL) \u001b[38;5;66;03m# 창 사이즈에 맞게 하기\u001b[39;00m\n\u001b[0;32m     13\u001b[0m cv2\u001b[38;5;241m.\u001b[39mwaitKey()\n\u001b[0;32m     14\u001b[0m cv2\u001b[38;5;241m.\u001b[39mdestoryAllWindows()\n",
      "\u001b[1;31mNameError\u001b[0m: name 'cv' is not defined"
     ]
    },
    {
     "ename": "",
     "evalue": "",
     "output_type": "error",
     "traceback": [
      "\u001b[1;31mThe Kernel crashed while executing code in the current cell or a previous cell. \n",
      "\u001b[1;31mPlease review the code in the cell(s) to identify a possible cause of the failure. \n",
      "\u001b[1;31mClick <a href='https://aka.ms/vscodeJupyterKernelCrash'>here</a> for more info. \n",
      "\u001b[1;31mView Jupyter <a href='command:jupyter.viewOutput'>log</a> for further details."
     ]
    }
   ],
   "source": [
    "cv2.imread(\"./fig/fig/son.jpg\")\n",
    "\n",
    "if img is None:\n",
    "    print(\"Image read failed\")\n",
    "    sys.exit()\n",
    "\n",
    "h, w = img.shape[:2]\n",
    "print(\"width ={}, height = {}\".format(w, h))\n",
    "\n",
    "cv2.imshow(\"son\", img)\n",
    "cv.namedWindow(\"image\", cv2.WINDOW_NORMAL) # 창 사이즈에 맞게 하기\n",
    "\n",
    "cv2.waitKey()\n",
    "cv2.destoryAllWindows()\n"
   ]
  },
  {
   "cell_type": "code",
   "execution_count": 15,
   "metadata": {},
   "outputs": [
    {
     "name": "stdout",
     "output_type": "stream",
     "text": [
      "4.10.0\n"
     ]
    }
   ],
   "source": [
    "print(cv2.__version__)"
   ]
  },
  {
   "cell_type": "code",
   "execution_count": null,
   "metadata": {},
   "outputs": [
    {
     "ename": "",
     "evalue": "",
     "output_type": "error",
     "traceback": [
      "\u001b[1;31mThe Kernel crashed while executing code in the current cell or a previous cell. \n",
      "\u001b[1;31mPlease review the code in the cell(s) to identify a possible cause of the failure. \n",
      "\u001b[1;31mClick <a href='https://aka.ms/vscodeJupyterKernelCrash'>here</a> for more info. \n",
      "\u001b[1;31mView Jupyter <a href='command:jupyter.viewOutput'>log</a> for further details."
     ]
    }
   ],
   "source": [
    "\n",
    "import cv2\n",
    "import sys\n",
    "import matplotlib.pyplot as plt \n",
    "import numpy as np\n",
    "\n",
    "\n",
    "img = cv2.imread(\"./fig/IMG_5312.png\")\n",
    "\n",
    "if img is None:\n",
    "    print(\"Image read failed\")\n",
    "    sys.exit()\n",
    "\n",
    "h, w = img.shape[:2]\n",
    "print(\"width ={}, height = {}\".format(w, h))\n",
    "\n",
    "cv2.imshow(\"hamtori\", img)\n",
    "cv.namedWindow(\"image\", cv2.WINDOW_NORMAL) # 창 사이즈에 맞게 하기\n",
    "\n",
    "cv2.waitKey()\n",
    "cv2.destoryAllwindows()"
   ]
  }
 ],
 "metadata": {
  "kernelspec": {
   "display_name": "Python 3",
   "language": "python",
   "name": "python3"
  },
  "language_info": {
   "codemirror_mode": {
    "name": "ipython",
    "version": 3
   },
   "file_extension": ".py",
   "mimetype": "text/x-python",
   "name": "python",
   "nbconvert_exporter": "python",
   "pygments_lexer": "ipython3",
   "version": "3.12.4"
  }
 },
 "nbformat": 4,
 "nbformat_minor": 2
}
