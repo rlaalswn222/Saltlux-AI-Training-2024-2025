{
 "cells": [
  {
   "cell_type": "code",
   "execution_count": 36,
   "metadata": {},
   "outputs": [],
   "source": [
    "img = np.ones((600, 1200, 3), np.uint8) *255\n",
    "\n",
    "## line\n",
    "cv2.line(img, (50, 100), (200, 100), (0, 0, 255), 5, cv2.LINE_AA) # x축으로만 움직이고 y축은 그대로\n",
    "cv2.line(img, (200, 100), (100, 300), (255,0,0), 10, cv2.LINE_AA)\n",
    "cv2.arrowedLine(img, (300, 100), (300, 300), (0, 255,0), 10, cv2.LINE_AA)\n",
    "\n",
    "cv2.rectangle(img, (50,400), (300, 500), (0, 255,0), 5, cv2.LINE_AA) # 좌측 상단, 우측 하단 점 좌표\n",
    "cv2.rectangle(img, (60, 410, 230, 80), (255, 0, 0), -1) # x, y, w, h 안에 색 칠함\n",
    "\n",
    "cv2.circle(img, (600, 300), 100, (123, 66, 121), 10, cv2.LINE_AA)\n",
    "\n",
    "#타원\n",
    "#cv2.ellipse(img, (600, 300), (100,200), 20, 0, 360, (0,0,255), 10, cv2.LINE_AA)\n",
    "cv2.ellipse(img, (600, 300), (100,200), 20, 0, 300, (0,0,255), 10, cv2.LINE_AA)\n",
    "\n",
    "pts = np.array([[250, 200], [300, 200], [350, 300], [250,300]])\n",
    "#polylines 다각형\n",
    "cv2.polylines(img, [pts], True, (0, 0, 255), 1, cv2.LINE_AA) # iscloesd를 Flase로 하면 안 닫힘, True로 하면 완벽한 다각형 생성\n",
    "\n",
    "#text\n",
    "cv2.putText(img, \"OpenCV\", (800,400), cv2.FONT_HERSHEY_COMPLEX, 2, (0, 0, 255),1, cv2.LINE_AA)\n",
    "\n",
    "cv2.imshow(\"image\", img)\n",
    "\n",
    "cv2.waitKey()\n",
    "cv2.destroyAllWindows()"
   ]
  },
  {
   "cell_type": "code",
   "execution_count": 21,
   "metadata": {},
   "outputs": [],
   "source": [
    "img = np.ones((600, 1200, 3), np.uint8) *255\n",
    "\n",
    "cv2.circle(img, (150, 150), 100, (0, 0, 255), 10, cv2.LINE_AA) # ㅇㅇ\n",
    "cv2.line(img, (300, 50), (300, 300), (0, 127, 255), 10, cv2.LINE_AA), #ㅣㅣ\n",
    "\n",
    "pts = np.array([[100, 400], [100, 500], [300, 500]])\n",
    "cv2.polylines(img, [pts], False, (0, 255, 255), 10, cv2.LINE_AA) #ㄴ\n",
    "\n",
    "pts2 = np.array([[340, 300],[400, 150], [460, 300]])\n",
    "cv2.polylines(img, [pts2], False, (0, 255, 0), 10, cv2.LINE_AA) #ㅅ\n",
    "\n",
    "cv2.line(img, (500, 150), (500, 300), (255, 0, 0), 10, cv2.LINE_AA)\n",
    "cv2.line(img, (500, 230), (550, 230), (255, 0, 0), 10, cv2.LINE_AA)\n",
    "\n",
    "cv2.rectangle(img, (40 0, 350), (500, 450), (123, 66, 121), 10, cv2.LINE_AA)\n",
    "#text\n",
    "cv2.putText(img, \"ginsaeng\", (800,400), cv2.FONT_HERSHEY_COMPLEX, 2, (0, 0, 255),1, cv2.LINE_AA)\n",
    "\n",
    "cv2.imshow(\"image\", img)\n",
    "\n",
    "cv2.waitKey()\n",
    "cv2.destroyAllWindows()"
   ]
  },
  {
   "cell_type": "code",
   "execution_count": 3,
   "metadata": {},
   "outputs": [],
   "source": [
    "import numpy as np \n",
    "import pandas as pd\n",
    "import cv2\n"
   ]
  },
  {
   "cell_type": "code",
   "execution_count": 25,
   "metadata": {},
   "outputs": [],
   "source": [
    "# 산술 연산산\n",
    "# numpy는 영상 처리를 자동으로 해주지 않음\n",
    "# 100을 더하면 255를 넘어간다 -> 클리핑 안함\n",
    "\n",
    "src = cv2.imread(\"./fig/fig/son.jpg\", 0)\n",
    "\n",
    "if src is None:\n",
    "    print(\"src noooo\")\n",
    "    sys.exit()\n",
    "\n",
    "dst = src + 50\n",
    "\n",
    "cv2.imshow(\"src\", src)\n",
    "cv2.imshow(\"dst\", dst)\n",
    "\n",
    "while True:\n",
    "    key = cv2.waitKey()\n",
    "    if key == 27:\n",
    "        break\n",
    "cv2.destroyAllWindows()"
   ]
  },
  {
   "cell_type": "code",
   "execution_count": 36,
   "metadata": {},
   "outputs": [
    {
     "name": "stdout",
     "output_type": "stream",
     "text": [
      "src type =  uint8\n",
      "dst type =  uint8\n"
     ]
    }
   ],
   "source": [
    "# 산술 연산산\n",
    "# numpy array에 클리핑 함수가 있음\n",
    "\n",
    "\n",
    "src = cv2.imread(\"./fig/fig/son.jpg\")\n",
    "\n",
    "if src is None:\n",
    "    print(\"src noooo\")\n",
    "    sys.exit()\n",
    "\n",
    "\n",
    "dst = np.clip(src + 100., 0, 255).astype(np.uint8) # np.clip이 float형식으로 해줘야됨.\n",
    "# clip을 float 값으로 처리를 하고 다시 uint8로 바꿔야 이미지 뜸\n",
    "# # 30을 더하고도 255 안 넘어가게 클리핑 해줌 0~255 사이에 있게 해줌\n",
    "dst2 = cv2.add(src, 100) # cv2에서 쉽게 해주는 함수\n",
    "\n",
    "print(\"src type = \", src.dtype)\n",
    "print(\"dst type = \", dst.dtype)\n",
    "\n",
    "cv2.imshow(\"src\", src)\n",
    "cv2.imshow(\"dst\", dst)\n",
    "cv2.imshow(\"dst1\", dst2)\n",
    "\n",
    "while True:\n",
    "    key = cv2.waitKey()\n",
    "    if key == 27:\n",
    "        break\n",
    "cv2.destroyAllWindows()"
   ]
  },
  {
   "cell_type": "code",
   "execution_count": 51,
   "metadata": {},
   "outputs": [],
   "source": [
    "src1 = cv2.imread(\"./fig/fig/lenna.png\", cv2.IMREAD_COLOR) # 256 * 256\n",
    "#cv2.IMREAD_UNCHANGED : 아무 포맷이나 다 받음\n",
    "black = np.zeros_like(src1) # src1과 같은 크기의 검정 화면 만듦\n",
    "\n",
    "h, w = src1.shape[:2]\n",
    "\n",
    "cv2.circle(black, (w//2, h//2), 80, 200, -1)\n",
    "cv2.circle(black, (w//2, h//2), 40, 50, -1)\n",
    "\n",
    "dst1 = cv2.add(src1, black) # 합쳐져서 나\n",
    "dst2 = cv2.subtract(src1, black) \n",
    "dst3 = cv2.absdiff(src1, black) # 절댓값 씌움\n",
    "dst4 = cv2.addWeighted(src1, 0.5, black, 0.5, 0) # 클리핑을 방지하기 위해서 \n",
    "dst5 = cv2.addWeighted(src1, 0.7, black, 0.3, 0) # 꼭 값의 합이 1이 되도록\n",
    "# addWeighted를 오버랩 하면서 흐려지거나~ 생성되거나~ 할 때 쓰임 이거 아니면 클리핑이 발생!\n",
    "\n",
    "cv2.imshow(\"src1\", src1)\n",
    "cv2.imshow(\"black\", black)\n",
    "cv2.imshow(\"dst1\", dst1)\n",
    "cv2.imshow(\"dst2\", dst2)\n",
    "cv2.imshow(\"dst3\", dst3)\n",
    "cv2.imshow(\"dst4\", dst4)\n",
    "cv2.imshow(\"dst5\", dst5)\n",
    "\n",
    "cv2.waitKey()\n",
    "cv2.destroyAllWindows()"
   ]
  },
  {
   "cell_type": "code",
   "execution_count": 8,
   "metadata": {},
   "outputs": [
    {
     "ename": "error",
     "evalue": "OpenCV(4.10.0) D:\\a\\opencv-python\\opencv-python\\opencv\\modules\\core\\src\\arithm.cpp:661: error: (-209:Sizes of input arguments do not match) The operation is neither 'array op array' (where arrays have the same size and the same number of channels), nor 'array op scalar', nor 'scalar op array' in function 'cv::arithm_op'\n",
     "output_type": "error",
     "traceback": [
      "\u001b[1;31m---------------------------------------------------------------------------\u001b[0m",
      "\u001b[1;31merror\u001b[0m                                     Traceback (most recent call last)",
      "Cell \u001b[1;32mIn[8], line 18\u001b[0m\n\u001b[0;32m     13\u001b[0m resized_glass \u001b[38;5;241m=\u001b[39m cv2\u001b[38;5;241m.\u001b[39mresize(glass, (w, h), interpolation\u001b[38;5;241m=\u001b[39mcv2\u001b[38;5;241m.\u001b[39mINTER_AREA)\n\u001b[0;32m     15\u001b[0m \u001b[38;5;66;03m# x, y, w, h = cv2.selectROI(\"ROI\", dog, True)\u001b[39;00m\n\u001b[0;32m     16\u001b[0m \u001b[38;5;66;03m# print(\"x, y, w, h = \", x, y, w, h)\u001b[39;00m\n\u001b[0;32m     17\u001b[0m \u001b[38;5;66;03m# crop_dog = dog[y: y+h, x: x+w]\u001b[39;00m\n\u001b[1;32m---> 18\u001b[0m cv2\u001b[38;5;241m.\u001b[39madd (dog, resized_glass,)\n\u001b[0;32m     21\u001b[0m \u001b[38;5;28;01mwhile\u001b[39;00m \u001b[38;5;28;01mTrue\u001b[39;00m:\n\u001b[0;32m     22\u001b[0m     key \u001b[38;5;241m=\u001b[39m cv2\u001b[38;5;241m.\u001b[39mwaitKey()\n",
      "\u001b[1;31merror\u001b[0m: OpenCV(4.10.0) D:\\a\\opencv-python\\opencv-python\\opencv\\modules\\core\\src\\arithm.cpp:661: error: (-209:Sizes of input arguments do not match) The operation is neither 'array op array' (where arrays have the same size and the same number of channels), nor 'array op scalar', nor 'scalar op array' in function 'cv::arithm_op'\n"
     ]
    }
   ],
   "source": [
    "import numpy as np\n",
    "import pandas as pd\n",
    "import cv2\n",
    "import sys\n",
    "\n",
    "glass = cv2.imread(\"./fig/fig/glass.png\", cv2.IMREAD_UNCHANGED)\n",
    "dog = cv2.imread(\"./fig/fig/dog.bmp\", cv2.IMREAD_UNCHANGED)\n",
    "if glass is None:\n",
    "    print(\"Image read failed\")\n",
    "    sys.exit()\n",
    "\n",
    "x, y, w, h = cv2.selectROI(dog)\n",
    "resized_glass = cv2.resize(glass, (w, h), interpolation=cv2.INTER_AREA)\n",
    "\n",
    "cv2.add (dog, resized_glass)\n",
    "\n",
    "\n",
    "while True:\n",
    "    key = cv2.waitKey()\n",
    "    if key == 27:\n",
    "        break\n",
    "cv2.destroyAllWindows()"
   ]
  },
  {
   "cell_type": "code",
   "execution_count": 6,
   "metadata": {},
   "outputs": [],
   "source": [
    "import time\n",
    "\n",
    "rose = cv2.imread(\"./fig/fig/rose.jpg\", cv2.IMREAD_COLOR) # 256 * 256\n",
    "white = np.ones_like(rose)*255\n",
    "\n",
    "h, w = rose.shape[:2]\n",
    "\n",
    "weights = np.arange(0, 1, 0.1)\n",
    "for i in weights:\n",
    "    dst = cv2.addWeighted(rose, i , white, 1-i, 0)\n",
    "    cv2.imshow(\"dst\", dst)\n",
    "\n",
    "\n",
    "    if cv2.waitKey(2000) == 27:\n",
    "        break\n",
    "    \n",
    "cv2.destroyAllWindows()\n"
   ]
  },
  {
   "cell_type": "code",
   "execution_count": 15,
   "metadata": {},
   "outputs": [
    {
     "name": "stdout",
     "output_type": "stream",
     "text": [
      "Alpha channel extracted\n"
     ]
    },
    {
     "ename": "error",
     "evalue": "OpenCV(4.10.0) D:\\a\\opencv-python\\opencv-python\\opencv\\modules\\core\\src\\arithm.cpp:661: error: (-209:Sizes of input arguments do not match) The operation is neither 'array op array' (where arrays have the same size and the same number of channels), nor 'array op scalar', nor 'scalar op array' in function 'cv::arithm_op'\n",
     "output_type": "error",
     "traceback": [
      "\u001b[1;31m---------------------------------------------------------------------------\u001b[0m",
      "\u001b[1;31merror\u001b[0m                                     Traceback (most recent call last)",
      "Cell \u001b[1;32mIn[15], line 25\u001b[0m\n\u001b[0;32m     22\u001b[0m     \u001b[38;5;28mprint\u001b[39m(\u001b[38;5;124m\"\u001b[39m\u001b[38;5;124mNo alpha channel found\u001b[39m\u001b[38;5;124m\"\u001b[39m)\n\u001b[0;32m     23\u001b[0m     mask \u001b[38;5;241m=\u001b[39m \u001b[38;5;28;01mNone\u001b[39;00m\n\u001b[1;32m---> 25\u001b[0m sunglass \u001b[38;5;241m=\u001b[39m cv2\u001b[38;5;241m.\u001b[39madd(glass[:,:,:\u001b[38;5;241m3\u001b[39m], dog_resize[:,:,:\u001b[38;5;241m3\u001b[39m])\n\u001b[0;32m     26\u001b[0m cv2\u001b[38;5;241m.\u001b[39mimshow(\u001b[38;5;124m\"\u001b[39m\u001b[38;5;124msunglass\u001b[39m\u001b[38;5;124m\"\u001b[39m, sunglass)\n\u001b[0;32m     28\u001b[0m \u001b[38;5;28;01mwhile\u001b[39;00m \u001b[38;5;28;01mTrue\u001b[39;00m:\n",
      "\u001b[1;31merror\u001b[0m: OpenCV(4.10.0) D:\\a\\opencv-python\\opencv-python\\opencv\\modules\\core\\src\\arithm.cpp:661: error: (-209:Sizes of input arguments do not match) The operation is neither 'array op array' (where arrays have the same size and the same number of channels), nor 'array op scalar', nor 'scalar op array' in function 'cv::arithm_op'\n"
     ]
    }
   ],
   "source": [
    "import numpy as np \n",
    "import pandas as pd\n",
    "import sys\n",
    "import cv2\n",
    "\n",
    "glass = cv2.imread(\"./fig/fig/glass.png\", cv2.IMREAD_UNCHANGED)\n",
    "dog = cv2.imread(\"./fig/fig/dog.bmp\", cv2.IMREAD_UNCHANGED)\n",
    "if glass is None:\n",
    "    print(\"Image read failed\")\n",
    "    sys.exit()\n",
    "\n",
    "\n",
    "dog_resize = cv2.resize(dog, (w, h), interpolation=cv2.INTER_AREA)\n",
    "h, w = dog.shape[:2]\n",
    "\n",
    "\n",
    "# Check if the glass image has an alpha channel\n",
    "if glass.shape[-1] == 4:  # RGBA image\n",
    "    mask = glass[:, :, -1]  # Extract the alpha channel\n",
    "    print(\"Alpha channel extracted\")\n",
    "else:\n",
    "    print(\"No alpha channel found\")\n",
    "    mask = None\n",
    "\n",
    "sunglass = cv2.add(glass[:,:,:3], dog_resize[:,:,:3])\n",
    "cv2.imshow(\"sunglass\", sunglass)\n",
    "\n",
    "while True:\n",
    "    key = cv2.waitKey()\n",
    "    if key == 27:\n",
    "        break\n",
    "cv2.destroyAllWindows()"
   ]
  },
  {
   "cell_type": "code",
   "execution_count": 6,
   "metadata": {},
   "outputs": [
    {
     "ename": "error",
     "evalue": "OpenCV(4.10.0) D:\\a\\opencv-python\\opencv-python\\opencv\\modules\\core\\src\\arithm.cpp:661: error: (-209:Sizes of input arguments do not match) The operation is neither 'array op array' (where arrays have the same size and the same number of channels), nor 'array op scalar', nor 'scalar op array' in function 'cv::arithm_op'\n",
     "output_type": "error",
     "traceback": [
      "\u001b[1;31m---------------------------------------------------------------------------\u001b[0m",
      "\u001b[1;31merror\u001b[0m                                     Traceback (most recent call last)",
      "Cell \u001b[1;32mIn[6], line 16\u001b[0m\n\u001b[0;32m     12\u001b[0m h, w \u001b[38;5;241m=\u001b[39m dog\u001b[38;5;241m.\u001b[39mshape[:\u001b[38;5;241m2\u001b[39m]\n\u001b[0;32m     13\u001b[0m dog_resize \u001b[38;5;241m=\u001b[39m cv2\u001b[38;5;241m.\u001b[39mresize(dog, (w, h), interpolation\u001b[38;5;241m=\u001b[39mcv2\u001b[38;5;241m.\u001b[39mINTER_AREA)\n\u001b[1;32m---> 16\u001b[0m dog_resize \u001b[38;5;241m=\u001b[39m cv2\u001b[38;5;241m.\u001b[39madd(glass, dog_resize)\n\u001b[0;32m     17\u001b[0m cv2\u001b[38;5;241m.\u001b[39mimshow(\u001b[38;5;124m\"\u001b[39m\u001b[38;5;124msunglass\u001b[39m\u001b[38;5;124m\"\u001b[39m, dog_resize)\n\u001b[0;32m     19\u001b[0m \u001b[38;5;28;01mwhile\u001b[39;00m \u001b[38;5;28;01mTrue\u001b[39;00m:\n",
      "\u001b[1;31merror\u001b[0m: OpenCV(4.10.0) D:\\a\\opencv-python\\opencv-python\\opencv\\modules\\core\\src\\arithm.cpp:661: error: (-209:Sizes of input arguments do not match) The operation is neither 'array op array' (where arrays have the same size and the same number of channels), nor 'array op scalar', nor 'scalar op array' in function 'cv::arithm_op'\n"
     ]
    }
   ],
   "source": [
    "import numpy as np \n",
    "import pandas as pd\n",
    "import sys\n",
    "import cv2\n",
    "\n",
    "glass = cv2.imread(\"./fig/fig/glass.png\", cv2.IMREAD_UNCHANGED)\n",
    "dog = cv2.imread(\"./fig/fig/dog.bmp\", cv2.IMREAD_UNCHANGED)\n",
    "if glass is None:\n",
    "    print(\"Image read failed\")\n",
    "    sys.exit()\n",
    "\n",
    "h, w = dog.shape[:2]\n",
    "dog_resize = cv2.resize(dog, (w, h), interpolation=cv2.INTER_AREA)\n",
    "\n",
    "dog_resize = cv2.add(glass, dog_resize)\n",
    "cv2.imshow(\"sunglass\", dog_resize)\n",
    "\n",
    "while True:\n",
    "    key = cv2.waitKey()\n",
    "    if key == 27:\n",
    "        break\n",
    "cv2.destroyAllWindows()"
   ]
  },
  {
   "cell_type": "code",
   "execution_count": null,
   "metadata": {},
   "outputs": [
    {
     "name": "stdout",
     "output_type": "stream",
     "text": [
      "Alpha channel extracted\n"
     ]
    }
   ],
   "source": [
    "import numpy as np \n",
    "import pandas as pd\n",
    "import sys\n",
    "import cv2\n",
    "\n",
    "# Load images\n",
    "glass = cv2.imread(\"./fig/fig/glass.png\", cv2.IMREAD_UNCHANGED)\n",
    "dog = cv2.imread(\"./fig/fig/dog.bmp\", cv2.IMREAD_UNCHANGED)\n",
    "\n",
    "if glass is None or dog is None:\n",
    "    print(\"Image read failed\")\n",
    "    sys.exit()\n",
    "\n",
    "# Get the dimensions of the glass image\n",
    "h, w = glass.shape[:2]\n",
    "\n",
    "# Resize the dog image to match the dimensions of the glass image\n",
    "dog_resize = cv2.resize(dog, (w, h), interpolation=cv2.INTER_AREA)\n",
    "\n",
    "# Check if the glass image has an alpha channel\n",
    "if glass.shape[-1] == 4:  # RGBA image\n",
    "    mask = glass[:, :, -1]  # Extract the alpha channel\n",
    "    glass_rgb = glass[:, :, :3]  # Get the RGB channels\n",
    "    print(\"Alpha channel extracted\")\n",
    "else:\n",
    "    print(\"No alpha channel found\")\n",
    "    mask = None\n",
    "    glass_rgb = glass  # Use as is if no alpha channel\n",
    "\n",
    "# Define ROI (use the top-left corner of the dog image)\n",
    "roi = dog_resize[0:h, 0:w]\n",
    "\n",
    "if mask is not None:\n",
    "    # Create an inverse mask\n",
    "    mask_inv = cv2.bitwise_not(mask)\n",
    "\n",
    "    # Black-out the area of the glass in ROI\n",
    "    dog_bg = cv2.bitwise_and(roi, roi, mask=mask_inv)\n",
    "\n",
    "    # Take only the glass region\n",
    "    glass_fg = cv2.bitwise_and(glass_rgb, glass_rgb, mask=mask)\n",
    "\n",
    "    # Add the two regions\n",
    "    combined = cv2.add(dog_bg, glass_fg)\n",
    "\n",
    "    # Place the combined image back into the original image\n",
    "    dog_resize[0:h, 0:w] = combined\n",
    "else:\n",
    "    print(\"No mask found, adding directly\")\n",
    "    dog_resize[0:h, 0:w] = cv2.addWeighted(roi, 0.5, glass_rgb, 0.5, 0)\n",
    "\n",
    "# Display the resulting image\n",
    "cv2.imshow(\"sunglass\", dog_resize)\n",
    "\n",
    "# Wait for a key press to exit\n",
    "while True:\n",
    "    key = cv2.waitKey()\n",
    "    if key == 27:  # Press 'Esc' to exit\n",
    "        break\n",
    "\n",
    "cv2.destroyAllWindows()\n"
   ]
  }
 ],
 "metadata": {
  "kernelspec": {
   "display_name": "Python 3",
   "language": "python",
   "name": "python3"
  },
  "language_info": {
   "codemirror_mode": {
    "name": "ipython",
    "version": 3
   },
   "file_extension": ".py",
   "mimetype": "text/x-python",
   "name": "python",
   "nbconvert_exporter": "python",
   "pygments_lexer": "ipython3",
   "version": "3.12.4"
  }
 },
 "nbformat": 4,
 "nbformat_minor": 2
}
