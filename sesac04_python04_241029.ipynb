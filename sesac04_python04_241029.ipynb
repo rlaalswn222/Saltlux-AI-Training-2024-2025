{
  "nbformat": 4,
  "nbformat_minor": 0,
  "metadata": {
    "colab": {
      "provenance": [],
      "authorship_tag": "ABX9TyMYxRneopWj5SUYiXi8WlJh",
      "include_colab_link": true
    },
    "kernelspec": {
      "name": "python3",
      "display_name": "Python 3"
    },
    "language_info": {
      "name": "python"
    }
  },
  "cells": [
    {
      "cell_type": "markdown",
      "metadata": {
        "id": "view-in-github",
        "colab_type": "text"
      },
      "source": [
        "<a href=\"https://colab.research.google.com/github/rlaalswn222/sesac_multimodal/blob/main/sesac04_python04_241029.ipynb\" target=\"_parent\"><img src=\"https://colab.research.google.com/assets/colab-badge.svg\" alt=\"Open In Colab\"/></a>"
      ]
    },
    {
      "cell_type": "code",
      "execution_count": 169,
      "metadata": {
        "id": "BTpRBaEZt3-a"
      },
      "outputs": [],
      "source": [
        "class Myclass():\n",
        "  pass"
      ]
    },
    {
      "cell_type": "code",
      "source": [
        "a = Myclass()\n",
        "b = Myclass()\n",
        "c = Myclass()\n"
      ],
      "metadata": {
        "id": "3OiIpaI3uPGw"
      },
      "execution_count": 170,
      "outputs": []
    },
    {
      "cell_type": "code",
      "source": [
        "print(a, b, c)"
      ],
      "metadata": {
        "colab": {
          "base_uri": "https://localhost:8080/"
        },
        "id": "fskKE5buuhru",
        "outputId": "527b519f-4b3b-4fa2-f57c-e98b6593cb98"
      },
      "execution_count": 171,
      "outputs": [
        {
          "output_type": "stream",
          "name": "stdout",
          "text": [
            "<__main__.Myclass object at 0x7ed1903cabc0> <__main__.Myclass object at 0x7ed1903cadd0> <__main__.Myclass object at 0x7ed1903c9b70>\n"
          ]
        }
      ]
    },
    {
      "cell_type": "code",
      "source": [
        "class Account():\n",
        "  def make_account(self):\n",
        "    self.balance = 0\n",
        "  def deposit(self, money):\n",
        "    self.balance += money\n",
        "  def draw(self, money):\n",
        "    self.balance -= money"
      ],
      "metadata": {
        "id": "nChdJ61Puj8-"
      },
      "execution_count": 172,
      "outputs": []
    },
    {
      "cell_type": "code",
      "source": [
        "a1 = Account()\n",
        "a1.make_account()\n",
        "a1.deposit(1000)\n",
        "print(a1.balance)"
      ],
      "metadata": {
        "colab": {
          "base_uri": "https://localhost:8080/"
        },
        "id": "1XLEmpCUvW05",
        "outputId": "16264773-64a7-40e2-98e6-d2ede177b845"
      },
      "execution_count": 173,
      "outputs": [
        {
          "output_type": "stream",
          "name": "stdout",
          "text": [
            "1000\n"
          ]
        }
      ]
    },
    {
      "cell_type": "code",
      "source": [
        "a2 = Account()\n",
        "a2.make_account()\n",
        "a2.deposit(1000)\n",
        "print(a2.balance)\n",
        "#balance는 지역변수라서 a2에서 접근하려 하면 에러"
      ],
      "metadata": {
        "colab": {
          "base_uri": "https://localhost:8080/"
        },
        "id": "29wdCaAmyPav",
        "outputId": "8332167e-2aad-463e-e5b3-eb1e3c3fc19b"
      },
      "execution_count": 174,
      "outputs": [
        {
          "output_type": "stream",
          "name": "stdout",
          "text": [
            "1000\n"
          ]
        }
      ]
    },
    {
      "cell_type": "code",
      "source": [
        "class person():\n",
        "  def __init__ (self): #init 양옆에 언더바 두개 필수 아니면 private되어서 접근 안됨\n",
        "    self.age = 17\n",
        "  def __del__(self):\n",
        "    print(\"소멸자 호출\")"
      ],
      "metadata": {
        "id": "jlVzwjajvka8"
      },
      "execution_count": 175,
      "outputs": []
    },
    {
      "cell_type": "code",
      "source": [
        "p1 = person()"
      ],
      "metadata": {
        "id": "LhuIc_NNwnJ2"
      },
      "execution_count": 176,
      "outputs": []
    },
    {
      "cell_type": "code",
      "source": [
        "p1.age"
      ],
      "metadata": {
        "colab": {
          "base_uri": "https://localhost:8080/"
        },
        "id": "e3RXRmk3wtbS",
        "outputId": "41231484-3c26-4d4d-cf89-3328314025a2"
      },
      "execution_count": 177,
      "outputs": [
        {
          "output_type": "execute_result",
          "data": {
            "text/plain": [
              "17"
            ]
          },
          "metadata": {},
          "execution_count": 177
        }
      ]
    },
    {
      "cell_type": "code",
      "source": [
        "class TestClass1():\n",
        "  def __init__(self, in1, in2):\n",
        "    self.v1 = in1\n",
        "    self.v2 = in2"
      ],
      "metadata": {
        "id": "zXCKwscZwvX1"
      },
      "execution_count": 178,
      "outputs": []
    },
    {
      "cell_type": "code",
      "source": [
        "t_cls2 = TestClass1(10, 20)"
      ],
      "metadata": {
        "id": "cJfj5qv-yKvE"
      },
      "execution_count": 179,
      "outputs": []
    },
    {
      "cell_type": "code",
      "source": [
        "class test():\n",
        "  name = '아무나'\n",
        "  age = 0\n",
        "  def __init__ (self, name, age):\n",
        "    print(\"생성자 호출!\")\n",
        "    self.name = name\n",
        "    self.age = age\n",
        "  def __del__(self):\n",
        "    print(\"소멸자 호출\")\n",
        "  def info(self):\n",
        "    print('나의 이름은', self.name, '입니다')\n",
        "    print('나이는', self.age, '입니다.')\n",
        "\n",
        "r = test('fff', 9)\n"
      ],
      "metadata": {
        "colab": {
          "base_uri": "https://localhost:8080/"
        },
        "id": "51-14IspymYV",
        "outputId": "3db571b7-5689-4aa0-f050-f8c0767ac6b9"
      },
      "execution_count": 180,
      "outputs": [
        {
          "output_type": "stream",
          "name": "stdout",
          "text": [
            "생성자 호출!\n"
          ]
        }
      ]
    },
    {
      "cell_type": "code",
      "source": [
        "r.info()"
      ],
      "metadata": {
        "colab": {
          "base_uri": "https://localhost:8080/"
        },
        "id": "NFSYuzDXzHRj",
        "outputId": "d17b0e88-39d3-4660-9f29-a0ed53736c5c"
      },
      "execution_count": 181,
      "outputs": [
        {
          "output_type": "stream",
          "name": "stdout",
          "text": [
            "나의 이름은 fff 입니다\n",
            "나이는 9 입니다.\n"
          ]
        }
      ]
    },
    {
      "cell_type": "code",
      "source": [
        " test.info() # TypeError: test.info() missing 1 required positional argument: 'self'\n",
        "#인스턴스를 안 받아서 info를 사용하지 못함"
      ],
      "metadata": {
        "colab": {
          "base_uri": "https://localhost:8080/",
          "height": 162
        },
        "id": "YyRvbJHPzukE",
        "outputId": "04a15613-0e6e-4d55-f24c-22840e26363f"
      },
      "execution_count": 183,
      "outputs": [
        {
          "output_type": "error",
          "ename": "TypeError",
          "evalue": "test.info() missing 1 required positional argument: 'self'",
          "traceback": [
            "\u001b[0;31m---------------------------------------------------------------------------\u001b[0m",
            "\u001b[0;31mTypeError\u001b[0m                                 Traceback (most recent call last)",
            "\u001b[0;32m<ipython-input-183-b102dd29276c>\u001b[0m in \u001b[0;36m<cell line: 1>\u001b[0;34m()\u001b[0m\n\u001b[0;32m----> 1\u001b[0;31m \u001b[0mtest\u001b[0m\u001b[0;34m.\u001b[0m\u001b[0minfo\u001b[0m\u001b[0;34m(\u001b[0m\u001b[0;34m)\u001b[0m \u001b[0;31m# TypeError: test.info() missing 1 required positional argument: 'self'\u001b[0m\u001b[0;34m\u001b[0m\u001b[0;34m\u001b[0m\u001b[0m\n\u001b[0m\u001b[1;32m      2\u001b[0m \u001b[0;31m#인스턴스를 안 받아서 info를 사용하지 못함\u001b[0m\u001b[0;34m\u001b[0m\u001b[0;34m\u001b[0m\u001b[0m\n",
            "\u001b[0;31mTypeError\u001b[0m: test.info() missing 1 required positional argument: 'self'"
          ]
        }
      ]
    },
    {
      "cell_type": "code",
      "source": [
        "class CalssExample:\n",
        "  def __init__ (self, name, age): #생성자(Constructor) 셍성 시 자동 수행 인스턴스 자리\n",
        "    self.name = name\n",
        "    self.age = age+5\n",
        "    print('[생성자] self와 변수 비교' + str(self.age) + 'age: ' + str(age))\n",
        "    print('[생성자] 이름: ' + self.name + '나이 : ' +str(self.age))\n",
        "  def ten_year_call(self, val):\n",
        "    return self.age + 10 #반환\n"
      ],
      "metadata": {
        "id": "cnjQt53N0adC"
      },
      "execution_count": 185,
      "outputs": []
    },
    {
      "cell_type": "code",
      "source": [
        "# 위의 변수들이 다르다는 것을 보여주기 위함 다 같은 self.age여도 값이 다르다!\n",
        "a = CalssExample('철수', 20) #name = 철수 age = 20\n",
        "print(a.age) #a의 age\n",
        "print(a.ten_year_call(50)) #a의 ten_year_call 메소드 수행"
      ],
      "metadata": {
        "colab": {
          "base_uri": "https://localhost:8080/"
        },
        "id": "Wzn1AEcH1lEO",
        "outputId": "f497e906-d232-47ab-c526-3d13f03afda3"
      },
      "execution_count": 186,
      "outputs": [
        {
          "output_type": "stream",
          "name": "stdout",
          "text": [
            "[생성자] self와 변수 비교25age: 20\n",
            "[생성자] 이름: 철수나이 : 25\n",
            "25\n",
            "35\n"
          ]
        }
      ]
    },
    {
      "cell_type": "markdown",
      "source": [
        "\n",
        "\n",
        "```\n",
        "\n",
        "class CalssExample:\n",
        "  def __init__ (self, name, age): # 인스턴스 자리\n",
        "    self.name = name\n",
        "    self.age = age+5\n",
        "    print('[생성자] self와 변수 비교' + str(self.age) + 'age: ' + str(age))\n",
        "    print('[생성자] 이름: ' + self.name + '나이 : ' +str(self.age))\n",
        "  def ten_year_call(self, val):\n",
        "    return self.age + 10 #반환\n",
        "위의 변수들이 다르다는 것을 보여주기 위함 다 같은 self.age여도 값이 다르다!\n",
        "a = CalssExample('철수', 20) #name = 철수 age = 20\n",
        "print(a.age) #a의 age\n",
        "print(a.ten_year_call(50)) #a의 ten_year_call 메소드 수행\n",
        "```\n",
        "\n"
      ],
      "metadata": {
        "id": "b8Z6hJWm6bBQ"
      }
    },
    {
      "cell_type": "code",
      "source": [
        "class CustomNumbers:\n",
        "  def __init__ (self):\n",
        "    self._numbers =[n for n in range(1, 11)]\n",
        "\n",
        "a = CustomNumbers()\n"
      ],
      "metadata": {
        "id": "rS_4Sfe-1oKw"
      },
      "execution_count": 187,
      "outputs": []
    },
    {
      "cell_type": "code",
      "source": [
        "#a[2:5] #TypeError: 'CustomNumbers' object is not subscriptable\n",
        "a._numbers[2:5] #[3, 4, 5]"
      ],
      "metadata": {
        "colab": {
          "base_uri": "https://localhost:8080/"
        },
        "id": "BVuHs1pc8ncC",
        "outputId": "5bfd2e7f-e135-4b5e-e69d-5a93a40dfa3c"
      },
      "execution_count": 188,
      "outputs": [
        {
          "output_type": "execute_result",
          "data": {
            "text/plain": [
              "[3, 4, 5]"
            ]
          },
          "metadata": {},
          "execution_count": 188
        }
      ]
    },
    {
      "cell_type": "code",
      "source": [
        "class CustomNumbers:\n",
        "  def __init__ (self):\n",
        "    self._numbers = [n for n in range(1, 11)]\n",
        "\n",
        "  def __getitem__ (self, idx):\n",
        "    return self._numbers[idx]\n",
        "\n",
        "a = CustomNumbers()\n",
        "a[2:7]\n",
        "# python은 오버로딩 안됨 자바에서만 됨"
      ],
      "metadata": {
        "colab": {
          "base_uri": "https://localhost:8080/"
        },
        "id": "yD_37RHU8ykl",
        "outputId": "33d55283-cd7d-465f-e3cb-0f78073f4306"
      },
      "execution_count": 189,
      "outputs": [
        {
          "output_type": "execute_result",
          "data": {
            "text/plain": [
              "[3, 4, 5, 6, 7]"
            ]
          },
          "metadata": {},
          "execution_count": 189
        }
      ]
    },
    {
      "cell_type": "markdown",
      "source": [
        "## 데코레이터\n",
        "\n",
        "인스턴스와 상관없이 사용 가능한 전역 변수로 사용하는 것"
      ],
      "metadata": {
        "id": "r9KBS7We9Zl7"
      }
    },
    {
      "cell_type": "code",
      "source": [
        "class MyClass2():\n",
        "  class_var = '클래스 변수'\n",
        "\n",
        "  @classmethod\n",
        "  def class_method(cls):\n",
        "    print('클래스의 메소드')\n"
      ],
      "metadata": {
        "id": "4snRVYWe9De1"
      },
      "execution_count": 190,
      "outputs": []
    },
    {
      "cell_type": "code",
      "source": [
        "e = MyClass2()\n",
        "print(e.class_var)\n",
        "print(MyClass2.class_var)\n"
      ],
      "metadata": {
        "colab": {
          "base_uri": "https://localhost:8080/"
        },
        "id": "_GwURD2n-QoF",
        "outputId": "d4ee796d-aa83-4830-8b27-a2b5722519fc"
      },
      "execution_count": 191,
      "outputs": [
        {
          "output_type": "stream",
          "name": "stdout",
          "text": [
            "클래스 변수\n",
            "클래스 변수\n"
          ]
        }
      ]
    },
    {
      "cell_type": "code",
      "source": [
        "e.class_method()\n",
        "MyClass2.class_method()"
      ],
      "metadata": {
        "colab": {
          "base_uri": "https://localhost:8080/"
        },
        "id": "OfhQVKw8-6RC",
        "outputId": "818c7384-3323-48b8-8a2d-3e7d58919f52"
      },
      "execution_count": 192,
      "outputs": [
        {
          "output_type": "stream",
          "name": "stdout",
          "text": [
            "클래스의 메소드\n",
            "클래스의 메소드\n"
          ]
        }
      ]
    },
    {
      "cell_type": "markdown",
      "source": [
        "# 클래스 메소드\n",
        "연산을 먼저하고 변수 선언을 해도 됨\n",
        "전역 변수가 됨\n",
        "\n",
        "@classmethod"
      ],
      "metadata": {
        "id": "VP82QLrGAHka"
      }
    },
    {
      "cell_type": "code",
      "source": [
        "class Account2():\n",
        "  bank = '모두은행'\n",
        "  total = 0\n",
        "\n",
        "  @classmethod\n",
        "  def merge(cls, acc1, acc2): #merge함수 호출하면 실행 acc1이랑 acc2 둘다 넣어야됨\n",
        "    cls.total = acc1.balance + acc2.balance\n",
        "    print('당신의 재산은 %d' %cls.total)\n",
        "  def __init__(self):\n",
        "    self.balance = 0\n",
        "  def desposit(self, money): #잔고 채우기\n",
        "    self.balance += money\n",
        "  def draw(self, money): #잔고 빼기\n",
        "    self.balance -=money"
      ],
      "metadata": {
        "id": "6Pf4XSXL_Kva"
      },
      "execution_count": 193,
      "outputs": []
    },
    {
      "cell_type": "code",
      "source": [
        "b1 = Account2()\n",
        "b1.desposit(4000)\n",
        "print(b1.balance)\n",
        "print(b1.bank)\n"
      ],
      "metadata": {
        "colab": {
          "base_uri": "https://localhost:8080/"
        },
        "id": "S4LWdjAa_ZKu",
        "outputId": "86e27290-86fb-4391-ee08-0f037e5fbcb4"
      },
      "execution_count": 194,
      "outputs": [
        {
          "output_type": "stream",
          "name": "stdout",
          "text": [
            "4000\n",
            "모두은행\n"
          ]
        }
      ]
    },
    {
      "cell_type": "code",
      "source": [
        "b2 = Account2()\n",
        "b2.desposit(7000)\n",
        "print(b2.balance)\n",
        "print(b2.bank)"
      ],
      "metadata": {
        "colab": {
          "base_uri": "https://localhost:8080/"
        },
        "id": "H2zahTKq_75y",
        "outputId": "de358f6f-1a64-4e06-eb53-c3c72c837124"
      },
      "execution_count": 195,
      "outputs": [
        {
          "output_type": "stream",
          "name": "stdout",
          "text": [
            "7000\n",
            "모두은행\n"
          ]
        }
      ]
    },
    {
      "cell_type": "code",
      "source": [
        "Account2.merge(b1, b2)"
      ],
      "metadata": {
        "colab": {
          "base_uri": "https://localhost:8080/"
        },
        "id": "pu56GBVmA8wk",
        "outputId": "e3b36a93-3dc8-4368-c5c5-2f8065640ca7"
      },
      "execution_count": 196,
      "outputs": [
        {
          "output_type": "stream",
          "name": "stdout",
          "text": [
            "당신의 재산은 11000\n"
          ]
        }
      ]
    },
    {
      "cell_type": "code",
      "source": [
        "Account2.total #merge 안에 있는 cls.total 함수 실행"
      ],
      "metadata": {
        "colab": {
          "base_uri": "https://localhost:8080/"
        },
        "id": "mriZaDrvBIAH",
        "outputId": "c8ca40db-d4b2-4458-d6e1-ebe248a7340f"
      },
      "execution_count": 197,
      "outputs": [
        {
          "output_type": "execute_result",
          "data": {
            "text/plain": [
              "11000"
            ]
          },
          "metadata": {},
          "execution_count": 197
        }
      ]
    },
    {
      "cell_type": "code",
      "source": [
        "class Hotel():\n",
        "  def __init__(self):\n",
        "    self.room = []\n",
        "\n",
        "  def add_person(self, name):\n",
        "    self.room.append(name)\n",
        ""
      ],
      "metadata": {
        "id": "0tWPVM_8BPiG"
      },
      "execution_count": 198,
      "outputs": []
    },
    {
      "cell_type": "code",
      "source": [
        "r1 = Hotel() #인스턴스로 받음\n",
        "r2 = Hotel()\n",
        "\n",
        "r1.add_person('뽀로로') #add_person으로 부름 인스턴스 변수이기 때문에 밖으로 빼낼 수가 없음 room이랑 person이 같은걸로 판단함\n",
        "r2.add_person('펭수')"
      ],
      "metadata": {
        "id": "C2RN2u4dBrOR"
      },
      "execution_count": 199,
      "outputs": []
    },
    {
      "cell_type": "code",
      "source": [
        "Hotel.room #AttributeError: type object 'Hotel' has no attribute 'room'"
      ],
      "metadata": {
        "colab": {
          "base_uri": "https://localhost:8080/",
          "height": 144
        },
        "id": "12me2bLyCE2z",
        "outputId": "1532714b-16db-4951-93cf-853dba82db6a"
      },
      "execution_count": 200,
      "outputs": [
        {
          "output_type": "error",
          "ename": "AttributeError",
          "evalue": "type object 'Hotel' has no attribute 'room'",
          "traceback": [
            "\u001b[0;31m---------------------------------------------------------------------------\u001b[0m",
            "\u001b[0;31mAttributeError\u001b[0m                            Traceback (most recent call last)",
            "\u001b[0;32m<ipython-input-200-06a50de3d228>\u001b[0m in \u001b[0;36m<cell line: 1>\u001b[0;34m()\u001b[0m\n\u001b[0;32m----> 1\u001b[0;31m \u001b[0mHotel\u001b[0m\u001b[0;34m.\u001b[0m\u001b[0mroom\u001b[0m \u001b[0;31m#AttributeError: type object 'Hotel' has no attribute 'room'\u001b[0m\u001b[0;34m\u001b[0m\u001b[0;34m\u001b[0m\u001b[0m\n\u001b[0m",
            "\u001b[0;31mAttributeError\u001b[0m: type object 'Hotel' has no attribute 'room'"
          ]
        }
      ]
    },
    {
      "cell_type": "code",
      "source": [
        "class GuestHouse():\n",
        "\n",
        "  guest = []\n",
        "\n",
        "  def __init__ (self):\n",
        "    self.room = []\n",
        "\n",
        "  @classmethod\n",
        "  def check_in(cls, name):\n",
        "    cls.guest.append(name)\n",
        "\n",
        "  def add_person(self, name):\n",
        "    self.check_in(name)\n",
        "    self.room.append(name)"
      ],
      "metadata": {
        "id": "YMr-7w7sCOdM"
      },
      "execution_count": 201,
      "outputs": []
    },
    {
      "cell_type": "code",
      "source": [
        "r3 = GuestHouse()\n",
        "r4 = GuestHouse()\n",
        "\n",
        "r3.check_in('뚝딱이')\n",
        "r4.check_in('뿡뿡이')"
      ],
      "metadata": {
        "id": "RK2bXImICtJA"
      },
      "execution_count": 202,
      "outputs": []
    },
    {
      "cell_type": "code",
      "source": [
        "GuestHouse.guest #guest는 클래스 메소드에 있음"
      ],
      "metadata": {
        "colab": {
          "base_uri": "https://localhost:8080/"
        },
        "id": "Dbny4mDTC3ud",
        "outputId": "3cd828d9-3629-4475-877b-0b3f6ce1b6ae"
      },
      "execution_count": 203,
      "outputs": [
        {
          "output_type": "execute_result",
          "data": {
            "text/plain": [
              "['뚝딱이', '뿡뿡이']"
            ]
          },
          "metadata": {},
          "execution_count": 203
        }
      ]
    },
    {
      "cell_type": "code",
      "source": [
        "r3.room #add_person을 하기 전까지는 room이 비어있음"
      ],
      "metadata": {
        "colab": {
          "base_uri": "https://localhost:8080/"
        },
        "id": "H05GtT34C65L",
        "outputId": "cfc55ef6-3702-4346-dacd-535f5d815b0c"
      },
      "execution_count": 204,
      "outputs": [
        {
          "output_type": "execute_result",
          "data": {
            "text/plain": [
              "[]"
            ]
          },
          "metadata": {},
          "execution_count": 204
        }
      ]
    },
    {
      "cell_type": "code",
      "source": [
        "r4.room"
      ],
      "metadata": {
        "colab": {
          "base_uri": "https://localhost:8080/"
        },
        "id": "BjoFaBeKDCs0",
        "outputId": "94264023-712c-49bd-dc42-18f3d9c52f02"
      },
      "execution_count": 205,
      "outputs": [
        {
          "output_type": "execute_result",
          "data": {
            "text/plain": [
              "[]"
            ]
          },
          "metadata": {},
          "execution_count": 205
        }
      ]
    },
    {
      "cell_type": "code",
      "source": [
        "r3.add_person('홍길동')\n",
        "r4.add_person('텔레토비')"
      ],
      "metadata": {
        "id": "uD4-IovRDDfI"
      },
      "execution_count": 206,
      "outputs": []
    },
    {
      "cell_type": "code",
      "source": [
        "r3.room #add_person을 하고 난 후에는 room에 인원이 있음"
      ],
      "metadata": {
        "colab": {
          "base_uri": "https://localhost:8080/"
        },
        "id": "mJpnvEqBDF77",
        "outputId": "3ad18895-080e-4de8-8e9c-b81f1856476c"
      },
      "execution_count": 207,
      "outputs": [
        {
          "output_type": "execute_result",
          "data": {
            "text/plain": [
              "['홍길동']"
            ]
          },
          "metadata": {},
          "execution_count": 207
        }
      ]
    },
    {
      "cell_type": "code",
      "source": [
        "r4.room"
      ],
      "metadata": {
        "colab": {
          "base_uri": "https://localhost:8080/"
        },
        "id": "t4whp8pwDKhL",
        "outputId": "0cb9b8d1-a7f2-4ad2-b79a-c34e21a256c6"
      },
      "execution_count": 208,
      "outputs": [
        {
          "output_type": "execute_result",
          "data": {
            "text/plain": [
              "['텔레토비']"
            ]
          },
          "metadata": {},
          "execution_count": 208
        }
      ]
    },
    {
      "cell_type": "code",
      "source": [
        "GuestHouse.guest #guest인원 모두 room 배정 안 받은 게스트도 출력\n",
        "#check_in을 한 뚝딱이랑 뿡뿡이만 나오는게 아니라 방을 배정 받으면서 자동으로 checkin이 되어서 홍길동과 텔레토비도 나옴"
      ],
      "metadata": {
        "colab": {
          "base_uri": "https://localhost:8080/"
        },
        "id": "4_Bh1MePDLit",
        "outputId": "9eec8454-72d2-4e9f-8ba7-bdd46f2d3582"
      },
      "execution_count": 209,
      "outputs": [
        {
          "output_type": "execute_result",
          "data": {
            "text/plain": [
              "['뚝딱이', '뿡뿡이', '홍길동', '텔레토비']"
            ]
          },
          "metadata": {},
          "execution_count": 209
        }
      ]
    },
    {
      "cell_type": "markdown",
      "source": [
        "# 클래스 상속\n",
        "상속: 부모의 클래스를 물려받음\n",
        "\n",
        "부모 클래스의 함수, 변수를 자식 클래스가 그대로 사용\n",
        "\n"
      ],
      "metadata": {
        "id": "gUjYChx9D89e"
      }
    },
    {
      "cell_type": "code",
      "source": [
        "class MyPhone():\n",
        "  def __init__ (self, model, color):\n",
        "    self.model = model\n",
        "    self.color = color\n",
        "\n",
        "  def set_name(self, name):\n",
        "    self.user = name\n",
        "    print(\"사용자의 이름은: %s\" %self.user)\n",
        "\n",
        "  def set_number(self, number):\n",
        "    self.number = number\n",
        "\n",
        "class MyPhone2(MyPhone): #자식클래스\n",
        "  def has_case(self, val=False):\n",
        "    self.case = val #자식클래스의 새로운 메소드 사용가능\n"
      ],
      "metadata": {
        "id": "ireQXJYEDXaK"
      },
      "execution_count": 210,
      "outputs": []
    },
    {
      "cell_type": "code",
      "source": [
        "p2 = MyPhone2('iphone', 'red')"
      ],
      "metadata": {
        "id": "q-d81TMfERr0"
      },
      "execution_count": 212,
      "outputs": []
    },
    {
      "cell_type": "code",
      "source": [
        "p2.set_name(\"MJ\")"
      ],
      "metadata": {
        "colab": {
          "base_uri": "https://localhost:8080/"
        },
        "id": "u3-Ul6cYE7-S",
        "outputId": "50de11b4-f7c2-4088-c9db-3179f98ce432"
      },
      "execution_count": 213,
      "outputs": [
        {
          "output_type": "stream",
          "name": "stdout",
          "text": [
            "사용자의 이름은: MJ\n"
          ]
        }
      ]
    },
    {
      "cell_type": "code",
      "source": [
        "p2.has_case(True)"
      ],
      "metadata": {
        "id": "VgSdX120E-x9"
      },
      "execution_count": 214,
      "outputs": []
    },
    {
      "cell_type": "code",
      "source": [
        "p2.case"
      ],
      "metadata": {
        "colab": {
          "base_uri": "https://localhost:8080/"
        },
        "id": "9H-0FYeIFEqz",
        "outputId": "8aceeb60-be3e-4034-f6b7-d0ae51aeb410"
      },
      "execution_count": 215,
      "outputs": [
        {
          "output_type": "execute_result",
          "data": {
            "text/plain": [
              "True"
            ]
          },
          "metadata": {},
          "execution_count": 215
        }
      ]
    },
    {
      "cell_type": "code",
      "source": [
        "p2.set_number('01010')"
      ],
      "metadata": {
        "id": "2Qig-pFHFGOS"
      },
      "execution_count": 216,
      "outputs": []
    },
    {
      "cell_type": "code",
      "source": [
        "class MyPhone():\n",
        "  def __init__ (self, model, color):\n",
        "    self.model = model\n",
        "    self.color = color\n",
        "\n",
        "  def set_name(self, name):\n",
        "    self.user = name\n",
        "    print(\"사용자의 이름은: %s\" %self.user)\n",
        "\n",
        "  def set_number(self, number):\n",
        "    self.number = number\n",
        "\n",
        "class MyPhone3(MyPhone):\n",
        "  def set_number(self, num):\n",
        "    self.number = num\n",
        "    print('이 핸드폰의 번호는 : %s' %self.number)\n"
      ],
      "metadata": {
        "id": "50d9DIXoFJJg"
      },
      "execution_count": 217,
      "outputs": []
    },
    {
      "cell_type": "code",
      "source": [
        "p3 = MyPhone3('iphone', 'red')\n",
        "p3.set_number(\"010-xxxx-xxxx\")"
      ],
      "metadata": {
        "colab": {
          "base_uri": "https://localhost:8080/"
        },
        "id": "n38NnmfYGKUX",
        "outputId": "d727e7bb-b4b0-415b-adad-b7f9af77058e"
      },
      "execution_count": 218,
      "outputs": [
        {
          "output_type": "stream",
          "name": "stdout",
          "text": [
            "이 핸드폰의 번호는 : 010-xxxx-xxxx\n"
          ]
        }
      ]
    },
    {
      "cell_type": "code",
      "source": [
        "class Human():\n",
        "  def __init__ (self, birth_date, sex, nation):\n",
        "    self.birth_date = birth_date\n",
        "    self.sex = sex\n",
        "    self.nation = nation\n",
        "\n",
        "  def give_name(self, name):\n",
        "    self.name = name\n",
        "    print(name)\n",
        "\n",
        "  def can_sing(self, val=True):\n",
        "    self.case = val\n",
        "    if val == True:\n",
        "      print('Sing a song')"
      ],
      "metadata": {
        "id": "SAitVAl9GNyo"
      },
      "execution_count": 226,
      "outputs": []
    },
    {
      "cell_type": "code",
      "source": [
        "h1 = Human('020202', 'F', '한국')\n",
        "h1.give_name('김민주')\n",
        "h1.can_sing(True)\n",
        "h1.can_sing(False)"
      ],
      "metadata": {
        "colab": {
          "base_uri": "https://localhost:8080/"
        },
        "id": "0AKyRwt9HNU_",
        "outputId": "d1b21d6a-6565-4a81-e427-7421091dccda"
      },
      "execution_count": 227,
      "outputs": [
        {
          "output_type": "stream",
          "name": "stdout",
          "text": [
            "김민주\n",
            "Sing a song\n"
          ]
        }
      ]
    },
    {
      "cell_type": "code",
      "source": [
        "class Human():\n",
        "  def __init__ (self, birth_date, sex, nation):\n",
        "    self.birth_date = birth_date\n",
        "    self.sex = sex\n",
        "    self.nation = nation\n",
        "\n",
        "  def give_name(self, name):\n",
        "    self.name = name\n",
        "    print(name)\n",
        "\n",
        "  def can_sing(self, val=True):\n",
        "    self.can_sing = val\n",
        "    if val == True:\n",
        "      print('Sing a song')\n",
        "\n",
        "class Child(Human):\n",
        "  def set_case(self, eye):\n",
        "    self.eye = eye\n",
        "\n",
        "  def can_sing(self, val=False):\n",
        "    self.can_sing = val\n",
        "    print(\"Can't sing\")\n",
        "\n",
        "  def can_dance(self, val=True):\n",
        "    self.can_dance = val\n",
        "    if val == True:\n",
        "      print('Dance Time!')\n",
        "    else:\n",
        "      val = True"
      ],
      "metadata": {
        "id": "fCPvAeaiHbCI"
      },
      "execution_count": 221,
      "outputs": []
    },
    {
      "cell_type": "code",
      "source": [
        "# 선생님 답\n",
        "class Human():\n",
        "  def __init__ (self, bd, s, n):\n",
        "    self.birth_date = bd\n",
        "    self.sex = s\n",
        "    self.nation = n\n",
        "\n",
        "  def give_name(self, name):\n",
        "    self.name = name\n",
        "    print('이름은 %s 입니다' %self.name)\n",
        "\n",
        "  def can_sing(self, ability):\n",
        "    if ability:\n",
        "      print('Sing a song')"
      ],
      "metadata": {
        "id": "hkHw71x_c7b1"
      },
      "execution_count": 228,
      "outputs": []
    },
    {
      "cell_type": "code",
      "source": [
        "class Child(Human):\n",
        "  def __init__ (self, bd, s, n, eye):\n",
        "    self.birth_date = bd\n",
        "    self.sex = s\n",
        "    self.nation = n\n",
        "    self.eye = eye\n",
        "  def can_sing (self):\n",
        "    print(\"Can't sing\")\n",
        "  def can_dance(self):\n",
        "    print('Dance Time!')"
      ],
      "metadata": {
        "id": "m-pjox29eFWT"
      },
      "execution_count": 231,
      "outputs": []
    },
    {
      "cell_type": "code",
      "source": [
        "c1 = Child('020202', 'F', '한국', 'black')\n",
        "c1.nation\n",
        "c1.can_sing()\n",
        "c1.can_dance()"
      ],
      "metadata": {
        "colab": {
          "base_uri": "https://localhost:8080/"
        },
        "id": "vpFo612SHxfG",
        "outputId": "f14f58c3-7f08-45bf-9bf4-558c360c1482"
      },
      "execution_count": 234,
      "outputs": [
        {
          "output_type": "stream",
          "name": "stdout",
          "text": [
            "Can't sing\n",
            "Dance Time!\n"
          ]
        }
      ]
    },
    {
      "cell_type": "code",
      "source": [
        "class childSuper(Human):\n",
        "  def __init__ (self, bd, s, n, eye):\n",
        "    super(). __init(bd, s, n) #super사용\n",
        "    self.eye = eye\n",
        "  def can_sing(self):\n",
        "    print(\"Can't sing\")\n",
        "  def can_dance(self):\n",
        "    print('Dance Time!')"
      ],
      "metadata": {
        "id": "2dHdCvfTI3Ov"
      },
      "execution_count": 235,
      "outputs": []
    },
    {
      "cell_type": "markdown",
      "source": [
        "#모듈\n",
        "함수나 변수, 클래스 등을 가진 파일(.py, .ipynb)\n",
        "모듈 안에 함수, 클래스 변수 정의되어 있음\n",
        "\n",
        "import ~~"
      ],
      "metadata": {
        "id": "Y4yD0qJdgS4i"
      }
    },
    {
      "cell_type": "code",
      "source": [
        "import math\n",
        "math.factorial(4)"
      ],
      "metadata": {
        "colab": {
          "base_uri": "https://localhost:8080/"
        },
        "id": "hL9fIxv1gNZb",
        "outputId": "99b5b934-bf75-4f17-9765-82f3b88dab80"
      },
      "execution_count": 236,
      "outputs": [
        {
          "output_type": "execute_result",
          "data": {
            "text/plain": [
              "24"
            ]
          },
          "metadata": {},
          "execution_count": 236
        }
      ]
    },
    {
      "cell_type": "markdown",
      "source": [
        "# 예외 처리 try except문\n",
        "* try: 실행코드 오류나나 확인\n",
        "* except: 예외처리 코드 오류가 발생하면 이걸 실행\n",
        "* else: 예외 처리할 오류가 없을때\n",
        "* finally: 오류 발생 상관없이 무조건 실행\n",
        "* raise: 오류 일부러 발생"
      ],
      "metadata": {
        "id": "bWOjtGTUgqlU"
      }
    },
    {
      "cell_type": "code",
      "source": [
        "try:\n",
        "  int('11')\n",
        "except ValueError as m:\n",
        "  print(m)\n",
        "else:\n",
        "  print('NoError')"
      ],
      "metadata": {
        "colab": {
          "base_uri": "https://localhost:8080/"
        },
        "id": "MX85xP5Wgn4U",
        "outputId": "38b8527e-f1db-4f2a-eb55-4ade22829172"
      },
      "execution_count": 237,
      "outputs": [
        {
          "output_type": "stream",
          "name": "stdout",
          "text": [
            "NoError\n"
          ]
        }
      ]
    },
    {
      "cell_type": "code",
      "source": [
        "for _ in ['11', 'number', 'in']:\n",
        "  try:\n",
        "    int(_)\n",
        "  except ValueError as m:\n",
        "    print(m)\n",
        "  else: #try, except둘 다 아니면\n",
        "    print('No Error!')\n",
        "  finally: #항상 실행\n",
        "    print('Finally Code')\n",
        "  print('\\n')"
      ],
      "metadata": {
        "colab": {
          "base_uri": "https://localhost:8080/"
        },
        "id": "oR8Uhum6hJfA",
        "outputId": "991bca9c-56e1-483d-f08a-5d22277f2c2e"
      },
      "execution_count": 241,
      "outputs": [
        {
          "output_type": "stream",
          "name": "stdout",
          "text": [
            "No Error!\n",
            "Finally Code\n",
            "\n",
            "\n",
            "invalid literal for int() with base 10: 'number'\n",
            "Finally Code\n",
            "\n",
            "\n",
            "invalid literal for int() with base 10: 'in'\n",
            "Finally Code\n",
            "\n",
            "\n"
          ]
        }
      ]
    },
    {
      "cell_type": "markdown",
      "source": [
        "# assert\n",
        "오류가 나면 그 뒤의 실행이 멈춤"
      ],
      "metadata": {
        "id": "Cs1g7zSOieV6"
      }
    },
    {
      "cell_type": "code",
      "source": [
        "school = {'1반': [150, 156, 179, 191, 198], '2반': [150, 195, 179, 191, 199]}\n",
        "\n",
        "try:\n",
        "  for class_number, students in school.items():\n",
        "    for student in students:\n",
        "      if student > 190:\n",
        "        print(class_number, '190을 넘는 학생이 있습니다.')\n",
        "\n",
        "        raise StopIteration\n",
        "\n",
        "except StopIteration:\n",
        "  print('정상종료')"
      ],
      "metadata": {
        "colab": {
          "base_uri": "https://localhost:8080/"
        },
        "id": "xY8p0fLnhc8V",
        "outputId": "a012cf05-e606-4a9b-ecb5-bf242f943343"
      },
      "execution_count": 245,
      "outputs": [
        {
          "output_type": "stream",
          "name": "stdout",
          "text": [
            "1반 190을 넘는 학생이 있습니다.\n",
            "정상종료\n"
          ]
        }
      ]
    },
    {
      "cell_type": "code",
      "source": [
        "a = 10\n",
        "\n",
        "#True 인경우\n",
        "print(\"1. assert True인 경우\")\n",
        "assert a == 10, \"a is not 10\"\n",
        "\n",
        "print('끝!')\n",
        "#False인 경우\n",
        "print(\"2. assert Flase인 경우\")\n",
        "assert a == 999, \"a is not 999\"\n",
        "\n",
        "print('끝2!')"
      ],
      "metadata": {
        "colab": {
          "base_uri": "https://localhost:8080/",
          "height": 269
        },
        "id": "6YYsEogZiorB",
        "outputId": "c481c9fe-061a-4736-c040-e7d339380ffc"
      },
      "execution_count": 248,
      "outputs": [
        {
          "output_type": "stream",
          "name": "stdout",
          "text": [
            "1. assert True인 경우\n",
            "끝!\n",
            "2. assert Flase인 경우\n"
          ]
        },
        {
          "output_type": "error",
          "ename": "AssertionError",
          "evalue": "a is not 999",
          "traceback": [
            "\u001b[0;31m---------------------------------------------------------------------------\u001b[0m",
            "\u001b[0;31mAssertionError\u001b[0m                            Traceback (most recent call last)",
            "\u001b[0;32m<ipython-input-248-0c60524bd3d5>\u001b[0m in \u001b[0;36m<cell line: 10>\u001b[0;34m()\u001b[0m\n\u001b[1;32m      8\u001b[0m \u001b[0;31m#False인 경우\u001b[0m\u001b[0;34m\u001b[0m\u001b[0;34m\u001b[0m\u001b[0m\n\u001b[1;32m      9\u001b[0m \u001b[0mprint\u001b[0m\u001b[0;34m(\u001b[0m\u001b[0;34m\"2. assert Flase인 경우\"\u001b[0m\u001b[0;34m)\u001b[0m\u001b[0;34m\u001b[0m\u001b[0;34m\u001b[0m\u001b[0m\n\u001b[0;32m---> 10\u001b[0;31m \u001b[0;32massert\u001b[0m \u001b[0ma\u001b[0m \u001b[0;34m==\u001b[0m \u001b[0;36m999\u001b[0m\u001b[0;34m,\u001b[0m \u001b[0;34m\"a is not 999\"\u001b[0m\u001b[0;34m\u001b[0m\u001b[0;34m\u001b[0m\u001b[0m\n\u001b[0m\u001b[1;32m     11\u001b[0m \u001b[0;34m\u001b[0m\u001b[0m\n\u001b[1;32m     12\u001b[0m \u001b[0mprint\u001b[0m\u001b[0;34m(\u001b[0m\u001b[0;34m'끝2!'\u001b[0m\u001b[0;34m)\u001b[0m\u001b[0;34m\u001b[0m\u001b[0;34m\u001b[0m\u001b[0m\n",
            "\u001b[0;31mAssertionError\u001b[0m: a is not 999"
          ]
        }
      ]
    },
    {
      "cell_type": "code",
      "source": [
        "sum = 0\n",
        "\n",
        "while True:\n",
        "    num = input(\"숫자를 입력하세요(합계를 보고싶으면 s, S): \")\n",
        "\n",
        "    if num.lower() == 's':\n",
        "        print(f\"합계: {sum}\")\n",
        "        break\n",
        "\n",
        "    try:\n",
        "        sum += int(num)\n",
        "    except ValueError:\n",
        "        print(\"숫자를 입력하세요(합계를 보고싶으면 s, S):\")\n",
        ""
      ],
      "metadata": {
        "colab": {
          "base_uri": "https://localhost:8080/"
        },
        "id": "a2G--FFxjHyY",
        "outputId": "343fe276-52d2-43a9-c581-287de0734179"
      },
      "execution_count": 249,
      "outputs": [
        {
          "output_type": "stream",
          "name": "stdout",
          "text": [
            "숫자를 입력하세요(합계를 보고싶으면 s, S): 30\n",
            "숫자를 입력하세요(합계를 보고싶으면 s, S): 40\n",
            "숫자를 입력하세요(합계를 보고싶으면 s, S): 90\n",
            "숫자를 입력하세요(합계를 보고싶으면 s, S): s\n",
            "합계: 160\n"
          ]
        }
      ]
    },
    {
      "cell_type": "code",
      "source": [
        "sum = 0\n",
        "d = 1\n",
        "\n",
        "while(d==1):\n",
        "  num = input(\"숫자를 입력하세요(합계를 보고싶으면 s, S): \")\n",
        "\n",
        "  try:\n",
        "    if (num.lower() =='s'):\n",
        "      print(f\"합계: {sum}\")\n",
        "      d = 0 # break\n",
        "    else:\n",
        "      sum += int(num )\n",
        "  except:\n",
        "    continue\n"
      ],
      "metadata": {
        "colab": {
          "base_uri": "https://localhost:8080/"
        },
        "id": "nifgNt70kRsG",
        "outputId": "6ca5110c-4195-48ce-808c-eeb7cebc774e"
      },
      "execution_count": 251,
      "outputs": [
        {
          "output_type": "stream",
          "name": "stdout",
          "text": [
            "숫자를 입력하세요(합계를 보고싶으면 s, S): 40\n",
            "숫자를 입력하세요(합계를 보고싶으면 s, S): 50\n",
            "숫자를 입력하세요(합계를 보고싶으면 s, S): 90\n",
            "숫자를 입력하세요(합계를 보고싶으면 s, S): 20\n",
            "숫자를 입력하세요(합계를 보고싶으면 s, S): s\n",
            "합계: 200\n"
          ]
        }
      ]
    },
    {
      "cell_type": "code",
      "source": [],
      "metadata": {
        "id": "Vv8Ms7nemDyc"
      },
      "execution_count": null,
      "outputs": []
    }
  ]
}