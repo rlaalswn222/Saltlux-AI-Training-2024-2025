{
  "nbformat": 4,
  "nbformat_minor": 0,
  "metadata": {
    "colab": {
      "provenance": [],
      "authorship_tag": "ABX9TyMHdLUbhIlxD3MvD7KB29o0",
      "include_colab_link": true
    },
    "kernelspec": {
      "name": "python3",
      "display_name": "Python 3"
    },
    "language_info": {
      "name": "python"
    }
  },
  "cells": [
    {
      "cell_type": "markdown",
      "metadata": {
        "id": "view-in-github",
        "colab_type": "text"
      },
      "source": [
        "<a href=\"https://colab.research.google.com/github/rlaalswn222/sesac_multimodal/blob/main/sesac01_python01_241024.ipynb\" target=\"_parent\"><img src=\"https://colab.research.google.com/assets/colab-badge.svg\" alt=\"Open In Colab\"/></a>"
      ]
    },
    {
      "cell_type": "code",
      "execution_count": null,
      "metadata": {
        "colab": {
          "base_uri": "https://localhost:8080/"
        },
        "id": "UmiN-Vs0ES5X",
        "outputId": "93b7e154-3cde-48b3-f62b-c4c1522d0952"
      },
      "outputs": [
        {
          "output_type": "stream",
          "name": "stdout",
          "text": [
            "9\n",
            "2\n",
            "11\n",
            "18\n",
            "4.5\n",
            "7\n",
            "1\n",
            "4\n",
            "81\n",
            "a+b\n"
          ]
        }
      ],
      "source": [
        "a = 9; # 할당연산자\n",
        "b = 2;\n",
        "c = a+b;\n",
        "d = a*b;\n",
        "e= a/b;\n",
        "f = a-b;\n",
        "g = a%b;\n",
        "h = a//b;\n",
        "i = a**b;\n",
        "print(a);\n",
        "print(b);\n",
        "print(c);\n",
        "print(d);\n",
        "print(e);\n",
        "print(f);\n",
        "print(g);\n",
        "print(h);\n",
        "print(i);\n",
        "print(\"a+b\") # 문자열 출력"
      ]
    },
    {
      "cell_type": "code",
      "source": [
        "a+=1; # 띄어 쓰기 불가\n",
        "print(a)\n"
      ],
      "metadata": {
        "colab": {
          "base_uri": "https://localhost:8080/"
        },
        "id": "CPkNKRS6EatW",
        "outputId": "bf82a0f9-61a0-4e0c-9430-b4b9a112d4c3"
      },
      "execution_count": null,
      "outputs": [
        {
          "output_type": "stream",
          "name": "stdout",
          "text": [
            "10\n"
          ]
        }
      ]
    },
    {
      "cell_type": "code",
      "source": [
        "str_5 = '인덱싱을 하기 위한 string 입니다.'\n",
        "print(len(str_5))\n",
        "print(str_5[2])\n",
        "print(str_5[11:17])\n",
        "print(str_5.upper())"
      ],
      "metadata": {
        "id": "Ctx-wLsjNWvo",
        "colab": {
          "base_uri": "https://localhost:8080/"
        },
        "outputId": "28583b05-4f0c-4191-ed7e-31d955ecad22"
      },
      "execution_count": null,
      "outputs": [
        {
          "output_type": "stream",
          "name": "stdout",
          "text": [
            "22\n",
            "싱\n",
            "string\n",
            "인덱싱을 하기 위한 STRING 입니다.\n"
          ]
        }
      ]
    },
    {
      "cell_type": "code",
      "source": [
        "str_6 = '안녕하세요. 홍길동 고객님!'\n",
        "print(str_6)\n",
        "print(str_6[:])\n",
        "print(str_6[:2])\n",
        "print(str_6[11:])\n",
        "print(str_6[0:11:2])\n",
        "print(str_6[::-1]) # 마이너스 인덱싱 지원\n",
        "print(str_6[::2])"
      ],
      "metadata": {
        "colab": {
          "base_uri": "https://localhost:8080/"
        },
        "id": "sLCWXDLuU3UV",
        "outputId": "753d680c-7d6c-495d-c2a2-5bf7a4bc1c86"
      },
      "execution_count": null,
      "outputs": [
        {
          "output_type": "stream",
          "name": "stdout",
          "text": [
            "안녕하세요. 홍길동 고객님!\n",
            "안녕하세요. 홍길동 고객님!\n",
            "안녕\n",
            "고객님!\n",
            "안하요 길 \n",
            "!님객고 동길홍 .요세하녕안\n",
            "안하요 길 객!\n"
          ]
        }
      ]
    },
    {
      "cell_type": "code",
      "source": [
        "str_7 = 'Alpabet'\n",
        "print(str_7.upper())\n",
        "print(str_7.upper) # 기계어\n",
        "print(str_7.lower())\n",
        "print(str_7.capitalize())\n",
        "print(str_7.count('a')) # 소문자만 카운팅\n",
        "print(str_7.lower().count('a'))\n",
        "#print(str_7.count('a').lower()) -> 1을 소문자로 바꿈 x\n",
        "print(str_7.find('t')) # 인덱스 위치 변환\n",
        "print(str_7.find('z')) # 없으면 -1"
      ],
      "metadata": {
        "colab": {
          "base_uri": "https://localhost:8080/"
        },
        "id": "8P4Y0IpdYa8N",
        "outputId": "3cd0f5d7-a4c5-44b3-9fc2-87c6a8be8f1e"
      },
      "execution_count": null,
      "outputs": [
        {
          "output_type": "stream",
          "name": "stdout",
          "text": [
            "ALPABET\n",
            "<built-in method upper of str object at 0x7c55a0a7c5f0>\n",
            "alpabet\n",
            "Alpabet\n",
            "1\n",
            "2\n",
            "6\n",
            "-1\n"
          ]
        }
      ]
    },
    {
      "cell_type": "code",
      "source": [
        "str_8 = 'Life is C between B and D'\n",
        "print(str_8.replace('C', 'Chicken'))\n",
        "print(str_8.split()) #List\n",
        "print(str_8.strip())\n",
        "print(str_8.split('i')) # List\n",
        "print(str_8.strip().split('i'))\n",
        "print(str_8.join('abc'))"
      ],
      "metadata": {
        "id": "2kCoHTT0YsBh",
        "colab": {
          "base_uri": "https://localhost:8080/"
        },
        "outputId": "ec87a95d-480a-480f-b3d3-d611d82e8bcb"
      },
      "execution_count": null,
      "outputs": [
        {
          "output_type": "stream",
          "name": "stdout",
          "text": [
            "Life is Chicken between B and D\n",
            "['Life', 'is', 'C', 'between', 'B', 'and', 'D']\n",
            "Life is C between B and D\n",
            "['L', 'fe ', 's C between B and D']\n",
            "['L', 'fe ', 's C between B and D']\n",
            "aLife is C between B and DbLife is C between B and Dc\n"
          ]
        }
      ]
    },
    {
      "cell_type": "markdown",
      "source": [
        "### 리스트\n",
        "리스트는 삽입, 수정, 삭제 자유로움\n",
        "\n",
        "2차원 리스트[ ] [ ]\n",
        "\n",
        "row, cloumn\n",
        "\n",
        "-----\n",
        "\n",
        "### 튜플\n",
        "튜플은 삽입, 수정, 삭제가 어려움\n",
        "\n",
        "\n"
      ],
      "metadata": {
        "id": "8W-mhhE-yaIt"
      }
    },
    {
      "cell_type": "code",
      "source": [
        "a=[[10, 20], [30, 40], [50, 60]]\n",
        "print(a[0][0])\n",
        "print(a)"
      ],
      "metadata": {
        "colab": {
          "base_uri": "https://localhost:8080/"
        },
        "id": "Gew_vF5gzIQt",
        "outputId": "a4c8e204-714f-4a43-e8bb-ab127bd193c2"
      },
      "execution_count": null,
      "outputs": [
        {
          "output_type": "stream",
          "name": "stdout",
          "text": [
            "10\n",
            "[[10, 20], [30, 40], [50, 60]]\n"
          ]
        }
      ]
    },
    {
      "cell_type": "code",
      "source": [
        "list_4 = [[1, 2, 3, 4], [5, 6, 7, 8], [9, 10, 11, 12]]\n",
        "for i in list_4:\n",
        "    print(i)"
      ],
      "metadata": {
        "colab": {
          "base_uri": "https://localhost:8080/"
        },
        "id": "IFTC3A-70E-5",
        "outputId": "a4f71336-3753-42dc-eab3-59c244e9f6e4"
      },
      "execution_count": null,
      "outputs": [
        {
          "output_type": "stream",
          "name": "stdout",
          "text": [
            "[1, 2, 3, 4]\n",
            "[5, 6, 7, 8]\n",
            "[9, 10, 11, 12]\n"
          ]
        }
      ]
    },
    {
      "cell_type": "code",
      "source": [
        "list_5 = [[[1, 2, 3],[4], [5,[6,7,8,9]]],\n",
        "          [10, 11,[12, 13,[14]]]]\n",
        "print(list_5[:1][0][0])"
      ],
      "metadata": {
        "colab": {
          "base_uri": "https://localhost:8080/"
        },
        "id": "X1ZIi3eO0eql",
        "outputId": "5b0dddb9-811e-41f6-cea6-05a7159815d3"
      },
      "execution_count": null,
      "outputs": [
        {
          "output_type": "stream",
          "name": "stdout",
          "text": [
            "[1, 2, 3]\n"
          ]
        }
      ]
    },
    {
      "cell_type": "code",
      "source": [
        "list_6 = ['a', 'b', 'c']\n",
        "list_7 = ['가', '나', '다']\n",
        "print(list_6+list_7)\n",
        "print(list_6*3)"
      ],
      "metadata": {
        "colab": {
          "base_uri": "https://localhost:8080/"
        },
        "id": "cQxgx2In1TFm",
        "outputId": "fb1c2376-c78e-44cc-d2f3-cf3312222421"
      },
      "execution_count": null,
      "outputs": [
        {
          "output_type": "stream",
          "name": "stdout",
          "text": [
            "['a', 'b', 'c', '가', '나', '다']\n",
            "['a', 'b', 'c', 'a', 'b', 'c', 'a', 'b', 'c']\n"
          ]
        }
      ]
    },
    {
      "cell_type": "code",
      "source": [
        "list_8 = ['파이썬', 'C', 'Java', 'R', 'JavaScript']\n",
        "list_8.append('C++') # 리스트 맨 뒤에 추가\n",
        "print(list_8)"
      ],
      "metadata": {
        "colab": {
          "base_uri": "https://localhost:8080/"
        },
        "id": "gNier91T1vcr",
        "outputId": "b0a12d88-8d56-453e-eb07-e622203744f9"
      },
      "execution_count": null,
      "outputs": [
        {
          "output_type": "stream",
          "name": "stdout",
          "text": [
            "['파이썬', 'C', 'Java', 'R', 'JavaScript', 'C++']\n"
          ]
        }
      ]
    },
    {
      "cell_type": "code",
      "source": [
        "list_8.insert(2, 'C#') #원하는 위치에 추가, 계속 누적되어서 추가됨\n",
        "print(list_8)"
      ],
      "metadata": {
        "colab": {
          "base_uri": "https://localhost:8080/"
        },
        "id": "Iyib0Cxd3aGF",
        "outputId": "800ffe22-35d8-4de5-a735-310a9d059683"
      },
      "execution_count": null,
      "outputs": [
        {
          "output_type": "stream",
          "name": "stdout",
          "text": [
            "['파이썬', 'C', 'C#', 'Java', 'R', 'JavaScript', 'C++']\n"
          ]
        }
      ]
    },
    {
      "cell_type": "code",
      "source": [
        "list_8.pop() #맨 뒤부터 빼냄"
      ],
      "metadata": {
        "colab": {
          "base_uri": "https://localhost:8080/",
          "height": 35
        },
        "id": "8mGFwgSH3qZH",
        "outputId": "d0ec31a7-d354-447f-f460-69b513054dd0"
      },
      "execution_count": null,
      "outputs": [
        {
          "output_type": "execute_result",
          "data": {
            "text/plain": [
              "'JavaScript'"
            ],
            "application/vnd.google.colaboratory.intrinsic+json": {
              "type": "string"
            }
          },
          "metadata": {},
          "execution_count": 75
        }
      ]
    },
    {
      "cell_type": "code",
      "source": [
        "list_9 = [1, 5, 7, 2, 6]\n",
        "print(sorted(list_9)) # 오름차순\n",
        "print(list_9)\n",
        "list_9.sort()\n",
        "print(list_9) # 정렬 후 리스트 출력\n",
        "list_9.sort(reverse=True) # 정렬된 리스트 reverse\n",
        "print(list_9)"
      ],
      "metadata": {
        "colab": {
          "base_uri": "https://localhost:8080/"
        },
        "id": "2ervUezu5LzV",
        "outputId": "d4ebdcbb-5982-4f70-8ec1-21a026e47ffb"
      },
      "execution_count": null,
      "outputs": [
        {
          "output_type": "stream",
          "name": "stdout",
          "text": [
            "[1, 2, 5, 6, 7]\n",
            "[1, 5, 7, 2, 6]\n",
            "[1, 2, 5, 6, 7]\n",
            "[7, 6, 5, 2, 1]\n"
          ]
        }
      ]
    },
    {
      "cell_type": "code",
      "source": [
        "a = [10, 9, 8, 7, 6]\n",
        "b = [5, 4, 3, 2, 1]\n",
        "print(id(a), id(b))"
      ],
      "metadata": {
        "colab": {
          "base_uri": "https://localhost:8080/"
        },
        "id": "HZ1WTqSq54da",
        "outputId": "7a702cb0-66f0-447f-da35-ad23cea98b92"
      },
      "execution_count": null,
      "outputs": [
        {
          "output_type": "stream",
          "name": "stdout",
          "text": [
            "136706586224128 136706589000064\n"
          ]
        }
      ]
    },
    {
      "cell_type": "code",
      "source": [
        "b = a\n",
        "a.sort()\n",
        "print(b)\n"
      ],
      "metadata": {
        "colab": {
          "base_uri": "https://localhost:8080/"
        },
        "id": "L5_unlNv6S7c",
        "outputId": "4d263c13-905c-40df-d820-90bd07ff7e62"
      },
      "execution_count": null,
      "outputs": [
        {
          "output_type": "stream",
          "name": "stdout",
          "text": [
            "[6, 7, 8, 9, 10]\n"
          ]
        }
      ]
    },
    {
      "cell_type": "markdown",
      "source": [
        "**2차원에서는** 안 됨 따라서 deepcopy 사용!!"
      ],
      "metadata": {
        "id": "_F7nYDBE7e1H"
      }
    },
    {
      "cell_type": "code",
      "source": [
        "a = [5, 4, 3, 2, 1]\n",
        "b=a[:]\n",
        "print(id(a), id(b)) # 메모리 주소\n",
        "\n",
        "print(b)\n",
        "\n",
        "a. sort()\n",
        "print(a)\n",
        "print(b)"
      ],
      "metadata": {
        "colab": {
          "base_uri": "https://localhost:8080/"
        },
        "id": "65Gw_5jQ6qqY",
        "outputId": "fdacedc1-84c6-4869-f6fb-28713e77ad4f"
      },
      "execution_count": null,
      "outputs": [
        {
          "output_type": "stream",
          "name": "stdout",
          "text": [
            "136707215864064 136706589006208\n",
            "[5, 4, 3, 2, 1]\n",
            "[1, 2, 3, 4, 5]\n",
            "[5, 4, 3, 2, 1]\n"
          ]
        }
      ]
    },
    {
      "cell_type": "code",
      "source": [
        "a =[5, 4, 3, 2, 1]\n",
        "b = a.copy()\n",
        "print(id(a), id(b))\n",
        "a.sort()\n",
        "print(a)\n",
        "print(b)\n",
        "print(a)"
      ],
      "metadata": {
        "colab": {
          "base_uri": "https://localhost:8080/"
        },
        "id": "YVm3GBNN67Ak",
        "outputId": "624638bf-1a7a-4692-bf14-b58277838ff8"
      },
      "execution_count": null,
      "outputs": [
        {
          "output_type": "stream",
          "name": "stdout",
          "text": [
            "136706586227072 136706586388480\n",
            "[1, 2, 3, 4, 5]\n",
            "[5, 4, 3, 2, 1]\n",
            "[1, 2, 3, 4, 5]\n"
          ]
        }
      ]
    },
    {
      "cell_type": "code",
      "source": [
        "import copy\n",
        "\n",
        "a = [[1, 2], [3, 4]]\n",
        "b = a.copy()  # 얕은 복사\n",
        "print(id(a), id(b))  # 서로 다른 id 출력\n",
        "\n",
        "# 바깥 리스트의 id는 다르지만, 내부 리스트는 같은 객체를 참조\n",
        "print(id(a[0]), id(b[0]))  # 동일한 id 출력 (내부 리스트는 같은 객체)\n",
        "print(id(a[1]), id(b[1]))  # 동일한 id 출력\n",
        "\n",
        "# a의 내부 리스트 변경\n",
        "a[0][0] = 99\n",
        "\n",
        "print(a)  # [[99, 2], [3, 4]]\n",
        "print(b)  # [[99, 2], [3, 4]]  --> b도 영향을 받음\n"
      ],
      "metadata": {
        "colab": {
          "base_uri": "https://localhost:8080/"
        },
        "id": "NDn4Xnm894DF",
        "outputId": "878ab436-505f-4ec2-9c4d-e5ba992161db"
      },
      "execution_count": null,
      "outputs": [
        {
          "output_type": "stream",
          "name": "stdout",
          "text": [
            "136706586169472 136706586172288\n",
            "136706597691648 136706597691648\n",
            "136706586168576 136706586168576\n",
            "[[99, 2], [3, 4]]\n",
            "[[99, 2], [3, 4]]\n"
          ]
        }
      ]
    },
    {
      "cell_type": "markdown",
      "source": [
        "### 깊은 복사, 얕은 복사\n"
      ],
      "metadata": {
        "id": "c41ZWkIT7Ruh"
      }
    },
    {
      "cell_type": "code",
      "source": [
        "import copy\n",
        "a = [5, 4, 3, 2, 1]\n",
        "b = copy.deepcopy(a) # 깊은 복사 참조값, 메모리값을 다르게 복사하는것들을 참조한다고 함\n",
        "print(id(a), id(b))\n",
        "a.sort()\n",
        "print(a)\n",
        "print(b)"
      ],
      "metadata": {
        "colab": {
          "base_uri": "https://localhost:8080/"
        },
        "id": "KSCvrYMQ7Cyc",
        "outputId": "a8e1ae29-a514-4128-9b41-2b34f8a7afc7"
      },
      "execution_count": null,
      "outputs": [
        {
          "output_type": "stream",
          "name": "stdout",
          "text": [
            "136706601295296 136707210895872\n",
            "[1, 2, 3, 4, 5]\n",
            "[5, 4, 3, 2, 1]\n"
          ]
        }
      ]
    },
    {
      "cell_type": "code",
      "source": [
        "import copy\n",
        "\n",
        "a = [[1, 2], [3, 4]]\n",
        "b = copy.deepcopy(a)  # 깊은 복사\n",
        "print(id(a), id(b))  # 서로 다른 id 출력\n",
        "\n",
        "# 바깥 리스트와 내부 리스트 모두 다른 객체로 복사됨\n",
        "print(id(a[0]), id(b[0]))  # 다른 id 출력\n",
        "print(id(a[1]), id(b[1]))  # 다른 id 출력\n",
        "\n",
        "# a의 내부 리스트 변경\n",
        "a[0][0] = 99\n",
        "\n",
        "print(a)  # [[99, 2], [3, 4]]\n",
        "print(b)  # [[1, 2], [3, 4]]  --> b는 영향을 받지 않음\n"
      ],
      "metadata": {
        "colab": {
          "base_uri": "https://localhost:8080/"
        },
        "id": "tSvKbKlc96WR",
        "outputId": "c11a80cb-42da-4cc4-a936-42df5dbb6894"
      },
      "execution_count": null,
      "outputs": [
        {
          "output_type": "stream",
          "name": "stdout",
          "text": [
            "136706588920768 136707209328192\n",
            "136706586383040 136706586389504\n",
            "136707209396096 136706586257664\n",
            "[[99, 2], [3, 4]]\n",
            "[[1, 2], [3, 4]]\n"
          ]
        }
      ]
    },
    {
      "cell_type": "code",
      "source": [
        "a = [[1, 2], [3, 4]]\n",
        "print(a)\n",
        "b=a[:]\n",
        "print(b) #b의 내용이 a의 내용과 같아짐\n",
        "a[0][1] = 100\n",
        "print(a)"
      ],
      "metadata": {
        "colab": {
          "base_uri": "https://localhost:8080/"
        },
        "id": "gFR-7Ta-7_8N",
        "outputId": "1ef0afad-c167-4448-8fee-5f015b61a9a7"
      },
      "execution_count": null,
      "outputs": [
        {
          "output_type": "stream",
          "name": "stdout",
          "text": [
            "[[1, 2], [3, 4]]\n",
            "[[1, 2], [3, 4]]\n",
            "[[1, 100], [3, 4]]\n"
          ]
        }
      ]
    },
    {
      "cell_type": "markdown",
      "source": [
        "## Stack\n",
        "\n",
        "뒤에서부터 꺼냄\n",
        " ## Queue\n",
        "\n",
        "앞에서부터 꺼냄\n",
        "\n",
        "## Tuple 튜플\n",
        "삽입, 삭제, 수정 불가능"
      ],
      "metadata": {
        "id": "QOE4z-9_AsHw"
      }
    },
    {
      "cell_type": "code",
      "source": [
        "tuple_1 = ()\n",
        "tuple_2 = tuple()\n",
        "tuple_3 = (1, 2)\n",
        "tuple_4 = (3, ) #가변 공간\n",
        "tuple_5 = 4, 5\n",
        "\n",
        "print(tuple_1)\n",
        "print(tuple_2)\n",
        "print(tuple_3)\n",
        "print(tuple_4)\n",
        "print(tuple_5)"
      ],
      "metadata": {
        "colab": {
          "base_uri": "https://localhost:8080/"
        },
        "id": "u1IM8VrAA1lI",
        "outputId": "b0ab7828-7773-407d-d915-a23752e196be"
      },
      "execution_count": null,
      "outputs": [
        {
          "output_type": "stream",
          "name": "stdout",
          "text": [
            "()\n",
            "()\n",
            "(1, 2)\n",
            "(3,)\n",
            "(4, 5)\n"
          ]
        }
      ]
    },
    {
      "cell_type": "markdown",
      "source": [
        "## Dictionary\n",
        "\n",
        "딕셔너리 {}\n",
        "\n",
        "키를 통해서 value에 접근 가능"
      ],
      "metadata": {
        "id": "q5-pMdZEBO0B"
      }
    },
    {
      "cell_type": "code",
      "source": [
        "dict_3 = {'홍길동': 100, '홍계월': 200}\n",
        "print(dict_3)\n",
        "print(dict_3['홍길동'])\n",
        "\n",
        "dict_3['홍길동'] = 300\n",
        "print(dict_3)\n",
        "dict_3['슈퍼맨'] = 400\n",
        "print(dict_3)\n",
        "\n",
        "del dict_3['홍길동'] #삭제\n",
        "print(dict_3)\n",
        "print(\"==============\")\n",
        "print(dict_3.keys())\n",
        "print(dict_3.values())\n",
        "print(dict_3.items())"
      ],
      "metadata": {
        "colab": {
          "base_uri": "https://localhost:8080/"
        },
        "id": "4XHFiqN_BNsf",
        "outputId": "5b0af2dc-cb48-432b-de5c-6b473d7538cb"
      },
      "execution_count": null,
      "outputs": [
        {
          "output_type": "stream",
          "name": "stdout",
          "text": [
            "{'홍길동': 100, '홍계월': 200}\n",
            "100\n",
            "{'홍길동': 300, '홍계월': 200}\n",
            "{'홍길동': 300, '홍계월': 200, '슈퍼맨': 400}\n",
            "{'홍계월': 200, '슈퍼맨': 400}\n",
            "==============\n",
            "dict_keys(['홍계월', '슈퍼맨'])\n",
            "dict_values([200, 400])\n",
            "dict_items([('홍계월', 200), ('슈퍼맨', 400)])\n"
          ]
        }
      ]
    },
    {
      "cell_type": "code",
      "source": [
        "dict_4 = {'홍길동': 100, '홍계월': 200, '슈퍼맨': 400, '배트맨': 500}\n",
        "print(dict_4.keys())\n",
        "print(dict_4.values())\n",
        "print(dict_4.items())\n",
        "print(type(dict_4.keys())) # 타입 변환\n",
        "print(type(dict_4.values()))\n",
        "print(type(dict_4.items()))"
      ],
      "metadata": {
        "colab": {
          "base_uri": "https://localhost:8080/"
        },
        "id": "AuXyoBcuCSSW",
        "outputId": "6b30c386-3aa3-4f6d-83a7-9f41fd5b4777"
      },
      "execution_count": null,
      "outputs": [
        {
          "output_type": "stream",
          "name": "stdout",
          "text": [
            "dict_keys(['홍길동', '홍계월', '슈퍼맨', '배트맨'])\n",
            "dict_values([100, 200, 400, 500])\n",
            "dict_items([('홍길동', 100), ('홍계월', 200), ('슈퍼맨', 400), ('배트맨', 500)])\n",
            "<class 'dict_keys'>\n",
            "<class 'dict_values'>\n",
            "<class 'dict_items'>\n"
          ]
        }
      ]
    },
    {
      "cell_type": "code",
      "source": [],
      "metadata": {
        "id": "bFgPy3KiCrHu"
      },
      "execution_count": null,
      "outputs": []
    },
    {
      "cell_type": "markdown",
      "source": [
        "## set\n",
        "중복허용하지 않음\n",
        "\n",
        "문자는 문자끼리 숫자는 숫자끼리\n"
      ],
      "metadata": {
        "id": "dy3ZxPudEC6s"
      }
    },
    {
      "cell_type": "code",
      "source": [
        "set_5 = {1, 2, 3, 4}\n",
        "\n"
      ],
      "metadata": {
        "id": "1ytB7_hUEJLN"
      },
      "execution_count": null,
      "outputs": []
    },
    {
      "cell_type": "code",
      "source": [
        "3 and 5 #숫자로 인식 논리연산자"
      ],
      "metadata": {
        "colab": {
          "base_uri": "https://localhost:8080/"
        },
        "id": "7c6d04OJEmhP",
        "outputId": "f10d7800-985b-4063-dc67-6dbffde93582"
      },
      "execution_count": null,
      "outputs": [
        {
          "output_type": "execute_result",
          "data": {
            "text/plain": [
              "5"
            ]
          },
          "metadata": {},
          "execution_count": 110
        }
      ]
    },
    {
      "cell_type": "code",
      "source": [
        "3 & 5 #비트연산자 bit 2진수로 바꾸어서 계산 3 = 011, 5 = 101 둘 다 참일 경우만 해서 보면 001"
      ],
      "metadata": {
        "colab": {
          "base_uri": "https://localhost:8080/"
        },
        "id": "HSx1YDj0Eouz",
        "outputId": "45124bb5-3ec9-4c52-bab7-cec94a7eafea"
      },
      "execution_count": null,
      "outputs": [
        {
          "output_type": "execute_result",
          "data": {
            "text/plain": [
              "1"
            ]
          },
          "metadata": {},
          "execution_count": 112
        }
      ]
    },
    {
      "cell_type": "code",
      "source": [
        "3 and 7"
      ],
      "metadata": {
        "colab": {
          "base_uri": "https://localhost:8080/"
        },
        "id": "sJE6KgiNGd0x",
        "outputId": "fcdc76aa-0d0c-42db-b0c9-6932c74a80be"
      },
      "execution_count": null,
      "outputs": [
        {
          "output_type": "execute_result",
          "data": {
            "text/plain": [
              "7"
            ]
          },
          "metadata": {},
          "execution_count": 115
        }
      ]
    },
    {
      "cell_type": "code",
      "source": [
        "3 & 7 #011 & 0111 -> 011 = 3"
      ],
      "metadata": {
        "colab": {
          "base_uri": "https://localhost:8080/"
        },
        "id": "_ug8hBmxGSvL",
        "outputId": "8cd6b24f-206a-4960-e3d5-63c202e70b1c"
      },
      "execution_count": null,
      "outputs": [
        {
          "output_type": "execute_result",
          "data": {
            "text/plain": [
              "3"
            ]
          },
          "metadata": {},
          "execution_count": 114
        }
      ]
    },
    {
      "cell_type": "markdown",
      "source": [
        "## if 조건문\n",
        "\n",
        "if\n",
        "\n",
        "else\n",
        "\n",
        "**elif**"
      ],
      "metadata": {
        "id": "vv0QRThNHwFD"
      }
    },
    {
      "cell_type": "code",
      "source": [
        "money = False\n",
        "\n",
        "if money:\n",
        "  print(\"여행을 간다\")\n",
        "else:\n",
        "  print(\"여행을 못간다\")"
      ],
      "metadata": {
        "colab": {
          "base_uri": "https://localhost:8080/"
        },
        "id": "ZZHwv13tH7Jn",
        "outputId": "2bc36a02-7251-44f6-cdd6-47032155acd9"
      },
      "execution_count": null,
      "outputs": [
        {
          "output_type": "stream",
          "name": "stdout",
          "text": [
            "여행을 못간다\n"
          ]
        }
      ]
    },
    {
      "cell_type": "code",
      "source": [
        "money = 30000\n",
        "\n",
        "if money<1000:\n",
        "  print(\"굶는다\")\n",
        "elif 1000<=money<5000:\n",
        "  print(\"라면을 먹는다\")\n",
        "elif 5000<=money<25000:\n",
        "  print(\"치킨을 먹는다\")\n",
        "elif 25000<=money<30000:\n",
        "  print(\"삼겹살을 먹는다\")\n",
        "else:\n",
        "  print(\"소고기를 먹는다\")"
      ],
      "metadata": {
        "colab": {
          "base_uri": "https://localhost:8080/"
        },
        "id": "HwKNWV_0JYPd",
        "outputId": "ca6881f6-a6ec-4bcd-bbfc-82501d42f454"
      },
      "execution_count": null,
      "outputs": [
        {
          "output_type": "stream",
          "name": "stdout",
          "text": [
            "소고기를 먹는다\n"
          ]
        }
      ]
    },
    {
      "cell_type": "code",
      "source": [
        "money = 4000 # 속도고려하면 이게 더 좋음 먼저 골라놓고, if문\n",
        "if money>=0:\n",
        "  if money<5000:\n",
        "    print(\"라면을 먹는다\")\n",
        "  elif 5000<=money<25000:\n",
        "    print(\"치킨을 먹는다\")\n",
        "  elif 25000<=money<30000:\n",
        "    print(\"삼겹살을 먹는다\")\n",
        "  else:\n",
        "    print(\"소고기를 먹는다\")\n",
        "else:\n",
        "  print(\"굶는다\")"
      ],
      "metadata": {
        "colab": {
          "base_uri": "https://localhost:8080/"
        },
        "id": "GSUQ6UcuJdLT",
        "outputId": "979e7eaf-eab8-4b8a-e39b-1fe4d1de563f"
      },
      "execution_count": null,
      "outputs": [
        {
          "output_type": "stream",
          "name": "stdout",
          "text": [
            "라면을 먹는다\n"
          ]
        }
      ]
    },
    {
      "cell_type": "markdown",
      "source": [
        "### 삼항연산자\n",
        "condition이 참이면 true_value 값을 취하고, 거짓이면 flase_value 값을 취함\n",
        "\n",
        "`[true_value] if [condition] else [false_value]`"
      ],
      "metadata": {
        "id": "LOX6bquJSk8e"
      }
    },
    {
      "cell_type": "code",
      "source": [
        "# 기본 if 문\n",
        "value = 20\n",
        "\n",
        "if value%2==0:\n",
        "  is_even = True\n",
        "else:\n",
        "  is_even = False\n",
        "\n",
        "print(is_even)"
      ],
      "metadata": {
        "colab": {
          "base_uri": "https://localhost:8080/"
        },
        "id": "1RFVK62yNKCw",
        "outputId": "576210d4-4dbb-4b8c-bcba-42476f50f95d"
      },
      "execution_count": null,
      "outputs": [
        {
          "output_type": "stream",
          "name": "stdout",
          "text": [
            "True\n"
          ]
        }
      ]
    },
    {
      "cell_type": "code",
      "source": [
        "# 삼항 연산자\n",
        "value = 20\n",
        "is_even = True if value%2==0 else False\n",
        "print(is_even)"
      ],
      "metadata": {
        "colab": {
          "base_uri": "https://localhost:8080/"
        },
        "id": "SUKz5kTLTDdw",
        "outputId": "e2f0eeb0-7776-417c-c303-54d61a15b686"
      },
      "execution_count": null,
      "outputs": [
        {
          "output_type": "stream",
          "name": "stdout",
          "text": [
            "True\n"
          ]
        }
      ]
    },
    {
      "cell_type": "code",
      "source": [
        "name ='김민주'\n",
        "print('여긴 입력하는 칸! %s' %name)\n",
        "#print('여긴 이름 입력하는 칸! %d', name) 사이에 반점 아님\n"
      ],
      "metadata": {
        "colab": {
          "base_uri": "https://localhost:8080/"
        },
        "id": "9kLRQKTEUKGK",
        "outputId": "c07fa8ee-2053-4d2a-d39f-72eef66141a9"
      },
      "execution_count": null,
      "outputs": [
        {
          "output_type": "stream",
          "name": "stdout",
          "text": [
            "여긴 입력하는 칸! 김민주\n"
          ]
        }
      ]
    },
    {
      "cell_type": "code",
      "source": [
        "num = 1\n",
        "print('문자열 포맷팅하기 예시: %d' %num)"
      ],
      "metadata": {
        "colab": {
          "base_uri": "https://localhost:8080/"
        },
        "id": "qZawL6OdTJJi",
        "outputId": "5228398c-7c86-43f6-97ec-32b51c9fbeb6"
      },
      "execution_count": null,
      "outputs": [
        {
          "output_type": "stream",
          "name": "stdout",
          "text": [
            "문자열 포맷팅하기 예시: 1\n"
          ]
        }
      ]
    },
    {
      "cell_type": "code",
      "source": [
        "print('문자열 포맷팅하기 예시 {}'.format(2))"
      ],
      "metadata": {
        "colab": {
          "base_uri": "https://localhost:8080/"
        },
        "id": "aPaSkKrmVrZo",
        "outputId": "66b742d8-efda-487d-8772-f92e595d680c"
      },
      "execution_count": null,
      "outputs": [
        {
          "output_type": "stream",
          "name": "stdout",
          "text": [
            "문자열 포맷팅하기 예시 2\n"
          ]
        }
      ]
    },
    {
      "cell_type": "code",
      "source": [
        "# f-string 방식\n",
        "print(f'문자열 포맷팅하기 예시: {num}')\n",
        "# format에서 안됨"
      ],
      "metadata": {
        "colab": {
          "base_uri": "https://localhost:8080/"
        },
        "id": "ox0tBXgHW8Gg",
        "outputId": "8d18c3ad-c94e-4a75-85da-e9b55e2bc461"
      },
      "execution_count": null,
      "outputs": [
        {
          "output_type": "stream",
          "name": "stdout",
          "text": [
            "문자열 포맷팅하기 예시: 1\n"
          ]
        }
      ]
    },
    {
      "cell_type": "code",
      "source": [
        "print('나는 오늘 %s를 %d +1 잔이나 마셨다' %('커피', 1))\n",
        "print('나는 오늘 {음료}를 {개수} +1 잔이나 마셨다'.format(음료 = '커피', 개수 = 1))\n",
        "#print('나는 오늘 {음료}를 {개수+1} 잔이나 마셨다'.format(음료 = '커피', 개수 = 1))\n",
        "# key value error 개수+1 때문에\n",
        "\n",
        "#f string\n",
        "drink = '커피'\n",
        "num = 3\n",
        "print(f'나는 오늘 {\"커피\"}를 {num +1} 잔이나 마셨다')"
      ],
      "metadata": {
        "colab": {
          "base_uri": "https://localhost:8080/"
        },
        "id": "p1jK9MrvXCxc",
        "outputId": "c113c76a-9785-497a-92a7-4247b36eb295"
      },
      "execution_count": null,
      "outputs": [
        {
          "output_type": "stream",
          "name": "stdout",
          "text": [
            "나는 오늘 커피를 1 +1 잔이나 마셨다\n",
            "나는 오늘 커피를 1 +1 잔이나 마셨다\n",
            "나는 오늘 커피를 4 잔이나 마셨다\n"
          ]
        }
      ]
    },
    {
      "cell_type": "markdown",
      "source": [
        "# 5-1\n",
        "B로 A를 나눈 나머지가 3 초과면 실패, 3이면 무승부, 3 미만이면 성공이 출력되도록 만들어보자\n",
        "\n",
        "입력\n",
        "\n",
        "a = 34\n",
        "\n",
        "b = 4"
      ],
      "metadata": {
        "id": "g44qf8z9Ydqj"
      }
    },
    {
      "cell_type": "code",
      "source": [
        "a = 34\n",
        "b = 4\n",
        "\n",
        "if a%b>3:\n",
        "  print('실패')\n",
        "elif a%b==3:\n",
        "  print('무승부')\n",
        "else:\n",
        "  print('성공')"
      ],
      "metadata": {
        "colab": {
          "base_uri": "https://localhost:8080/"
        },
        "id": "sa4ohol2YNBs",
        "outputId": "1a3e1c6f-399d-409f-d1be-99ff313f66e8"
      },
      "execution_count": null,
      "outputs": [
        {
          "output_type": "stream",
          "name": "stdout",
          "text": [
            "성공\n"
          ]
        }
      ]
    },
    {
      "cell_type": "markdown",
      "source": [
        "# 5-2\n",
        "홀수 짝수 판별기\n",
        "정수 입력받아서"
      ],
      "metadata": {
        "id": "l-lydB1eYzoE"
      }
    },
    {
      "cell_type": "code",
      "source": [
        "i = input('정수를 입력해주세요: ')\n",
        "if int(i)%2==0:\n",
        "  print('짝수')\n",
        "else:\n",
        "  print('홀수')"
      ],
      "metadata": {
        "colab": {
          "base_uri": "https://localhost:8080/"
        },
        "id": "_1WqSopTY6C1",
        "outputId": "c8f831e5-4048-4b58-e11f-24a0f961e7d6"
      },
      "execution_count": null,
      "outputs": [
        {
          "output_type": "stream",
          "name": "stdout",
          "text": [
            "정수를 입력해주세요: 4\n",
            "짝수\n"
          ]
        }
      ]
    },
    {
      "cell_type": "markdown",
      "source": [
        "# 5-3\n",
        "무슨학교 다니세요?\n",
        "태어난 연도 계산해서 학교 종류 맞추는 프로그램\n",
        "\n"
      ],
      "metadata": {
        "id": "R7rf9ZV7ZGlV"
      }
    },
    {
      "cell_type": "code",
      "source": [
        "i = int(input('태어난 연도를 입력하세요 '))\n",
        "#print(type(i))\n",
        "\n",
        "if 8<=2024-i+1<14:\n",
        "  print(\"초등학생\")\n",
        "elif 14<=2024-i+1<17:\n",
        "  print(\"중학생\")\n",
        "elif 17<=2024-i+1<20:\n",
        "  print(\"고등학생\")\n",
        "elif 20<=2024-i+1<=26:\n",
        "  print(\"대학생\")\n",
        "else:\n",
        "  print(\"학생이 아닙니다\")\n"
      ],
      "metadata": {
        "colab": {
          "base_uri": "https://localhost:8080/"
        },
        "id": "tYQsrgn4ZF1Y",
        "outputId": "e7a52c33-8df5-43c8-86dd-52c818b4f77a"
      },
      "execution_count": null,
      "outputs": [
        {
          "output_type": "stream",
          "name": "stdout",
          "text": [
            "태어난 연도를 입력하세요 2002\n",
            "<class 'int'>\n",
            "대학생\n"
          ]
        }
      ]
    },
    {
      "cell_type": "markdown",
      "source": [
        "# 5-4\n",
        "사용자로 점수를 3개 입력받아\n",
        "\n",
        "각 점수가 65점보다 클 경우 합격 아닐경우 불합격을 출력하세요\n",
        "\n",
        "단, 0~100 이 아닌 숫자가 입력된경우 잘못된\n",
        "“잘못된 점수가 입력되었습니다\" 를 출력하세요"
      ],
      "metadata": {
        "id": "ZK-nBr49bGgb"
      }
    },
    {
      "cell_type": "code",
      "source": [
        "a = int(input())\n",
        "b = int(input())\n",
        "c = int(input())\n",
        "\n",
        "if 0<a<100 and 0<b<100 and 0<c<100:\n",
        "  if a > 65 and b > 65 and c > 65:\n",
        "    print(\"합격\")\n",
        "  else:\n",
        "    print(\"불합격\")\n",
        "else:\n",
        "  print(\"잘못된 점수가 입력되었습니다.\")"
      ],
      "metadata": {
        "colab": {
          "base_uri": "https://localhost:8080/"
        },
        "id": "872J3RVxbU_T",
        "outputId": "ff54a2df-aebc-4763-ec1c-3555daeb325e"
      },
      "execution_count": 201,
      "outputs": [
        {
          "output_type": "stream",
          "name": "stdout",
          "text": [
            "70\n",
            "70\n",
            "70\n",
            "합격\n"
          ]
        }
      ]
    },
    {
      "cell_type": "markdown",
      "source": [
        "# 5-5\n",
        "\n",
        "양의 정수 하나를 입력 받아 이\n",
        "정수가 2의 배수인지 3의 배수인\n",
        "지 작성하시오"
      ],
      "metadata": {
        "id": "01srMz9mc_6z"
      }
    },
    {
      "cell_type": "code",
      "source": [
        "num1 = int(input())\n",
        "\n",
        "if num1 % 2 == 0:\n",
        "  if num1 % 6 == 0:\n",
        "    print(\"2와 3의 공배수\")\n",
        "  else:\n",
        "    print(\"2의 배수\")\n",
        "\n",
        "elif num1 % 3 == 0:\n",
        "  if num1 % 6 == 0:\n",
        "    print(\"2와 3의 공배수\")\n",
        "  else:\n",
        "    print(\"3의 배수\")\n",
        "\n",
        "else:\n",
        "  print(\"누구의 배수도 아님\")"
      ],
      "metadata": {
        "colab": {
          "base_uri": "https://localhost:8080/"
        },
        "id": "JaK8Z3USdEyy",
        "outputId": "0958b700-9f57-4027-de4c-01c18338ca72"
      },
      "execution_count": null,
      "outputs": [
        {
          "output_type": "stream",
          "name": "stdout",
          "text": [
            "12\n",
            "2와 3의 공배수\n"
          ]
        }
      ]
    }
  ]
}