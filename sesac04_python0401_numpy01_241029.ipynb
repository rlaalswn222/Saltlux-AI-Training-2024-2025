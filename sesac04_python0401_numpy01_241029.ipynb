{
  "nbformat": 4,
  "nbformat_minor": 0,
  "metadata": {
    "colab": {
      "provenance": [],
      "authorship_tag": "ABX9TyNSn/RFEfViX6Qkh6AkOc9s",
      "include_colab_link": true
    },
    "kernelspec": {
      "name": "python3",
      "display_name": "Python 3"
    },
    "language_info": {
      "name": "python"
    }
  },
  "cells": [
    {
      "cell_type": "markdown",
      "metadata": {
        "id": "view-in-github",
        "colab_type": "text"
      },
      "source": [
        "<a href=\"https://colab.research.google.com/github/rlaalswn222/sesac_multimodal/blob/main/sesac04_python0401_numpy01_241029.ipynb\" target=\"_parent\"><img src=\"https://colab.research.google.com/assets/colab-badge.svg\" alt=\"Open In Colab\"/></a>"
      ]
    },
    {
      "cell_type": "code",
      "execution_count": 1,
      "metadata": {
        "colab": {
          "base_uri": "https://localhost:8080/"
        },
        "id": "rQcp8ARt5URC",
        "outputId": "c09f9c52-5796-4367-e002-2c5c099c20de"
      },
      "outputs": [
        {
          "output_type": "stream",
          "name": "stdout",
          "text": [
            "1.26.4\n"
          ]
        }
      ],
      "source": [
        "import numpy as np\n",
        "import pandas as pd\n",
        "\n",
        "print(np.__version__)"
      ]
    },
    {
      "cell_type": "code",
      "source": [
        "arr = np.array([[1, 2, 3], [4, 5, 6]])\n",
        "print(arr)\n",
        "print(arr+arr)\n",
        "print(arr/arr) #float"
      ],
      "metadata": {
        "colab": {
          "base_uri": "https://localhost:8080/"
        },
        "id": "mM4lgWK-6uAq",
        "outputId": "f82bf88a-60eb-424d-f80a-d4a6717216e5"
      },
      "execution_count": 2,
      "outputs": [
        {
          "output_type": "stream",
          "name": "stdout",
          "text": [
            "[[1 2 3]\n",
            " [4 5 6]]\n",
            "[[ 2  4  6]\n",
            " [ 8 10 12]]\n",
            "[[1. 1. 1.]\n",
            " [1. 1. 1.]]\n"
          ]
        }
      ]
    },
    {
      "cell_type": "code",
      "source": [
        "A = [1, 2, 3, 4]\n",
        "\n",
        "a = np.array(A)\n",
        "s = a[:2] #깊은 복사 값만 복사해옴\n",
        "ass = a[::]\n",
        "\n",
        "print('A의 출력입니다: %a' %a) #np.array를 사용하면 앞에 array([])\n",
        "print('a의 출력입니다: %s' %s) #s = a[:2] 사용하면 안의 원소값만 복사\n",
        "print('ass의 출력입니다: %s' %ass)"
      ],
      "metadata": {
        "colab": {
          "base_uri": "https://localhost:8080/"
        },
        "id": "1gwTR5Sw86dd",
        "outputId": "20adc7da-85a8-46e7-c164-c97a1e044534"
      },
      "execution_count": 3,
      "outputs": [
        {
          "output_type": "stream",
          "name": "stdout",
          "text": [
            "A의 출력입니다: array([1, 2, 3, 4])\n",
            "a의 출력입니다: [1 2]\n",
            "ass의 출력입니다: [1 2 3 4]\n"
          ]
        }
      ]
    },
    {
      "cell_type": "code",
      "source": [
        "ss = a[:2].copy() #두 요소를 깊은 복사로 복사하여 ss에 저장합니다. 따라서 ss를 수정해도 a에 영향을 미치지 않습니다.\n",
        "print(ss.size)\n",
        "ss[0] = 99\n",
        "print(a)\n",
        "print(s)\n",
        "print(ss)"
      ],
      "metadata": {
        "colab": {
          "base_uri": "https://localhost:8080/"
        },
        "id": "IGtFDLnO8_0Y",
        "outputId": "e9b38795-63c1-4bec-f721-257b8697e1bd"
      },
      "execution_count": 4,
      "outputs": [
        {
          "output_type": "stream",
          "name": "stdout",
          "text": [
            "2\n",
            "[1 2 3 4]\n",
            "[1 2]\n",
            "[99  2]\n"
          ]
        }
      ]
    },
    {
      "cell_type": "markdown",
      "source": [
        "# 브로드캐스팅\n",
        "\n",
        "다른 모양의 배열 간의 산술 연산을 수행할 수 있도록 해주는 numpy기능\n",
        "\n",
        "브로드캐스팅하기 위해선 연산을 수행하는 축을 제외한 나머지 축의 shape이 일치하거나 둘 중 하나의 길이가 1이여야함\n",
        "\n",
        "다른 배열들 간의 연산이 어떤 조건을 만족했을때 가능해지도록 배열을 자동적으로 변환하는것"
      ],
      "metadata": {
        "id": "Ti5AfW668kVj"
      }
    },
    {
      "cell_type": "code",
      "source": [
        "list_1 = [1,2,3]\n",
        "#list_1 +3 오류남 container 자체에 +3은 안됨"
      ],
      "metadata": {
        "id": "AaTpM8N37nl-"
      },
      "execution_count": 5,
      "outputs": []
    },
    {
      "cell_type": "code",
      "source": [
        "arr + 3 #array는 됨 이게 numpy의 특징"
      ],
      "metadata": {
        "colab": {
          "base_uri": "https://localhost:8080/"
        },
        "id": "3d57LLRZFf64",
        "outputId": "8f1ac0fd-bb90-4003-c464-439c4b133302"
      },
      "execution_count": 6,
      "outputs": [
        {
          "output_type": "execute_result",
          "data": {
            "text/plain": [
              "array([[4, 5, 6],\n",
              "       [7, 8, 9]])"
            ]
          },
          "metadata": {},
          "execution_count": 6
        }
      ]
    },
    {
      "cell_type": "code",
      "source": [
        "10 - arr"
      ],
      "metadata": {
        "colab": {
          "base_uri": "https://localhost:8080/"
        },
        "id": "6-p1q8-fFtBw",
        "outputId": "cf74663a-a397-4b1b-df1a-267d4ff6bbc8"
      },
      "execution_count": 7,
      "outputs": [
        {
          "output_type": "execute_result",
          "data": {
            "text/plain": [
              "array([[9, 8, 7],\n",
              "       [6, 5, 4]])"
            ]
          },
          "metadata": {},
          "execution_count": 7
        }
      ]
    },
    {
      "cell_type": "code",
      "source": [
        "arr1 = np.array([1, 2, 3])\n",
        "arr + arr1"
      ],
      "metadata": {
        "colab": {
          "base_uri": "https://localhost:8080/"
        },
        "id": "Fs8zfW24GGWE",
        "outputId": "3cb3013c-0b66-4e03-e708-871baf034e1b"
      },
      "execution_count": 8,
      "outputs": [
        {
          "output_type": "execute_result",
          "data": {
            "text/plain": [
              "array([[2, 4, 6],\n",
              "       [5, 7, 9]])"
            ]
          },
          "metadata": {},
          "execution_count": 8
        }
      ]
    },
    {
      "cell_type": "code",
      "source": [
        "arr.shape"
      ],
      "metadata": {
        "colab": {
          "base_uri": "https://localhost:8080/"
        },
        "id": "O9thW6MHGPBu",
        "outputId": "cd4aaf3d-e8f0-4284-efa0-7ebf9d7a9ff3"
      },
      "execution_count": 9,
      "outputs": [
        {
          "output_type": "execute_result",
          "data": {
            "text/plain": [
              "(2, 3)"
            ]
          },
          "metadata": {},
          "execution_count": 9
        }
      ]
    },
    {
      "cell_type": "code",
      "source": [
        "arr1.shape #벡터는 열을 중시하기 때문에"
      ],
      "metadata": {
        "colab": {
          "base_uri": "https://localhost:8080/"
        },
        "id": "EG5y2-uuGSIr",
        "outputId": "c9621405-4246-41a3-b5d1-1457157ae4ae"
      },
      "execution_count": 10,
      "outputs": [
        {
          "output_type": "execute_result",
          "data": {
            "text/plain": [
              "(3,)"
            ]
          },
          "metadata": {},
          "execution_count": 10
        }
      ]
    },
    {
      "cell_type": "code",
      "source": [
        "arr2 = np.array([1, 2])\n",
        "arr+arr2 #행 열이 맞지않음\n",
        "#ValueError: operands could not be broadcast together with shapes (2,3) (2,)"
      ],
      "metadata": {
        "colab": {
          "base_uri": "https://localhost:8080/",
          "height": 180
        },
        "id": "CfEClAphGVcU",
        "outputId": "9fcaccd6-8cf8-44d9-fd4d-f5005b89ee4e"
      },
      "execution_count": 11,
      "outputs": [
        {
          "output_type": "error",
          "ename": "ValueError",
          "evalue": "operands could not be broadcast together with shapes (2,3) (2,) ",
          "traceback": [
            "\u001b[0;31m---------------------------------------------------------------------------\u001b[0m",
            "\u001b[0;31mValueError\u001b[0m                                Traceback (most recent call last)",
            "\u001b[0;32m<ipython-input-11-48fb76e91a9c>\u001b[0m in \u001b[0;36m<cell line: 2>\u001b[0;34m()\u001b[0m\n\u001b[1;32m      1\u001b[0m \u001b[0marr2\u001b[0m \u001b[0;34m=\u001b[0m \u001b[0mnp\u001b[0m\u001b[0;34m.\u001b[0m\u001b[0marray\u001b[0m\u001b[0;34m(\u001b[0m\u001b[0;34m[\u001b[0m\u001b[0;36m1\u001b[0m\u001b[0;34m,\u001b[0m \u001b[0;36m2\u001b[0m\u001b[0;34m]\u001b[0m\u001b[0;34m)\u001b[0m\u001b[0;34m\u001b[0m\u001b[0;34m\u001b[0m\u001b[0m\n\u001b[0;32m----> 2\u001b[0;31m \u001b[0marr\u001b[0m\u001b[0;34m+\u001b[0m\u001b[0marr2\u001b[0m \u001b[0;31m#행 열이 맞지않음\u001b[0m\u001b[0;34m\u001b[0m\u001b[0;34m\u001b[0m\u001b[0m\n\u001b[0m\u001b[1;32m      3\u001b[0m \u001b[0;31m#ValueError: operands could not be broadcast together with shapes (2,3) (2,)\u001b[0m\u001b[0;34m\u001b[0m\u001b[0;34m\u001b[0m\u001b[0m\n",
            "\u001b[0;31mValueError\u001b[0m: operands could not be broadcast together with shapes (2,3) (2,) "
          ]
        }
      ]
    },
    {
      "cell_type": "code",
      "source": [
        "a = np.array(range(20))\n",
        "a"
      ],
      "metadata": {
        "colab": {
          "base_uri": "https://localhost:8080/"
        },
        "id": "iFtZL6uiGynX",
        "outputId": "c7e8116b-9e9d-42c2-a1cf-24c8cf674ceb"
      },
      "execution_count": 12,
      "outputs": [
        {
          "output_type": "execute_result",
          "data": {
            "text/plain": [
              "array([ 0,  1,  2,  3,  4,  5,  6,  7,  8,  9, 10, 11, 12, 13, 14, 15, 16,\n",
              "       17, 18, 19])"
            ]
          },
          "metadata": {},
          "execution_count": 12
        }
      ]
    },
    {
      "cell_type": "code",
      "source": [
        "b = np.arange(20)\n",
        "b"
      ],
      "metadata": {
        "colab": {
          "base_uri": "https://localhost:8080/"
        },
        "id": "Ck35RuftIOoU",
        "outputId": "93f1d8a8-8d51-40b0-974a-9eb74ddd46bf"
      },
      "execution_count": 13,
      "outputs": [
        {
          "output_type": "execute_result",
          "data": {
            "text/plain": [
              "array([ 0,  1,  2,  3,  4,  5,  6,  7,  8,  9, 10, 11, 12, 13, 14, 15, 16,\n",
              "       17, 18, 19])"
            ]
          },
          "metadata": {},
          "execution_count": 13
        }
      ]
    },
    {
      "cell_type": "code",
      "source": [
        " a = np.array([1, 2, 3])\n",
        " b = np.array([4, 5, 6])\n",
        " np.hstack([a, b]) #수평 스택: 후입선출"
      ],
      "metadata": {
        "colab": {
          "base_uri": "https://localhost:8080/"
        },
        "id": "vfY2HYH1Idvj",
        "outputId": "0aec1d9e-7eaf-4e07-8e3a-255107f309dc"
      },
      "execution_count": 14,
      "outputs": [
        {
          "output_type": "execute_result",
          "data": {
            "text/plain": [
              "array([1, 2, 3, 4, 5, 6])"
            ]
          },
          "metadata": {},
          "execution_count": 14
        }
      ]
    },
    {
      "cell_type": "code",
      "source": [
        "np.concatenate((a, b), axis = 0) #axis = 0은 행으로 붙이라는거 (pandas에서는 열로 붙이라는거)"
      ],
      "metadata": {
        "colab": {
          "base_uri": "https://localhost:8080/"
        },
        "id": "1JA3mPUIIw6R",
        "outputId": "0d095ecc-fd7c-45ee-f491-1ce01c23075b"
      },
      "execution_count": 15,
      "outputs": [
        {
          "output_type": "execute_result",
          "data": {
            "text/plain": [
              "array([1, 2, 3, 4, 5, 6])"
            ]
          },
          "metadata": {},
          "execution_count": 15
        }
      ]
    },
    {
      "cell_type": "code",
      "source": [
        "np.vstack([a, b])"
      ],
      "metadata": {
        "colab": {
          "base_uri": "https://localhost:8080/"
        },
        "id": "VnFvzqwaJLpH",
        "outputId": "63097930-9b91-49e0-e598-1c995321ee14"
      },
      "execution_count": 16,
      "outputs": [
        {
          "output_type": "execute_result",
          "data": {
            "text/plain": [
              "array([[1, 2, 3],\n",
              "       [4, 5, 6]])"
            ]
          },
          "metadata": {},
          "execution_count": 16
        }
      ]
    },
    {
      "cell_type": "code",
      "source": [
        "np.concatenate((a, b), axis = 1) #axis = 1에서 AxisError가 남\n",
        "#AxisError: axis 1 is out of bounds for array of dimension 1"
      ],
      "metadata": {
        "colab": {
          "base_uri": "https://localhost:8080/",
          "height": 162
        },
        "id": "ZpDcoDLSJnll",
        "outputId": "987e2649-5115-448f-fd32-2df3da5c17e4"
      },
      "execution_count": 17,
      "outputs": [
        {
          "output_type": "error",
          "ename": "AxisError",
          "evalue": "axis 1 is out of bounds for array of dimension 1",
          "traceback": [
            "\u001b[0;31m---------------------------------------------------------------------------\u001b[0m",
            "\u001b[0;31mAxisError\u001b[0m                                 Traceback (most recent call last)",
            "\u001b[0;32m<ipython-input-17-103be2df2128>\u001b[0m in \u001b[0;36m<cell line: 1>\u001b[0;34m()\u001b[0m\n\u001b[0;32m----> 1\u001b[0;31m \u001b[0mnp\u001b[0m\u001b[0;34m.\u001b[0m\u001b[0mconcatenate\u001b[0m\u001b[0;34m(\u001b[0m\u001b[0;34m(\u001b[0m\u001b[0ma\u001b[0m\u001b[0;34m,\u001b[0m \u001b[0mb\u001b[0m\u001b[0;34m)\u001b[0m\u001b[0;34m,\u001b[0m \u001b[0maxis\u001b[0m \u001b[0;34m=\u001b[0m \u001b[0;36m1\u001b[0m\u001b[0;34m)\u001b[0m \u001b[0;31m#axis = 1에서 AxisError가 남\u001b[0m\u001b[0;34m\u001b[0m\u001b[0;34m\u001b[0m\u001b[0m\n\u001b[0m\u001b[1;32m      2\u001b[0m \u001b[0;31m#AxisError: axis 1 is out of bounds for array of dimension 1\u001b[0m\u001b[0;34m\u001b[0m\u001b[0;34m\u001b[0m\u001b[0m\n",
            "\u001b[0;31mAxisError\u001b[0m: axis 1 is out of bounds for array of dimension 1"
          ]
        }
      ]
    },
    {
      "cell_type": "code",
      "source": [
        "c = np.array([[0, 1, 2], [3, 4, 5]])\n",
        "d = np.array([[6, 7, 8],[9, 10, 11]])\n",
        "\n",
        "np.concatenate((c, d), axis =0)\n"
      ],
      "metadata": {
        "colab": {
          "base_uri": "https://localhost:8080/"
        },
        "id": "d6ktajO4JsBf",
        "outputId": "516a8b45-c129-4c42-d727-a34d7c248fc9"
      },
      "execution_count": 18,
      "outputs": [
        {
          "output_type": "execute_result",
          "data": {
            "text/plain": [
              "array([[ 0,  1,  2],\n",
              "       [ 3,  4,  5],\n",
              "       [ 6,  7,  8],\n",
              "       [ 9, 10, 11]])"
            ]
          },
          "metadata": {},
          "execution_count": 18
        }
      ]
    },
    {
      "cell_type": "code",
      "source": [
        "np.concatenate((c, d), axis =1)\n",
        "#axis=1은 2D에서는 잘 일어남"
      ],
      "metadata": {
        "colab": {
          "base_uri": "https://localhost:8080/"
        },
        "id": "XBGmmBCIJ7lB",
        "outputId": "3acbcd5a-d115-42e0-f3c0-2dd06f21d70a"
      },
      "execution_count": 19,
      "outputs": [
        {
          "output_type": "execute_result",
          "data": {
            "text/plain": [
              "array([[ 0,  1,  2,  6,  7,  8],\n",
              "       [ 3,  4,  5,  9, 10, 11]])"
            ]
          },
          "metadata": {},
          "execution_count": 19
        }
      ]
    },
    {
      "cell_type": "code",
      "source": [
        "np.column_stack([a, b])"
      ],
      "metadata": {
        "colab": {
          "base_uri": "https://localhost:8080/"
        },
        "id": "VKv7-T7WL8q1",
        "outputId": "95fd488e-dfc3-4072-f50e-ea73235eae0a"
      },
      "execution_count": 20,
      "outputs": [
        {
          "output_type": "execute_result",
          "data": {
            "text/plain": [
              "array([[1, 4],\n",
              "       [2, 5],\n",
              "       [3, 6]])"
            ]
          },
          "metadata": {},
          "execution_count": 20
        }
      ]
    },
    {
      "cell_type": "code",
      "source": [
        "c = np.array([[0, 1, 2], [3, 4, 5]])\n",
        "d = np.array([[6, 7, 8],[9, 10, 11]])\n",
        "\n",
        "np.concatenate((c.T, d.T), axis =1) #.T 전치"
      ],
      "metadata": {
        "colab": {
          "base_uri": "https://localhost:8080/"
        },
        "id": "1tnbd2SeMAiV",
        "outputId": "514b9818-a2e4-4fc0-cc5b-a1ebf653f539"
      },
      "execution_count": 21,
      "outputs": [
        {
          "output_type": "execute_result",
          "data": {
            "text/plain": [
              "array([[ 0,  3,  6,  9],\n",
              "       [ 1,  4,  7, 10],\n",
              "       [ 2,  5,  8, 11]])"
            ]
          },
          "metadata": {},
          "execution_count": 21
        }
      ]
    },
    {
      "cell_type": "markdown",
      "source": [
        "#Random module\n",
        "\n",
        "random으 난수를 발생시키는 모듈\n",
        "\n",
        "seed: 난수 생성 초기값 부여"
      ],
      "metadata": {
        "id": "uZ8EO5K2MdJN"
      }
    },
    {
      "cell_type": "code",
      "source": [
        "from random import randint\n",
        "\n",
        "count = int(input('로또 번호를 몇개 생성할까요?> '))\n",
        "\n",
        "for i in range(count):\n",
        "  a = np.random.randint(1, 46, size=6)\n",
        "  a.sort() #오름차순\n",
        "  print(i+1, '. 로또번호: ', a)"
      ],
      "metadata": {
        "colab": {
          "base_uri": "https://localhost:8080/"
        },
        "id": "A6AAydhwMGgR",
        "outputId": "5af379a9-085f-46c1-b9f4-7677266ad660"
      },
      "execution_count": 22,
      "outputs": [
        {
          "output_type": "stream",
          "name": "stdout",
          "text": [
            "로또 번호를 몇개 생성할까요?> 7\n",
            "1 . 로또번호:  [ 2  4 24 31 33 40]\n",
            "2 . 로또번호:  [ 2  8 10 25 27 45]\n",
            "3 . 로또번호:  [ 1  4 15 24 29 41]\n",
            "4 . 로또번호:  [ 1  8  9 22 41 45]\n",
            "5 . 로또번호:  [ 7 16 20 31 34 38]\n",
            "6 . 로또번호:  [ 5  6  8 17 22 31]\n",
            "7 . 로또번호:  [22 25 30 35 35 38]\n"
          ]
        }
      ]
    },
    {
      "cell_type": "code",
      "source": [
        "import numpy as np\n",
        "def make_lotto(count):\n",
        "  for i in range(count):\n",
        "    lotto_num = np.random.choice(range(1, 46), 6, replace = False)\n",
        "    lotto_num.sort()\n",
        "    print(\"{}.로또 번호: {}\".format(i+1, lotto_num))\n",
        "count = int(input('로또 번호를 몇개 생성할까요?: '))\n",
        "make_lotto(count)"
      ],
      "metadata": {
        "id": "wZ4SYqReMsIW",
        "colab": {
          "base_uri": "https://localhost:8080/"
        },
        "outputId": "2ec81165-2cdc-46e2-b2e2-40c79a9685ed"
      },
      "execution_count": 23,
      "outputs": [
        {
          "output_type": "stream",
          "name": "stdout",
          "text": [
            "로또 번호를 몇개 생성할까요?: 7\n",
            "1.로또 번호: [ 3  4  5 16 21 38]\n",
            "2.로또 번호: [26 31 33 40 42 45]\n",
            "3.로또 번호: [17 26 33 39 40 45]\n",
            "4.로또 번호: [ 8 16 21 24 29 30]\n",
            "5.로또 번호: [ 7 10 18 27 35 45]\n",
            "6.로또 번호: [ 1  7 21 27 32 45]\n",
            "7.로또 번호: [ 2  4 15 26 27 38]\n"
          ]
        }
      ]
    },
    {
      "cell_type": "code",
      "source": [],
      "metadata": {
        "id": "P0Tmja485OVE"
      },
      "execution_count": 23,
      "outputs": []
    }
  ]
}