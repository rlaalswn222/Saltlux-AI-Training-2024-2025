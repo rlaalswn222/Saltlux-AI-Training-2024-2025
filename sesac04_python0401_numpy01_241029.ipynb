{
  "nbformat": 4,
  "nbformat_minor": 0,
  "metadata": {
    "colab": {
      "provenance": [],
      "authorship_tag": "ABX9TyNAubKYhRkBbfGpLcLB5677",
      "include_colab_link": true
    },
    "kernelspec": {
      "name": "python3",
      "display_name": "Python 3"
    },
    "language_info": {
      "name": "python"
    }
  },
  "cells": [
    {
      "cell_type": "markdown",
      "metadata": {
        "id": "view-in-github",
        "colab_type": "text"
      },
      "source": [
        "<a href=\"https://colab.research.google.com/github/rlaalswn222/sesac_multimodal/blob/main/sesac04_python0401_numpy01_241029.ipynb\" target=\"_parent\"><img src=\"https://colab.research.google.com/assets/colab-badge.svg\" alt=\"Open In Colab\"/></a>"
      ]
    },
    {
      "cell_type": "code",
      "execution_count": 4,
      "metadata": {
        "colab": {
          "base_uri": "https://localhost:8080/"
        },
        "id": "rQcp8ARt5URC",
        "outputId": "7f672f87-fd3f-45f7-edfc-22b2501fbb64"
      },
      "outputs": [
        {
          "output_type": "stream",
          "name": "stdout",
          "text": [
            "1.26.4\n"
          ]
        }
      ],
      "source": [
        "import numpy as np\n",
        "import pandas as pd\n",
        "\n",
        "print(np.__version__)"
      ]
    },
    {
      "cell_type": "code",
      "source": [
        "arr = np.array([[1, 2, 3], [4, 5, 6]])\n",
        "print(arr)\n",
        "print(arr+arr)\n",
        "print(arr/arr) #float"
      ],
      "metadata": {
        "colab": {
          "base_uri": "https://localhost:8080/"
        },
        "id": "mM4lgWK-6uAq",
        "outputId": "a91eb3e3-2565-4eea-e54d-bfff448445a7"
      },
      "execution_count": 3,
      "outputs": [
        {
          "output_type": "stream",
          "name": "stdout",
          "text": [
            "[[1 2 3]\n",
            " [4 5 6]]\n",
            "[[ 2  4  6]\n",
            " [ 8 10 12]]\n",
            "[[1. 1. 1.]\n",
            " [1. 1. 1.]]\n"
          ]
        }
      ]
    },
    {
      "cell_type": "code",
      "source": [
        "A = [1, 2, 3, 4]\n",
        "\n",
        "a = np.array(A)\n",
        "s = a[:2] #깊은 복사 값만 복사해옴\n",
        "ass = a[::]\n",
        "\n",
        "print('A의 출력입니다: %a' %a) #np.array를 사용하면 앞에 array([])\n",
        "print('a의 출력입니다: %s' %s) #s = a[:2] 사용하면 안의 원소값만 복사\n",
        "print('ass의 출력입니다: %s' %ass)"
      ],
      "metadata": {
        "colab": {
          "base_uri": "https://localhost:8080/"
        },
        "id": "1gwTR5Sw86dd",
        "outputId": "1041fdc4-9015-4380-82d2-5d3b0dd64c8f"
      },
      "execution_count": 11,
      "outputs": [
        {
          "output_type": "stream",
          "name": "stdout",
          "text": [
            "A의 출력입니다: array([1, 2, 3, 4])\n",
            "a의 출력입니다: [1 2]\n",
            "ass의 출력입니다: [1 2 3 4]\n"
          ]
        }
      ]
    },
    {
      "cell_type": "code",
      "source": [
        "ss = a[:2].copy() #두 요소를 깊은 복사로 복사하여 ss에 저장합니다. 따라서 ss를 수정해도 a에 영향을 미치지 않습니다.\n",
        "print(ss.size)\n",
        "ss[0] = 99\n",
        "print(a)\n",
        "print(s)\n",
        "print(ss)"
      ],
      "metadata": {
        "colab": {
          "base_uri": "https://localhost:8080/"
        },
        "id": "IGtFDLnO8_0Y",
        "outputId": "0f5bafde-81ee-4b12-eec3-da5db4d48488"
      },
      "execution_count": 12,
      "outputs": [
        {
          "output_type": "stream",
          "name": "stdout",
          "text": [
            "2\n",
            "[1 2 3 4]\n",
            "[1 2]\n",
            "[99  2]\n"
          ]
        }
      ]
    },
    {
      "cell_type": "markdown",
      "source": [
        "# 브로드캐스팅\n",
        "\n",
        "다른 모양의 배열 간의 산술 연산을 수행할 수 있도록 해주는 numpy기능\n",
        "\n",
        "브로드캐스팅하기 위해선 연산을 수행하는 축을 제외한 나머지 축의 shape이 일치하거나 둘 중 하나의 길이가 1이여야함\n",
        "\n",
        "다른 배열들 간의 연산이 어떤 조건을 만족했을때 가능해지도록 배열을 자동적으로 변환하는것"
      ],
      "metadata": {
        "id": "Ti5AfW668kVj"
      }
    },
    {
      "cell_type": "code",
      "source": [
        "list_1 = [1,2,3]\n",
        "#list_1 +3 오류남 container 자체에 +3은 안됨"
      ],
      "metadata": {
        "id": "AaTpM8N37nl-"
      },
      "execution_count": null,
      "outputs": []
    },
    {
      "cell_type": "code",
      "source": [
        "arr + 3 #array는 됨 이게 numpy의 특징"
      ],
      "metadata": {
        "colab": {
          "base_uri": "https://localhost:8080/"
        },
        "id": "3d57LLRZFf64",
        "outputId": "c423f496-19c7-47a1-d0fa-b61507dab7e0"
      },
      "execution_count": 13,
      "outputs": [
        {
          "output_type": "execute_result",
          "data": {
            "text/plain": [
              "array([[4, 5, 6],\n",
              "       [7, 8, 9]])"
            ]
          },
          "metadata": {},
          "execution_count": 13
        }
      ]
    },
    {
      "cell_type": "code",
      "source": [
        "10 - arr"
      ],
      "metadata": {
        "colab": {
          "base_uri": "https://localhost:8080/"
        },
        "id": "6-p1q8-fFtBw",
        "outputId": "86658b97-f9e6-4e76-a919-875b5206e485"
      },
      "execution_count": 14,
      "outputs": [
        {
          "output_type": "execute_result",
          "data": {
            "text/plain": [
              "array([[9, 8, 7],\n",
              "       [6, 5, 4]])"
            ]
          },
          "metadata": {},
          "execution_count": 14
        }
      ]
    },
    {
      "cell_type": "code",
      "source": [
        "arr1 = np.array([1, 2, 3])\n",
        "arr + arr1"
      ],
      "metadata": {
        "colab": {
          "base_uri": "https://localhost:8080/"
        },
        "id": "Fs8zfW24GGWE",
        "outputId": "9e4c1cf8-1883-41ff-df47-76007375802f"
      },
      "execution_count": 15,
      "outputs": [
        {
          "output_type": "execute_result",
          "data": {
            "text/plain": [
              "array([[2, 4, 6],\n",
              "       [5, 7, 9]])"
            ]
          },
          "metadata": {},
          "execution_count": 15
        }
      ]
    },
    {
      "cell_type": "code",
      "source": [
        "arr.shape"
      ],
      "metadata": {
        "colab": {
          "base_uri": "https://localhost:8080/"
        },
        "id": "O9thW6MHGPBu",
        "outputId": "5488f8f9-a96a-40fb-c349-ef326e7c7dad"
      },
      "execution_count": 17,
      "outputs": [
        {
          "output_type": "execute_result",
          "data": {
            "text/plain": [
              "(2, 3)"
            ]
          },
          "metadata": {},
          "execution_count": 17
        }
      ]
    },
    {
      "cell_type": "code",
      "source": [
        "arr1.shape #벡터는 열을 중시하기 때문에"
      ],
      "metadata": {
        "colab": {
          "base_uri": "https://localhost:8080/"
        },
        "id": "EG5y2-uuGSIr",
        "outputId": "97951833-e571-4ffc-98de-5a053e28e7bc"
      },
      "execution_count": 18,
      "outputs": [
        {
          "output_type": "execute_result",
          "data": {
            "text/plain": [
              "(3,)"
            ]
          },
          "metadata": {},
          "execution_count": 18
        }
      ]
    },
    {
      "cell_type": "code",
      "source": [
        "arr2 = np.array([1, 2])\n",
        "arr+arr2 #행 열이 맞지않음\n",
        "#ValueError: operands could not be broadcast together with shapes (2,3) (2,)"
      ],
      "metadata": {
        "colab": {
          "base_uri": "https://localhost:8080/",
          "height": 162
        },
        "id": "CfEClAphGVcU",
        "outputId": "73be2b01-f0d3-41a7-ecde-6dd0abf3e219"
      },
      "execution_count": 20,
      "outputs": [
        {
          "output_type": "error",
          "ename": "ValueError",
          "evalue": "operands could not be broadcast together with shapes (2,3) (2,) ",
          "traceback": [
            "\u001b[0;31m---------------------------------------------------------------------------\u001b[0m",
            "\u001b[0;31mValueError\u001b[0m                                Traceback (most recent call last)",
            "\u001b[0;32m<ipython-input-20-66743db0006b>\u001b[0m in \u001b[0;36m<cell line: 2>\u001b[0;34m()\u001b[0m\n\u001b[1;32m      1\u001b[0m \u001b[0marr2\u001b[0m \u001b[0;34m=\u001b[0m \u001b[0mnp\u001b[0m\u001b[0;34m.\u001b[0m\u001b[0marray\u001b[0m\u001b[0;34m(\u001b[0m\u001b[0;34m[\u001b[0m\u001b[0;36m1\u001b[0m\u001b[0;34m,\u001b[0m \u001b[0;36m2\u001b[0m\u001b[0;34m]\u001b[0m\u001b[0;34m)\u001b[0m\u001b[0;34m\u001b[0m\u001b[0;34m\u001b[0m\u001b[0m\n\u001b[0;32m----> 2\u001b[0;31m \u001b[0marr\u001b[0m\u001b[0;34m+\u001b[0m\u001b[0marr2\u001b[0m\u001b[0;34m\u001b[0m\u001b[0;34m\u001b[0m\u001b[0m\n\u001b[0m",
            "\u001b[0;31mValueError\u001b[0m: operands could not be broadcast together with shapes (2,3) (2,) "
          ]
        }
      ]
    },
    {
      "cell_type": "code",
      "source": [
        "a = np.array(range(20))\n",
        "a"
      ],
      "metadata": {
        "colab": {
          "base_uri": "https://localhost:8080/"
        },
        "id": "iFtZL6uiGynX",
        "outputId": "d70385e2-e6a4-45cc-96e2-0a007648bb5b"
      },
      "execution_count": 22,
      "outputs": [
        {
          "output_type": "execute_result",
          "data": {
            "text/plain": [
              "array([ 0,  1,  2,  3,  4,  5,  6,  7,  8,  9, 10, 11, 12, 13, 14, 15, 16,\n",
              "       17, 18, 19])"
            ]
          },
          "metadata": {},
          "execution_count": 22
        }
      ]
    },
    {
      "cell_type": "code",
      "source": [
        "b = np.arange(20)\n",
        "b"
      ],
      "metadata": {
        "colab": {
          "base_uri": "https://localhost:8080/"
        },
        "id": "Ck35RuftIOoU",
        "outputId": "20ed1dfd-f87c-45bc-e459-dbf1afa8cce8"
      },
      "execution_count": 24,
      "outputs": [
        {
          "output_type": "execute_result",
          "data": {
            "text/plain": [
              "array([ 0,  1,  2,  3,  4,  5,  6,  7,  8,  9, 10, 11, 12, 13, 14, 15, 16,\n",
              "       17, 18, 19])"
            ]
          },
          "metadata": {},
          "execution_count": 24
        }
      ]
    },
    {
      "cell_type": "code",
      "source": [
        " a = np.array([1, 2, 3])\n",
        " b = np.array([4, 5, 6])\n",
        " np.hstack([a, b]) #수평 스택: 후입선출"
      ],
      "metadata": {
        "colab": {
          "base_uri": "https://localhost:8080/"
        },
        "id": "vfY2HYH1Idvj",
        "outputId": "a8753028-9ce8-49c0-a46b-0c2f7cea0ce1"
      },
      "execution_count": 31,
      "outputs": [
        {
          "output_type": "execute_result",
          "data": {
            "text/plain": [
              "array([1, 2, 3, 4, 5, 6])"
            ]
          },
          "metadata": {},
          "execution_count": 31
        }
      ]
    },
    {
      "cell_type": "code",
      "source": [
        "np.concatenate((a, b), axis = 0) #axis = 0은 행으로 붙이라는거 (pandas에서는 열로 붙이라는거)"
      ],
      "metadata": {
        "colab": {
          "base_uri": "https://localhost:8080/"
        },
        "id": "1JA3mPUIIw6R",
        "outputId": "aed38df4-f6c6-4a9f-809f-18561cfc2039"
      },
      "execution_count": 30,
      "outputs": [
        {
          "output_type": "execute_result",
          "data": {
            "text/plain": [
              "array([1, 2, 3, 4, 5, 6])"
            ]
          },
          "metadata": {},
          "execution_count": 30
        }
      ]
    },
    {
      "cell_type": "code",
      "source": [
        "np.vstack([a, b])"
      ],
      "metadata": {
        "colab": {
          "base_uri": "https://localhost:8080/"
        },
        "id": "VnFvzqwaJLpH",
        "outputId": "84803f05-b880-4469-faf4-2c323a0a0893"
      },
      "execution_count": 32,
      "outputs": [
        {
          "output_type": "execute_result",
          "data": {
            "text/plain": [
              "array([[1, 2, 3],\n",
              "       [4, 5, 6]])"
            ]
          },
          "metadata": {},
          "execution_count": 32
        }
      ]
    },
    {
      "cell_type": "code",
      "source": [
        "np.concatenate((a, b), axis = 1) #axis = 1에서 AxisError가 남\n",
        "#AxisError: axis 1 is out of bounds for array of dimension 1"
      ],
      "metadata": {
        "colab": {
          "base_uri": "https://localhost:8080/",
          "height": 144
        },
        "id": "ZpDcoDLSJnll",
        "outputId": "63d326fe-f03a-414a-b275-a2f7a8aed1be"
      },
      "execution_count": 34,
      "outputs": [
        {
          "output_type": "error",
          "ename": "AxisError",
          "evalue": "axis 1 is out of bounds for array of dimension 1",
          "traceback": [
            "\u001b[0;31m---------------------------------------------------------------------------\u001b[0m",
            "\u001b[0;31mAxisError\u001b[0m                                 Traceback (most recent call last)",
            "\u001b[0;32m<ipython-input-34-5a5c7b048c79>\u001b[0m in \u001b[0;36m<cell line: 1>\u001b[0;34m()\u001b[0m\n\u001b[0;32m----> 1\u001b[0;31m \u001b[0mnp\u001b[0m\u001b[0;34m.\u001b[0m\u001b[0mconcatenate\u001b[0m\u001b[0;34m(\u001b[0m\u001b[0;34m(\u001b[0m\u001b[0ma\u001b[0m\u001b[0;34m,\u001b[0m \u001b[0mb\u001b[0m\u001b[0;34m)\u001b[0m\u001b[0;34m,\u001b[0m \u001b[0maxis\u001b[0m \u001b[0;34m=\u001b[0m \u001b[0;36m1\u001b[0m\u001b[0;34m)\u001b[0m\u001b[0;34m\u001b[0m\u001b[0;34m\u001b[0m\u001b[0m\n\u001b[0m",
            "\u001b[0;31mAxisError\u001b[0m: axis 1 is out of bounds for array of dimension 1"
          ]
        }
      ]
    },
    {
      "cell_type": "code",
      "source": [
        "c = np.array([[0, 1, 2], [3, 4, 5]])\n",
        "d = np.array([[6, 7, 8],[9, 10, 11]])\n",
        "\n",
        "np.concatenate((c, d), axis =0)\n"
      ],
      "metadata": {
        "colab": {
          "base_uri": "https://localhost:8080/"
        },
        "id": "d6ktajO4JsBf",
        "outputId": "58e87691-de1a-4d47-fe25-850683c425bb"
      },
      "execution_count": 39,
      "outputs": [
        {
          "output_type": "execute_result",
          "data": {
            "text/plain": [
              "array([[ 0,  1,  2],\n",
              "       [ 3,  4,  5],\n",
              "       [ 6,  7,  8],\n",
              "       [ 9, 10, 11]])"
            ]
          },
          "metadata": {},
          "execution_count": 39
        }
      ]
    },
    {
      "cell_type": "code",
      "source": [
        "np.concatenate((c, d), axis =1)\n",
        "#axis=1은 2D에서는 잘 일어남"
      ],
      "metadata": {
        "colab": {
          "base_uri": "https://localhost:8080/"
        },
        "id": "XBGmmBCIJ7lB",
        "outputId": "d6e9efc3-f0ef-4089-c0be-115942419813"
      },
      "execution_count": 38,
      "outputs": [
        {
          "output_type": "execute_result",
          "data": {
            "text/plain": [
              "array([[ 0,  1,  2,  6,  7,  8],\n",
              "       [ 3,  4,  5,  9, 10, 11]])"
            ]
          },
          "metadata": {},
          "execution_count": 38
        }
      ]
    },
    {
      "cell_type": "code",
      "source": [
        "np.column_stack([a, b])"
      ],
      "metadata": {
        "colab": {
          "base_uri": "https://localhost:8080/"
        },
        "id": "VKv7-T7WL8q1",
        "outputId": "419e48be-5114-453b-ee64-4de693b6c651"
      },
      "execution_count": 40,
      "outputs": [
        {
          "output_type": "execute_result",
          "data": {
            "text/plain": [
              "array([[1, 4],\n",
              "       [2, 5],\n",
              "       [3, 6]])"
            ]
          },
          "metadata": {},
          "execution_count": 40
        }
      ]
    },
    {
      "cell_type": "code",
      "source": [
        "c = np.array([[0, 1, 2], [3, 4, 5]])\n",
        "d = np.array([[6, 7, 8],[9, 10, 11]])\n",
        "\n",
        "np.concatenate((c.T, d.T), axis =1) #.T 전치"
      ],
      "metadata": {
        "colab": {
          "base_uri": "https://localhost:8080/"
        },
        "id": "1tnbd2SeMAiV",
        "outputId": "089a0948-1183-4c46-b29e-3655bceb15b1"
      },
      "execution_count": 42,
      "outputs": [
        {
          "output_type": "execute_result",
          "data": {
            "text/plain": [
              "array([[ 0,  3,  6,  9],\n",
              "       [ 1,  4,  7, 10],\n",
              "       [ 2,  5,  8, 11]])"
            ]
          },
          "metadata": {},
          "execution_count": 42
        }
      ]
    },
    {
      "cell_type": "markdown",
      "source": [
        "#Random module\n",
        "\n",
        "random으 난수를 발생시키는 모듈\n",
        "\n",
        "seed: 난수 생성 초기값 부여"
      ],
      "metadata": {
        "id": "uZ8EO5K2MdJN"
      }
    },
    {
      "cell_type": "code",
      "source": [
        "from random import randint\n",
        "\n",
        "count = int(input('로또 번호를 몇개 생성할까요?> '))\n",
        "\n",
        "for i in range(count):\n",
        "  a = np.random.randint(1, 46, size=6)\n",
        "  print(i+1, '. 로또번호: ', a)"
      ],
      "metadata": {
        "colab": {
          "base_uri": "https://localhost:8080/"
        },
        "id": "A6AAydhwMGgR",
        "outputId": "8cfa21cc-b05d-4575-ab1b-da1b0742aa17"
      },
      "execution_count": 53,
      "outputs": [
        {
          "output_type": "stream",
          "name": "stdout",
          "text": [
            "로또 번호를 몇개 생성할까요?> 9\n",
            "1 . 로또번호:  [31 18  5 41 28 28]\n",
            "2 . 로또번호:  [20 15  1 14 13 43]\n",
            "3 . 로또번호:  [ 4  7  4 21 16 11]\n",
            "4 . 로또번호:  [24  4 42 44 37  6]\n",
            "5 . 로또번호:  [ 8 39 23 31 35 43]\n",
            "6 . 로또번호:  [21 32 13 34 39 43]\n",
            "7 . 로또번호:  [23  1 35 20  5  5]\n",
            "8 . 로또번호:  [36 24 10 22 26  7]\n",
            "9 . 로또번호:  [38 39 40 44 31 31]\n"
          ]
        }
      ]
    },
    {
      "cell_type": "code",
      "source": [],
      "metadata": {
        "id": "wZ4SYqReMsIW"
      },
      "execution_count": null,
      "outputs": []
    }
  ]
}