{
  "nbformat": 4,
  "nbformat_minor": 0,
  "metadata": {
    "colab": {
      "provenance": [],
      "authorship_tag": "ABX9TyOiCzTmVzguywOYhvR7OWAv",
      "include_colab_link": true
    },
    "kernelspec": {
      "name": "python3",
      "display_name": "Python 3"
    },
    "language_info": {
      "name": "python"
    }
  },
  "cells": [
    {
      "cell_type": "markdown",
      "metadata": {
        "id": "view-in-github",
        "colab_type": "text"
      },
      "source": [
        "<a href=\"https://colab.research.google.com/github/rlaalswn222/sesac_multimodal/blob/main/sesac02_python02_241025.ipynb\" target=\"_parent\"><img src=\"https://colab.research.google.com/assets/colab-badge.svg\" alt=\"Open In Colab\"/></a>"
      ]
    },
    {
      "cell_type": "markdown",
      "source": [
        "## While문 반복문\n",
        "\n",
        "\n",
        "```\n",
        "while 조건:\n",
        "\n",
        "  수행할 문장1:\n",
        "\n",
        "  수행할 문장2:\n",
        "```\n",
        "\n"
      ],
      "metadata": {
        "id": "uNlWmnoGMCni"
      }
    },
    {
      "cell_type": "code",
      "execution_count": null,
      "metadata": {
        "colab": {
          "base_uri": "https://localhost:8080/"
        },
        "id": "uLuF2U6yL-pw",
        "outputId": "cb8ae8dd-d27d-45ac-ab6f-3a8aa1f1ab49"
      },
      "outputs": [
        {
          "output_type": "stream",
          "name": "stdout",
          "text": [
            "2\n",
            "4\n",
            "6\n",
            "8\n",
            "10\n"
          ]
        }
      ],
      "source": [
        "# 무한루프 안 걸림 끝이있으니까\n",
        "i = 1\n",
        "\n",
        "while i <= 10:\n",
        "  if i % 2 == 0:\n",
        "    print(i)\n",
        "  i+=1"
      ]
    },
    {
      "cell_type": "code",
      "source": [
        "i = 90\n",
        "\n",
        "while i:\n",
        "\n",
        "  if i == 100:\n",
        "    print(\"축하합니다. %d번째 방문자입니다. \" %i)\n",
        "    break\n",
        "\n",
        "  i += 1\n",
        "\n",
        "print(\"감사합니다. 이벤트가 종료되었습니다.\")"
      ],
      "metadata": {
        "colab": {
          "base_uri": "https://localhost:8080/"
        },
        "id": "LwkK9d_rNDQR",
        "outputId": "eb4c4a36-ad70-400e-d719-c18655ea406b"
      },
      "execution_count": null,
      "outputs": [
        {
          "output_type": "stream",
          "name": "stdout",
          "text": [
            "축하합니다. 100번째 방문자입니다. \n",
            "감사합니다. 이벤트가 종료되었습니다.\n"
          ]
        }
      ]
    },
    {
      "cell_type": "code",
      "source": [
        "i = 0\n",
        "\n",
        "while i<11:\n",
        "  i+=1\n",
        "  if i == 6:\n",
        "    continue #출력하지 않고 while문 시작으로 돌아감 -> 6에 대한 값은 출력되지 않음 뒤에 if문까지 도달하지 못함\n",
        "  if i %2 == 0:\n",
        "    print(i)"
      ],
      "metadata": {
        "colab": {
          "base_uri": "https://localhost:8080/"
        },
        "id": "Izr9avTmOj96",
        "outputId": "d29b6499-0ced-4efb-aba1-bcc7cf9ea833"
      },
      "execution_count": null,
      "outputs": [
        {
          "output_type": "stream",
          "name": "stdout",
          "text": [
            "2\n",
            "4\n",
            "8\n",
            "10\n"
          ]
        }
      ]
    },
    {
      "cell_type": "markdown",
      "source": [
        "## For문\n",
        "\n",
        "\n",
        "```\n",
        "for 변수 in range (변수가 속한 자료형 혹은 변수의 범위):\n",
        "  수행해야할 문장~~~\n",
        "```\n",
        "\n"
      ],
      "metadata": {
        "id": "u1RoT-VRPIiq"
      }
    },
    {
      "cell_type": "code",
      "source": [
        "for i in range(0, 5):\n",
        "  print(i)"
      ],
      "metadata": {
        "colab": {
          "base_uri": "https://localhost:8080/"
        },
        "id": "HKzRFkuYPGTv",
        "outputId": "239551d3-081b-4238-e7e1-848f80cfb130"
      },
      "execution_count": null,
      "outputs": [
        {
          "output_type": "stream",
          "name": "stdout",
          "text": [
            "0\n",
            "1\n",
            "2\n",
            "3\n",
            "4\n"
          ]
        }
      ]
    },
    {
      "cell_type": "markdown",
      "source": [
        "-----\n",
        "\n",
        "5부터 0까지 카운트 다운"
      ],
      "metadata": {
        "id": "TPpCwOZzQ9ZN"
      }
    },
    {
      "cell_type": "code",
      "source": [
        "for i in range (5, -1, -1): #5부터 시작, -1보다 하나 덜 작성되므로 0까지 출력하려면 -1, 간격 -1은 역순\n",
        "  print(i)"
      ],
      "metadata": {
        "colab": {
          "base_uri": "https://localhost:8080/"
        },
        "id": "NDTobMyYPeGu",
        "outputId": "f17a6a79-dc1b-4638-deef-88e51bb547fc"
      },
      "execution_count": null,
      "outputs": [
        {
          "output_type": "stream",
          "name": "stdout",
          "text": [
            "5\n",
            "4\n",
            "3\n",
            "2\n",
            "1\n",
            "0\n"
          ]
        }
      ]
    },
    {
      "cell_type": "markdown",
      "source": [
        "-----\n"
      ],
      "metadata": {
        "id": "OuwZerEYRE7q"
      }
    },
    {
      "cell_type": "code",
      "source": [
        "word = \"Hello!\"\n",
        "i = len(word)\n",
        "\n",
        "for i in range (1, 2, 1):\n",
        "  print(word[i])"
      ],
      "metadata": {
        "colab": {
          "base_uri": "https://localhost:8080/"
        },
        "id": "QZXV1VATQcpZ",
        "outputId": "95d75fa3-eddd-4475-e631-65b59432b7d5"
      },
      "execution_count": null,
      "outputs": [
        {
          "output_type": "stream",
          "name": "stdout",
          "text": [
            "e\n"
          ]
        }
      ]
    },
    {
      "cell_type": "code",
      "source": [
        "word = \"Hello!\"\n",
        "\n",
        "for i in range (len(word)):\n",
        "  if word[i]=='e':\n",
        "    print(word[i])"
      ],
      "metadata": {
        "colab": {
          "base_uri": "https://localhost:8080/"
        },
        "id": "aFkNgclNWLgw",
        "outputId": "2682b272-01b2-4eb2-f7a2-ccb5187afc0f"
      },
      "execution_count": null,
      "outputs": [
        {
          "output_type": "stream",
          "name": "stdout",
          "text": [
            "e\n"
          ]
        }
      ]
    },
    {
      "cell_type": "code",
      "source": [
        "for a, b in [(1, 2), (2, 2), (2, 3), (2, 4)]:\n",
        "  print(a*b)"
      ],
      "metadata": {
        "colab": {
          "base_uri": "https://localhost:8080/"
        },
        "id": "9g-8db-bWacJ",
        "outputId": "92deeac8-2bcc-4839-8113-adfeba73cda5"
      },
      "execution_count": null,
      "outputs": [
        {
          "output_type": "stream",
          "name": "stdout",
          "text": [
            "2\n",
            "4\n",
            "6\n",
            "8\n"
          ]
        }
      ]
    },
    {
      "cell_type": "code",
      "source": [
        "for i in range(2, 4):\n",
        "  print(\"-----\", i, \"단 -----\")\n",
        "  for j in range(1, 10):\n",
        "    print(i*j)"
      ],
      "metadata": {
        "colab": {
          "base_uri": "https://localhost:8080/"
        },
        "id": "7xl1H1enWlxe",
        "outputId": "de134d51-d340-471f-a1cb-c5f3aa0f8cb2"
      },
      "execution_count": null,
      "outputs": [
        {
          "output_type": "stream",
          "name": "stdout",
          "text": [
            "----- 2 단 -----\n",
            "2\n",
            "4\n",
            "6\n",
            "8\n",
            "10\n",
            "12\n",
            "14\n",
            "16\n",
            "18\n",
            "----- 3 단 -----\n",
            "3\n",
            "6\n",
            "9\n",
            "12\n",
            "15\n",
            "18\n",
            "21\n",
            "24\n",
            "27\n"
          ]
        }
      ]
    },
    {
      "cell_type": "code",
      "source": [
        "for i in range(5):\n",
        "  if (i == 3):\n",
        "    break\n",
        "  print(i, end ='')"
      ],
      "metadata": {
        "colab": {
          "base_uri": "https://localhost:8080/"
        },
        "id": "UIEubmPzW3IG",
        "outputId": "5c0a8fe3-bf29-4872-c784-46cd9e80bd41"
      },
      "execution_count": null,
      "outputs": [
        {
          "output_type": "stream",
          "name": "stdout",
          "text": [
            "012"
          ]
        }
      ]
    },
    {
      "cell_type": "code",
      "source": [
        "for i in range(5):\n",
        "  if (i==3):\n",
        "    continue #3일때는 print문까지 못가고 반복문으로 감. 한번 더 실행됨 (3출력 안됨!)\n",
        "  print(i, end='')"
      ],
      "metadata": {
        "colab": {
          "base_uri": "https://localhost:8080/"
        },
        "id": "jlT6bmtAXDpf",
        "outputId": "3ee28d87-6d76-4034-9051-b8f057d12efb"
      },
      "execution_count": null,
      "outputs": [
        {
          "output_type": "stream",
          "name": "stdout",
          "text": [
            "0124"
          ]
        }
      ]
    },
    {
      "cell_type": "code",
      "source": [
        "for i in range(5):\n",
        "  if (i == 3):\n",
        "      pass #3일때 print문까지 다이렉트로 패스함\n",
        "  print(i, end ='')"
      ],
      "metadata": {
        "colab": {
          "base_uri": "https://localhost:8080/"
        },
        "id": "wX5T2Xs4XUqw",
        "outputId": "f0d02147-476f-4f62-a2e6-57c6d86f5032"
      },
      "execution_count": null,
      "outputs": [
        {
          "output_type": "stream",
          "name": "stdout",
          "text": [
            "01234"
          ]
        }
      ]
    },
    {
      "cell_type": "code",
      "source": [
        "for i in range(5):\n",
        "  if (i == 3):\n",
        "    break\n",
        "  print(i) #end 없으면 줄 바꿈됨"
      ],
      "metadata": {
        "colab": {
          "base_uri": "https://localhost:8080/"
        },
        "id": "W6dU37JIXK1W",
        "outputId": "151662c0-6168-403d-f750-888985bacbc3"
      },
      "execution_count": null,
      "outputs": [
        {
          "output_type": "stream",
          "name": "stdout",
          "text": [
            "0\n",
            "1\n",
            "2\n"
          ]
        }
      ]
    },
    {
      "cell_type": "markdown",
      "source": [
        "-----\n",
        "1부터 10까지 합을 구하시오"
      ],
      "metadata": {
        "id": "cxgDun7AYG9O"
      }
    },
    {
      "cell_type": "code",
      "source": [
        "sum=0\n",
        "\n",
        "for i in range (0, 11):\n",
        "  sum += i\n",
        "  i+=1\n",
        "\n",
        "print(sum)"
      ],
      "metadata": {
        "colab": {
          "base_uri": "https://localhost:8080/"
        },
        "id": "ZfYAaZ5bXPkt",
        "outputId": "71dda20c-6a15-4865-ae2f-7cbb63f18b71"
      },
      "execution_count": null,
      "outputs": [
        {
          "output_type": "stream",
          "name": "stdout",
          "text": [
            "55\n"
          ]
        }
      ]
    },
    {
      "cell_type": "markdown",
      "source": [
        "----\n",
        "1) 사용자로부터 정수를 입력받으 해당 정수만큼 \"안녕\"을 출력하세요.\n",
        "\n",
        "2) 사용자로부터 정수를 입력받아, 입력된 정수만큼 별찍기"
      ],
      "metadata": {
        "id": "BRNw3JrGYm5u"
      }
    },
    {
      "cell_type": "code",
      "source": [
        "num = int(input(\"정수를 입력해주세요: \"))\n",
        "\n",
        "for i in range(1, num+1):\n",
        "  print(\"안녕\")"
      ],
      "metadata": {
        "colab": {
          "base_uri": "https://localhost:8080/"
        },
        "id": "mW151oJRYmOC",
        "outputId": "fe594879-6a8c-4515-c571-fe86deac226f"
      },
      "execution_count": null,
      "outputs": [
        {
          "output_type": "stream",
          "name": "stdout",
          "text": [
            "정수를 입력해주세요: 5\n",
            "안녕\n",
            "안녕\n",
            "안녕\n",
            "안녕\n",
            "안녕\n"
          ]
        }
      ]
    },
    {
      "cell_type": "code",
      "source": [
        "num = int (input(\"정수를 입력해주세요: \"))\n",
        "\n",
        "for i in range (1, num+1):\n",
        "  print(\"*\"*i)\n",
        "  i +=1"
      ],
      "metadata": {
        "colab": {
          "base_uri": "https://localhost:8080/"
        },
        "id": "lIBtDeufY-JN",
        "outputId": "ded3d2c7-25ac-4945-a870-4db5710fa3ba"
      },
      "execution_count": null,
      "outputs": [
        {
          "output_type": "stream",
          "name": "stdout",
          "text": [
            "정수를 입력해주세요: 3\n",
            "*\n",
            "**\n",
            "***\n"
          ]
        }
      ]
    },
    {
      "cell_type": "markdown",
      "source": [
        "---\n",
        "1) 계단형, n을 입력받아, n만큼 줄을 만들고 계단 형태로 별찍기\n",
        "\n",
        "2) 삼각형, 왼쪽 아래가 직각인 n만큼의 높이를 가지는 직각삼각형\n",
        "\n",
        "2)-(1) 오른쪽 아래가 직각인 n만큼의 높이를 가지는 직각삼각형\n",
        "\n",
        "3) 역삼각형, 왼쪽 위가 직각인 n만큼의 높이를 가지는 직각삼각형\n",
        "\n",
        "3)-(1) 오른쪽 위의 직각인 n만큼의 높이를 가지는 직각삼각형\n",
        "\n",
        "4) 피라미드, n만큼의 높이를 가지는 홀수 개의 별 피라미드"
      ],
      "metadata": {
        "id": "MmEm9X8RZbUl"
      }
    },
    {
      "cell_type": "code",
      "source": [
        "# 1\n",
        "n = int(input(\"정수 n을 입력하세요: \"))\n",
        "\n",
        "for i in range(n+1):\n",
        "  for j in range(n+1):\n",
        "    if j == i:\n",
        "      print('*'*n, end='')\n",
        "    else:\n",
        "      print(' ', end='')\n",
        "  print()"
      ],
      "metadata": {
        "colab": {
          "base_uri": "https://localhost:8080/"
        },
        "id": "1INo1JJzb14C",
        "outputId": "4c313eaf-95fc-4601-9d47-99c6220aaccc"
      },
      "execution_count": null,
      "outputs": [
        {
          "output_type": "stream",
          "name": "stdout",
          "text": [
            "정수 n을 입력하세요: 3\n",
            "***   \n",
            " ***  \n",
            "  *** \n",
            "   ***\n"
          ]
        }
      ]
    },
    {
      "cell_type": "code",
      "source": [
        "#2\n",
        "n = int (input(\"정수를 입력해주세요: \"))\n",
        "\n",
        "for i in range (1, n+1):\n",
        "  print(\"*\"*i)\n",
        "  i +=1"
      ],
      "metadata": {
        "colab": {
          "base_uri": "https://localhost:8080/"
        },
        "id": "4N4gX6lgb8vZ",
        "outputId": "3a7f2900-2af3-44dd-c21d-a88b9679b660"
      },
      "execution_count": null,
      "outputs": [
        {
          "output_type": "stream",
          "name": "stdout",
          "text": [
            "정수를 입력해주세요: 4\n",
            "*\n",
            "**\n",
            "***\n",
            "****\n"
          ]
        }
      ]
    },
    {
      "cell_type": "code",
      "source": [
        "#2-1\n",
        "num = int (input(\"정수를 입력해주세요: \"))\n",
        "empty = ' ' #공백 변수 space 지정\n",
        "\n",
        "for i in range(num, 0, -1): #n에서 1까지 역순으로 숫자 생성(마지막 숫자보다 +1임을 기억)\n",
        "    print(empty * i + \"*\" * (num-i)) #공백과 for문 곱하고 + 별과 input값에서 for문-1을 뺀걸 곱함"
      ],
      "metadata": {
        "colab": {
          "base_uri": "https://localhost:8080/"
        },
        "id": "Fly5cIqXcIlp",
        "outputId": "3f153f4e-9d9b-48a1-db3b-0154757f5d4b"
      },
      "execution_count": null,
      "outputs": [
        {
          "output_type": "stream",
          "name": "stdout",
          "text": [
            "정수를 입력해주세요: 9\n",
            "        *\n",
            "       **\n",
            "      ***\n",
            "     ****\n",
            "    *****\n",
            "   ******\n",
            "  *******\n",
            " ********\n",
            "*********\n"
          ]
        }
      ]
    },
    {
      "cell_type": "code",
      "source": [
        "#3\n",
        "num = int(input(\"정수를 입력해주세요: \"))\n",
        "\n",
        "for i in range (num, 0, -1):\n",
        "  print(\"*\"*i)\n",
        "  i+=1"
      ],
      "metadata": {
        "colab": {
          "base_uri": "https://localhost:8080/"
        },
        "id": "kBVEV6I7dtJH",
        "outputId": "6e4eb08b-1e00-4b8f-96ad-e90db9929083"
      },
      "execution_count": null,
      "outputs": [
        {
          "output_type": "stream",
          "name": "stdout",
          "text": [
            "정수를 입력해주세요: 3\n",
            "***\n",
            "**\n",
            "*\n"
          ]
        }
      ]
    },
    {
      "cell_type": "code",
      "source": [
        "#3-1\n",
        "num = int (input(\"정수를 입력해주세요: \"))\n",
        "empty = ' ' #공백 변수 space 지정\n",
        "\n",
        "for i in range(num, 0, -1): #n에서 1까지 역순으로 숫자 생성(마지막 숫자보다 +1임을 기억)\n",
        "    print(empty * (num-i) + \"*\" * (i)) #공백과 for문 곱하고 + 별과 input값에서 for문-1을 뺀걸 곱함"
      ],
      "metadata": {
        "colab": {
          "base_uri": "https://localhost:8080/"
        },
        "id": "z3PpFRS4eMFD",
        "outputId": "73e30593-9807-4fae-a753-c22e6bbcaf9e"
      },
      "execution_count": null,
      "outputs": [
        {
          "output_type": "stream",
          "name": "stdout",
          "text": [
            "정수를 입력해주세요: 8\n",
            "********\n",
            " *******\n",
            "  ******\n",
            "   *****\n",
            "    ****\n",
            "     ***\n",
            "      **\n",
            "       *\n"
          ]
        }
      ]
    },
    {
      "cell_type": "code",
      "source": [
        "#4\n",
        "n = int(input())\n",
        "\n",
        "for i in range(1,n+1): # 1~n\n",
        "  print(\" \"*(n-i)+\"*\"*(i*2-1)) #5입력 시 4공백+1별"
      ],
      "metadata": {
        "colab": {
          "base_uri": "https://localhost:8080/"
        },
        "id": "b_EQZoD9eggz",
        "outputId": "d3d3f7ef-33e8-4874-be7c-56c15a5642f4"
      },
      "execution_count": null,
      "outputs": [
        {
          "output_type": "stream",
          "name": "stdout",
          "text": [
            "5\n",
            "    *\n",
            "   ***\n",
            "  *****\n",
            " *******\n",
            "*********\n"
          ]
        }
      ]
    },
    {
      "cell_type": "code",
      "source": [
        "#4\n",
        "n = int(input())\n",
        "\n",
        "for i in range(n,0,-1): #n~1\n",
        "  print(\" \"*(n-i)+\"*\"*(2*i-1))"
      ],
      "metadata": {
        "colab": {
          "base_uri": "https://localhost:8080/"
        },
        "id": "vkBu4rQv-YjB",
        "outputId": "8a832cab-854e-4d3b-a93e-bcbce2820c40"
      },
      "execution_count": 23,
      "outputs": [
        {
          "output_type": "stream",
          "name": "stdout",
          "text": [
            "5\n",
            "*********\n",
            " *******\n",
            "  *****\n",
            "   ***\n",
            "    *\n"
          ]
        }
      ]
    },
    {
      "cell_type": "code",
      "source": [
        "#4\n",
        "n = int(input())\n",
        "\n",
        "for i in range(1,n+1): # 1~n\n",
        "  print(\" \"*(n-i)+\"*\"*(i*2-1)) #5입력 시 4공백+1별\n",
        "\n",
        "for j in range(n-1,0,-1): #n~1\n",
        "  print(\" \"*(n-j)+\"*\"*(2*j-1))"
      ],
      "metadata": {
        "colab": {
          "base_uri": "https://localhost:8080/"
        },
        "id": "BRyD6Sco_G2J",
        "outputId": "108cc1f8-8694-4e24-9508-da4ea240d07d"
      },
      "execution_count": 24,
      "outputs": [
        {
          "output_type": "stream",
          "name": "stdout",
          "text": [
            "5\n",
            "    *\n",
            "   ***\n",
            "  *****\n",
            " *******\n",
            "*********\n",
            " *******\n",
            "  *****\n",
            "   ***\n",
            "    *\n"
          ]
        }
      ]
    },
    {
      "cell_type": "markdown",
      "source": [
        "연습문제3\n",
        "\n",
        "1) x = [3, 6, 9, 20, -7, 5]의 값의 모든 요소에 10을 곱한 뒤 출력\n",
        "\n",
        "심화: 출력과 리스트 x의 값에도 10을 모두 곱해라\n",
        "\n",
        "2) y = {\"math\": 70, \"science\": 80 \"english\": 20}의 값의 모든 요소에 10을 더한 뒤 출력하세요\n",
        "\n",
        "심화: 출력과 딕셔너리y의 값에도 모두 10을 더해주세요\n",
        "\n",
        "3) 숫자를 입력받고 입력받은 정수의 구구단을 출력하세요\n",
        "\n"
      ],
      "metadata": {
        "id": "z8hqVIAk1_1B"
      }
    },
    {
      "cell_type": "code",
      "source": [
        "#연습문제3\n",
        "# 1)\n",
        "x = [3, 6, 9, 20, -7, 5]\n",
        "count = len(x)\n",
        "\n",
        "for i in range(0, count):\n",
        "  x[i]=x[i]*10\n",
        "print(x)"
      ],
      "metadata": {
        "id": "vy4qVrI11_No",
        "colab": {
          "base_uri": "https://localhost:8080/"
        },
        "outputId": "81c8470b-8d36-4b18-c5a7-abf52a4b4d30"
      },
      "execution_count": null,
      "outputs": [
        {
          "output_type": "stream",
          "name": "stdout",
          "text": [
            "[30, 60, 90, 200, -70, 50]\n"
          ]
        }
      ]
    },
    {
      "cell_type": "code",
      "source": [
        "#1) 의 심화\n",
        "\n"
      ],
      "metadata": {
        "id": "URA_MdpM7N51"
      },
      "execution_count": null,
      "outputs": []
    },
    {
      "cell_type": "code",
      "source": [
        "#2\n",
        "\n",
        "y = {\"math\": 70, \"science\": 80, \"english\": 20}\n",
        "count = len(y.values())\n",
        "\n",
        "print(y[\"math\"]+10)"
      ],
      "metadata": {
        "colab": {
          "base_uri": "https://localhost:8080/"
        },
        "id": "hADQ9dIN71ca",
        "outputId": "6cf77493-86f9-4cd9-f381-4697a90aad53"
      },
      "execution_count": 32,
      "outputs": [
        {
          "output_type": "stream",
          "name": "stdout",
          "text": [
            "80\n"
          ]
        }
      ]
    },
    {
      "cell_type": "code",
      "source": [
        "#3\n",
        "num =int(input(\"정수를 입력해주세요: \"))\n",
        "\n",
        "for i in range(1, num+1):\n",
        "  print(num, \"*\",i, \"=\", (num * i))"
      ],
      "metadata": {
        "colab": {
          "base_uri": "https://localhost:8080/"
        },
        "id": "nIpTcKrqC2C0",
        "outputId": "41d499ea-cd39-46d7-cfa2-c149a65d01f4"
      },
      "execution_count": 37,
      "outputs": [
        {
          "output_type": "stream",
          "name": "stdout",
          "text": [
            "정수를 입력해주세요: 5\n",
            "5 * 1 = 5\n",
            "5 * 2 = 10\n",
            "5 * 3 = 15\n",
            "5 * 4 = 20\n",
            "5 * 5 = 25\n"
          ]
        }
      ]
    },
    {
      "cell_type": "markdown",
      "source": [
        "### 연습문제4\n",
        "1~100 임의의 숫자"
      ],
      "metadata": {
        "id": "sYmesNXUDyRH"
      }
    },
    {
      "cell_type": "code",
      "source": [
        "import random\n",
        "\n",
        "true_value = random.randint(1, 100)\n",
        "\n",
        "print(\"숫자를 맞춰보세요(1~100)\", end='')\n",
        "\n",
        "while (input_value) != (true_value):\n",
        "  input_value = int(input(''))\n",
        "  if input_value > true_value:\n",
        "    print(\"숫자가 너무 큽니다\")\n",
        "    continue\n",
        "  elif input_value < true_value:\n",
        "    print(\"숫자가 너무 작습니다\")\n",
        "    continue\n",
        "  else:\n",
        "    print(\"정답입니다. 입력한 숫자는 \", input_value, \"입니다.\")\n",
        "    break"
      ],
      "metadata": {
        "colab": {
          "base_uri": "https://localhost:8080/"
        },
        "id": "VoM_W9iyDxaf",
        "outputId": "a0b32147-78a1-43fc-8f03-dc9acd4be32e"
      },
      "execution_count": 56,
      "outputs": [
        {
          "output_type": "stream",
          "name": "stdout",
          "text": [
            "숫자를 맞춰보세요(1~100)55\n",
            "숫자가 너무 작습니다\n",
            "66\n",
            "숫자가 너무 큽니다\n",
            "60\n",
            "숫자가 너무 작습니다\n",
            "65\n",
            "숫자가 너무 큽니다\n",
            "63\n",
            "숫자가 너무 큽니다\n",
            "62\n",
            "정답입니다. 입력한 숫자는  62 입니다.\n"
          ]
        }
      ]
    },
    {
      "cell_type": "code",
      "source": [
        "import random\n",
        "\n",
        "true_value = random.randint(1, 100)\n",
        "\n",
        "print(\"숫자를 맞춰보세요(1~100)\")\n",
        "\n",
        "for i in range(1, 101):\n",
        "  num = int(input())\n",
        "  if num > true_value:\n",
        "    print(\"큼\")\n",
        "  elif num < true_value:\n",
        "    print(\"작음\")\n",
        "  else:\n",
        "    print(\"정답입니다\")\n",
        "    break\n",
        "else:\n",
        "  print(\"찾지 못함\")\n",
        ""
      ],
      "metadata": {
        "colab": {
          "base_uri": "https://localhost:8080/"
        },
        "id": "0a_-eZi2Ld7C",
        "outputId": "65961eef-d367-4317-ce00-b7a20d0a6d58"
      },
      "execution_count": 7,
      "outputs": [
        {
          "output_type": "stream",
          "name": "stdout",
          "text": [
            "숫자를 맞춰보세요(1~100)\n",
            "50\n",
            "작음\n",
            "70\n",
            "작음\n",
            "80\n",
            "작음\n",
            "90\n",
            "작음\n",
            "99\n",
            "큼\n",
            "9\n",
            "작음\n",
            "95\n",
            "정답입니다\n"
          ]
        }
      ]
    },
    {
      "cell_type": "markdown",
      "source": [
        "## 연습문제5\n",
        "1) word = [\"school\", \"game\", \"piano\", \"science\", \"hotel\", \"mountain\"]\n",
        "\n",
        "중 글자 수가 6글자 이상인 문자를 모아 새로운 리스트 생성\n",
        "\n",
        "2) 구구단을 1단부터 9단까지 출력"
      ],
      "metadata": {
        "id": "-USkCjpkESXC"
      }
    },
    {
      "cell_type": "code",
      "source": [
        "word = [\"school\", \"game\", \"piano\", \"science\", \"hotel\", \"mountain\"]\n",
        "count_list = len(word) # word의 리스트 순서를 count_list에 저장\n",
        "\n",
        "for i in range(0, count_list):\n",
        "  if len(word[i]) >=6:\n",
        "    print(word[i])\n",
        "  else:\n",
        "    continue\n"
      ],
      "metadata": {
        "colab": {
          "base_uri": "https://localhost:8080/"
        },
        "id": "mG-CLod1Ej_K",
        "outputId": "96f2ebfb-4313-49b1-cca0-ece90bae5f5e"
      },
      "execution_count": 46,
      "outputs": [
        {
          "output_type": "stream",
          "name": "stdout",
          "text": [
            "school\n",
            "science\n",
            "mountain\n"
          ]
        }
      ]
    },
    {
      "cell_type": "code",
      "source": [
        "word = [\"school\", \"game\", \"piano\", \"science\", \"hotel\", \"mountain\"]\n",
        "a = list()\n",
        "for i in range(len(word)):\n",
        "  if len(word[i])>=6:\n",
        "    a.append(word[i])\n",
        "print(a)"
      ],
      "metadata": {
        "colab": {
          "base_uri": "https://localhost:8080/"
        },
        "id": "_NA-p8sqSVU5",
        "outputId": "396c7567-028c-49fe-c686-1970a452d3cf"
      },
      "execution_count": 26,
      "outputs": [
        {
          "output_type": "stream",
          "name": "stdout",
          "text": [
            "['school', 'science', 'mountain']\n"
          ]
        }
      ]
    },
    {
      "cell_type": "code",
      "source": [
        "# 2) 구구단을 1단부터 9단까지 출력\n",
        "\n",
        "for i in range(1, 11):\n",
        "  print(i, \"단\")\n",
        "  for j in range(1, 11):\n",
        "    print(i, \"*\", j, \"=\", (i*j))"
      ],
      "metadata": {
        "colab": {
          "base_uri": "https://localhost:8080/"
        },
        "id": "-us681aKF1A8",
        "outputId": "e437882b-61fc-4e7e-9729-dd7b21afb95d"
      },
      "execution_count": 47,
      "outputs": [
        {
          "output_type": "stream",
          "name": "stdout",
          "text": [
            "1 단\n",
            "1 * 1 = 1\n",
            "1 * 2 = 2\n",
            "1 * 3 = 3\n",
            "1 * 4 = 4\n",
            "1 * 5 = 5\n",
            "1 * 6 = 6\n",
            "1 * 7 = 7\n",
            "1 * 8 = 8\n",
            "1 * 9 = 9\n",
            "1 * 10 = 10\n",
            "2 단\n",
            "2 * 1 = 2\n",
            "2 * 2 = 4\n",
            "2 * 3 = 6\n",
            "2 * 4 = 8\n",
            "2 * 5 = 10\n",
            "2 * 6 = 12\n",
            "2 * 7 = 14\n",
            "2 * 8 = 16\n",
            "2 * 9 = 18\n",
            "2 * 10 = 20\n",
            "3 단\n",
            "3 * 1 = 3\n",
            "3 * 2 = 6\n",
            "3 * 3 = 9\n",
            "3 * 4 = 12\n",
            "3 * 5 = 15\n",
            "3 * 6 = 18\n",
            "3 * 7 = 21\n",
            "3 * 8 = 24\n",
            "3 * 9 = 27\n",
            "3 * 10 = 30\n",
            "4 단\n",
            "4 * 1 = 4\n",
            "4 * 2 = 8\n",
            "4 * 3 = 12\n",
            "4 * 4 = 16\n",
            "4 * 5 = 20\n",
            "4 * 6 = 24\n",
            "4 * 7 = 28\n",
            "4 * 8 = 32\n",
            "4 * 9 = 36\n",
            "4 * 10 = 40\n",
            "5 단\n",
            "5 * 1 = 5\n",
            "5 * 2 = 10\n",
            "5 * 3 = 15\n",
            "5 * 4 = 20\n",
            "5 * 5 = 25\n",
            "5 * 6 = 30\n",
            "5 * 7 = 35\n",
            "5 * 8 = 40\n",
            "5 * 9 = 45\n",
            "5 * 10 = 50\n",
            "6 단\n",
            "6 * 1 = 6\n",
            "6 * 2 = 12\n",
            "6 * 3 = 18\n",
            "6 * 4 = 24\n",
            "6 * 5 = 30\n",
            "6 * 6 = 36\n",
            "6 * 7 = 42\n",
            "6 * 8 = 48\n",
            "6 * 9 = 54\n",
            "6 * 10 = 60\n",
            "7 단\n",
            "7 * 1 = 7\n",
            "7 * 2 = 14\n",
            "7 * 3 = 21\n",
            "7 * 4 = 28\n",
            "7 * 5 = 35\n",
            "7 * 6 = 42\n",
            "7 * 7 = 49\n",
            "7 * 8 = 56\n",
            "7 * 9 = 63\n",
            "7 * 10 = 70\n",
            "8 단\n",
            "8 * 1 = 8\n",
            "8 * 2 = 16\n",
            "8 * 3 = 24\n",
            "8 * 4 = 32\n",
            "8 * 5 = 40\n",
            "8 * 6 = 48\n",
            "8 * 7 = 56\n",
            "8 * 8 = 64\n",
            "8 * 9 = 72\n",
            "8 * 10 = 80\n",
            "9 단\n",
            "9 * 1 = 9\n",
            "9 * 2 = 18\n",
            "9 * 3 = 27\n",
            "9 * 4 = 36\n",
            "9 * 5 = 45\n",
            "9 * 6 = 54\n",
            "9 * 7 = 63\n",
            "9 * 8 = 72\n",
            "9 * 9 = 81\n",
            "9 * 10 = 90\n",
            "10 단\n",
            "10 * 1 = 10\n",
            "10 * 2 = 20\n",
            "10 * 3 = 30\n",
            "10 * 4 = 40\n",
            "10 * 5 = 50\n",
            "10 * 6 = 60\n",
            "10 * 7 = 70\n",
            "10 * 8 = 80\n",
            "10 * 9 = 90\n",
            "10 * 10 = 100\n"
          ]
        }
      ]
    },
    {
      "cell_type": "markdown",
      "source": [
        "## 연습문제 6\n",
        "\n",
        "1~100까지의 숫자 중 3과 5의 공배수\n",
        "..\n",
        "모두 해당되지 않을 경우 그냥 숫자 출력"
      ],
      "metadata": {
        "id": "N_vX77ibGJr4"
      }
    },
    {
      "cell_type": "code",
      "source": [
        "#n = int(input(\"n: \"))\n",
        "count35 = 0\n",
        "count3 = 0\n",
        "count5 = 0\n",
        "\n",
        "for i in range(1, 101):\n",
        "  if i % 3 == 0:\n",
        "    if i % 5 == 0:\n",
        "      print(\"3과 5의 공배수\")\n",
        "      count35 += 1\n",
        "      continue\n",
        "    else:\n",
        "      print(\"3의 배수\")\n",
        "      count3 += 1\n",
        "      continue\n",
        "  elif i % 5 == 0:\n",
        "    if i % 3 == 0:\n",
        "      print(\"3과 5의 공배수\")\n",
        "      count35 += 1\n",
        "    else:\n",
        "      print(\"5의 배수\")\n",
        "      count5 += 1\n",
        "  else:\n",
        "    print(i)\n",
        "\n",
        "print(\"100까지의 3과 5의 공배수 개수: \", count35)\n",
        "print(\"100까지의 3의 배수 개수: \", count3+count35)\n",
        "print(\"100까지의 5의 배수 개수: \", count5+count35)"
      ],
      "metadata": {
        "colab": {
          "base_uri": "https://localhost:8080/"
        },
        "id": "amSWVaB6GRSW",
        "outputId": "59cfe87a-5546-4bb3-af9b-786d8a1ecdb7"
      },
      "execution_count": 51,
      "outputs": [
        {
          "output_type": "stream",
          "name": "stdout",
          "text": [
            "1\n",
            "2\n",
            "3의 배수\n",
            "4\n",
            "5의 배수\n",
            "3의 배수\n",
            "7\n",
            "8\n",
            "3의 배수\n",
            "5의 배수\n",
            "11\n",
            "3의 배수\n",
            "13\n",
            "14\n",
            "3과 5의 공배수\n",
            "16\n",
            "17\n",
            "3의 배수\n",
            "19\n",
            "5의 배수\n",
            "3의 배수\n",
            "22\n",
            "23\n",
            "3의 배수\n",
            "5의 배수\n",
            "26\n",
            "3의 배수\n",
            "28\n",
            "29\n",
            "3과 5의 공배수\n",
            "31\n",
            "32\n",
            "3의 배수\n",
            "34\n",
            "5의 배수\n",
            "3의 배수\n",
            "37\n",
            "38\n",
            "3의 배수\n",
            "5의 배수\n",
            "41\n",
            "3의 배수\n",
            "43\n",
            "44\n",
            "3과 5의 공배수\n",
            "46\n",
            "47\n",
            "3의 배수\n",
            "49\n",
            "5의 배수\n",
            "3의 배수\n",
            "52\n",
            "53\n",
            "3의 배수\n",
            "5의 배수\n",
            "56\n",
            "3의 배수\n",
            "58\n",
            "59\n",
            "3과 5의 공배수\n",
            "61\n",
            "62\n",
            "3의 배수\n",
            "64\n",
            "5의 배수\n",
            "3의 배수\n",
            "67\n",
            "68\n",
            "3의 배수\n",
            "5의 배수\n",
            "71\n",
            "3의 배수\n",
            "73\n",
            "74\n",
            "3과 5의 공배수\n",
            "76\n",
            "77\n",
            "3의 배수\n",
            "79\n",
            "5의 배수\n",
            "3의 배수\n",
            "82\n",
            "83\n",
            "3의 배수\n",
            "5의 배수\n",
            "86\n",
            "3의 배수\n",
            "88\n",
            "89\n",
            "3과 5의 공배수\n",
            "91\n",
            "92\n",
            "3의 배수\n",
            "94\n",
            "5의 배수\n",
            "3의 배수\n",
            "97\n",
            "98\n",
            "3의 배수\n",
            "5의 배수\n",
            "100까지의 3과 5의 공배수 개수:  6\n",
            "100까지의 3의 배수 개수:  33\n",
            "100까지의 5의 배수 개수:  20\n"
          ]
        }
      ]
    },
    {
      "cell_type": "code",
      "source": [
        "num = int(input(\"n: \"))\n",
        "\n",
        "for i in range(1, num+1):\n",
        "  if i % 3 == 0:\n",
        "    if i % 5 == 0:\n",
        "      print(\"3과 5의 공배수\")\n",
        "      continue\n",
        "    else:\n",
        "      print(\"3의 배수\")\n",
        "      continue\n",
        "  elif i % 5 == 0:\n",
        "    if i % 3 == 0:\n",
        "      print(\"3과 5의 공배수\")\n",
        "    else:\n",
        "      print(\"5의 배수\")\n",
        "  else:\n",
        "    print(i)"
      ],
      "metadata": {
        "colab": {
          "base_uri": "https://localhost:8080/"
        },
        "id": "JriUKQwvHMbg",
        "outputId": "e9dc2fa1-cf58-4b29-aebd-120c73553bfd"
      },
      "execution_count": 52,
      "outputs": [
        {
          "output_type": "stream",
          "name": "stdout",
          "text": [
            "n: 40\n",
            "1\n",
            "2\n",
            "3의 배수\n",
            "4\n",
            "5의 배수\n",
            "3의 배수\n",
            "7\n",
            "8\n",
            "3의 배수\n",
            "5의 배수\n",
            "11\n",
            "3의 배수\n",
            "13\n",
            "14\n",
            "3과 5의 공배수\n",
            "16\n",
            "17\n",
            "3의 배수\n",
            "19\n",
            "5의 배수\n",
            "3의 배수\n",
            "22\n",
            "23\n",
            "3의 배수\n",
            "5의 배수\n",
            "26\n",
            "3의 배수\n",
            "28\n",
            "29\n",
            "3과 5의 공배수\n",
            "31\n",
            "32\n",
            "3의 배수\n",
            "34\n",
            "5의 배수\n",
            "3의 배수\n",
            "37\n",
            "38\n",
            "3의 배수\n",
            "5의 배수\n"
          ]
        }
      ]
    },
    {
      "cell_type": "markdown",
      "source": [
        "## 연습문제 7\n",
        "사용자로부터 숫자를 ㄱ"
      ],
      "metadata": {
        "id": "74UEu_YZJ8KW"
      }
    },
    {
      "cell_type": "code",
      "source": [
        "c = 0\n",
        "d = 1\n",
        "\n",
        "while d==1:\n",
        "  a = (input())\n",
        "  if a =='s' or a == 'S':\n",
        "    d = 0\n",
        "  else:\n",
        "    a = int(a)\n",
        "    c += a\n",
        "print(c)"
      ],
      "metadata": {
        "colab": {
          "base_uri": "https://localhost:8080/"
        },
        "id": "wrgn6Em1Vw2-",
        "outputId": "a18b8281-f2d6-47b5-ea4e-81d898e76168"
      },
      "execution_count": 40,
      "outputs": [
        {
          "output_type": "stream",
          "name": "stdout",
          "text": [
            "5\n",
            "3\n",
            "s\n",
            "8\n"
          ]
        }
      ]
    },
    {
      "cell_type": "code",
      "source": [
        "sum = 0\n",
        "\n",
        "while True:\n",
        "    num = input(\"숫자를 입력하세요(합계를 보고싶으면 s, S): \")\n",
        "\n",
        "    if num.lower() == 's':\n",
        "        print(f\"합계: {sum}\")\n",
        "        break\n",
        "\n",
        "    try:\n",
        "        sum += int(num)\n",
        "    except ValueError:\n",
        "        print(\"숫자를 입력하세요(합계를 보고싶으면 s, S):\")"
      ],
      "metadata": {
        "colab": {
          "base_uri": "https://localhost:8080/"
        },
        "id": "qNcKKebwKDDu",
        "outputId": "74934cc3-0c61-4e9e-ea5a-917ad572aa33"
      },
      "execution_count": 38,
      "outputs": [
        {
          "output_type": "stream",
          "name": "stdout",
          "text": [
            "숫자를 입력하세요(합계를 보고싶으면 s, S): 4\n",
            "숫자를 입력하세요(합계를 보고싶으면 s, S): S\n",
            "합계: 4\n"
          ]
        }
      ]
    },
    {
      "cell_type": "markdown",
      "source": [
        "사람별 평균을 구하라"
      ],
      "metadata": {
        "id": "FOISPvGqW3dJ"
      }
    },
    {
      "cell_type": "code",
      "source": [
        "kor_score = [39, 69, 20, 100, 80]\n",
        "math_score = [32, 59, 85, 30, 90]\n",
        "eng_score = [49, 70, 48, 60, 100]\n",
        "midterm_score = [kor_score, math_score, eng_score]\n",
        "\n",
        "a = list()\n",
        "sum = 0\n",
        "\n",
        "for i in range(0, 5):\n",
        "  for j in range(0, 3):\n",
        "    sum += midterm_score[j][i]\n",
        "  sum = 0\n",
        "print(f\"평균 : {sum/ 3}\")"
      ],
      "metadata": {
        "colab": {
          "base_uri": "https://localhost:8080/"
        },
        "id": "SgTByCLubJae",
        "outputId": "a2b5c01c-5cb6-4a5b-c9ba-d66e7d6a2192"
      },
      "execution_count": 87,
      "outputs": [
        {
          "output_type": "stream",
          "name": "stdout",
          "text": [
            "평균 : 0.0\n"
          ]
        }
      ]
    },
    {
      "cell_type": "code",
      "source": [
        "kor_score = [39, 69, 20, 100, 80]\n",
        "math_score = [32, 59, 85, 30, 90]\n",
        "eng_score = [49, 70, 48, 60, 100]\n",
        "midterm_score = [kor_score, math_score, eng_score]\n",
        "a = list()\n",
        "sum = 0\n",
        "\n",
        "people_count = len(kor_score)\n",
        "subject_count = len(midterm_score)\n",
        "\n",
        "for i in range(0, people_count):\n",
        "  #a.append[i]=sum\n",
        "  for j in range(0, subject_count):\n",
        "    #print(midterm_score[j][i])\n",
        "    sum = 0\n",
        "    sum = sum + midterm_score[j][i]\n",
        "    print(sum)\n",
        "    a[i] = sum\n",
        "\n",
        "print(a)"
      ],
      "metadata": {
        "colab": {
          "base_uri": "https://localhost:8080/",
          "height": 233
        },
        "id": "ocMvhTeOW2vh",
        "outputId": "e8953966-45a0-46aa-9113-9e6bf8ef83e2"
      },
      "execution_count": 96,
      "outputs": [
        {
          "output_type": "stream",
          "name": "stdout",
          "text": [
            "39\n"
          ]
        },
        {
          "output_type": "error",
          "ename": "IndexError",
          "evalue": "list assignment index out of range",
          "traceback": [
            "\u001b[0;31m---------------------------------------------------------------------------\u001b[0m",
            "\u001b[0;31mIndexError\u001b[0m                                Traceback (most recent call last)",
            "\u001b[0;32m<ipython-input-96-2ed8aae3b28f>\u001b[0m in \u001b[0;36m<cell line: 11>\u001b[0;34m()\u001b[0m\n\u001b[1;32m     16\u001b[0m     \u001b[0msum\u001b[0m \u001b[0;34m=\u001b[0m \u001b[0msum\u001b[0m \u001b[0;34m+\u001b[0m \u001b[0mmidterm_score\u001b[0m\u001b[0;34m[\u001b[0m\u001b[0mj\u001b[0m\u001b[0;34m]\u001b[0m\u001b[0;34m[\u001b[0m\u001b[0mi\u001b[0m\u001b[0;34m]\u001b[0m\u001b[0;34m\u001b[0m\u001b[0;34m\u001b[0m\u001b[0m\n\u001b[1;32m     17\u001b[0m     \u001b[0mprint\u001b[0m\u001b[0;34m(\u001b[0m\u001b[0msum\u001b[0m\u001b[0;34m)\u001b[0m\u001b[0;34m\u001b[0m\u001b[0;34m\u001b[0m\u001b[0m\n\u001b[0;32m---> 18\u001b[0;31m     \u001b[0ma\u001b[0m\u001b[0;34m[\u001b[0m\u001b[0mi\u001b[0m\u001b[0;34m]\u001b[0m \u001b[0;34m=\u001b[0m \u001b[0msum\u001b[0m\u001b[0;34m\u001b[0m\u001b[0;34m\u001b[0m\u001b[0m\n\u001b[0m\u001b[1;32m     19\u001b[0m \u001b[0;34m\u001b[0m\u001b[0m\n\u001b[1;32m     20\u001b[0m \u001b[0mprint\u001b[0m\u001b[0;34m(\u001b[0m\u001b[0ma\u001b[0m\u001b[0;34m)\u001b[0m\u001b[0;34m\u001b[0m\u001b[0;34m\u001b[0m\u001b[0m\n",
            "\u001b[0;31mIndexError\u001b[0m: list assignment index out of range"
          ]
        }
      ]
    },
    {
      "cell_type": "code",
      "source": [
        "kor_score = [39, 69, 20, 100, 80]\n",
        "math_score = [32, 59, 85, 30, 90]\n",
        "eng_score = [49, 70, 48, 60, 100]\n",
        "midterm_score = [kor_score, math_score, eng_score]\n",
        "\n",
        "student_score = [0, 0, 0, 0, 0]\n",
        "i = 0\n",
        "\n",
        "for subject in midterm_score: #과목\n",
        "  for score in subject:\n",
        "    student_score[i] += score\n",
        "    i+=1\n",
        "  i =0\n",
        "else:\n",
        "  a, b, c, d, e = student_score\n",
        "  student_average = [a/3, b/3, c/3, d/3, e/3]\n",
        "  print(student_average)"
      ],
      "metadata": {
        "colab": {
          "base_uri": "https://localhost:8080/"
        },
        "id": "rJ8YuRQPlqaA",
        "outputId": "0d2b73c8-6c01-44fa-9dcc-215e40f4d59b"
      },
      "execution_count": 101,
      "outputs": [
        {
          "output_type": "stream",
          "name": "stdout",
          "text": [
            "[40.0, 66.0, 51.0, 63.333333333333336, 90.0]\n"
          ]
        }
      ]
    },
    {
      "cell_type": "code",
      "source": [
        "n = int(input(\"정수 n을 입력하세요: \"))\n",
        "\n",
        "for i in range(n+1):\n",
        "  for j in range(n+1):\n",
        "    if j == i:\n",
        "      print('*'*i, end='')\n",
        "    else:\n",
        "      print(' ', end='')\n",
        "  print()"
      ],
      "metadata": {
        "colab": {
          "base_uri": "https://localhost:8080/"
        },
        "id": "MXyJyuiaaIIM",
        "outputId": "515112be-6089-4d52-ec5f-51176172c0b1"
      },
      "execution_count": null,
      "outputs": [
        {
          "output_type": "stream",
          "name": "stdout",
          "text": [
            "정수 n을 입력하세요: 5\n",
            "     \n",
            " *    \n",
            "  **   \n",
            "   ***  \n",
            "    **** \n",
            "     *****\n"
          ]
        }
      ]
    }
  ]
}