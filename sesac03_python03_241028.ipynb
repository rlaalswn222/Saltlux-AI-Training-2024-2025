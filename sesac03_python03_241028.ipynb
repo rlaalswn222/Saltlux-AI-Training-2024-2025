{
 "cells": [
  {
   "cell_type": "code",
   "execution_count": 10,
   "id": "2d0b152e-d3af-4833-b248-6defa8ae310f",
   "metadata": {},
   "outputs": [
    {
     "data": {
      "text/plain": [
       "'C:\\\\Users\\\\r2com\\\\Desktop\\\\Python'"
      ]
     },
     "execution_count": 10,
     "metadata": {},
     "output_type": "execute_result"
    }
   ],
   "source": [
    "pwd"
   ]
  },
  {
   "cell_type": "code",
   "execution_count": 11,
   "id": "e5446a72-e638-44d2-ba35-ab9748015c66",
   "metadata": {},
   "outputs": [
    {
     "name": "stdout",
     "output_type": "stream",
     "text": [
      "C:\\Users\\r2com\n"
     ]
    }
   ],
   "source": [
    "cd"
   ]
  },
  {
   "cell_type": "code",
   "execution_count": 12,
   "id": "5628edd4-8e5f-493f-b38e-f5b776fcaec0",
   "metadata": {},
   "outputs": [
    {
     "name": "stdout",
     "output_type": "stream",
     "text": [
      "C:\\Users\\r2com\\Desktop\n"
     ]
    }
   ],
   "source": [
    "cd Desktop"
   ]
  },
  {
   "cell_type": "code",
   "execution_count": 13,
   "id": "22f122ff-2891-421b-930c-45227ef59530",
   "metadata": {},
   "outputs": [
    {
     "name": "stdout",
     "output_type": "stream",
     "text": [
      "C:\\Users\\r2com\\Desktop\\Python\n"
     ]
    }
   ],
   "source": [
    "cd Python"
   ]
  },
  {
   "cell_type": "code",
   "execution_count": 16,
   "id": "a1aac053-c629-4b8d-9771-80e5491a6fe6",
   "metadata": {},
   "outputs": [
    {
     "name": "stdout",
     "output_type": "stream",
     "text": [
      "<_io.TextIOWrapper name='C://Users//r2com//Desktop//Python//code//hell.txt' mode='r' encoding='cp949'>\n"
     ]
    }
   ],
   "source": [
    "new_file = open('C://Users//r2com//Desktop//Python//code//hell.txt')\n",
    "print(new_file)"
   ]
  },
  {
   "cell_type": "code",
   "execution_count": 17,
   "id": "0e6c8ba0-b44b-422c-960e-8f4d2670d2aa",
   "metadata": {},
   "outputs": [
    {
     "name": "stdout",
     "output_type": "stream",
     "text": [
      "<_io.TextIOWrapper name='../Python//code//hell.txt' mode='r' encoding='cp949'>\n"
     ]
    }
   ],
   "source": [
    "new_file = open('../Python//code//hell.txt', 'r')\n",
    "print(new_file)"
   ]
  },
  {
   "cell_type": "code",
   "execution_count": 18,
   "id": "0aab0958-f7f3-49ca-83bb-d0d079f2888c",
   "metadata": {},
   "outputs": [],
   "source": [
    "# 인코딩 오류 나면 유니코드 설정 CP949, UTF"
   ]
  },
  {
   "cell_type": "code",
   "execution_count": 22,
   "id": "20d8348a-ea1c-402e-968b-23e722cd88b1",
   "metadata": {},
   "outputs": [],
   "source": [
    "with open('../Python/code/hell.txt', 'w') as f: #as는 별명 붙이기\n",
    "    data = 'aapaa'\n",
    "    f.write(data)\n",
    "#권한을 w로 줘야 수정 가능\n",
    "# 파일 들어가면 aapaa만 작성되어 있음"
   ]
  },
  {
   "cell_type": "code",
   "execution_count": 24,
   "id": "05e802ce-b660-42b2-b071-081a20a91a3e",
   "metadata": {},
   "outputs": [
    {
     "name": "stdout",
     "output_type": "stream",
     "text": [
      "aapaa\n",
      "<class 'str'>\n"
     ]
    }
   ],
   "source": [
    "with open('../Python/code/hell.txt', 'r') as f: #as는 별명 붙이기\n",
    "    lines = f.read()\n",
    "    print(lines)\n",
    "    print(type(lines))"
   ]
  },
  {
   "cell_type": "code",
   "execution_count": 25,
   "id": "ac3c5458-d829-4da2-8c02-29d691baff78",
   "metadata": {},
   "outputs": [
    {
     "name": "stdout",
     "output_type": "stream",
     "text": [
      "aapaa\n"
     ]
    }
   ],
   "source": [
    "with open('../Python/code/hell.txt', 'r') as f: #as는 별명 붙이기\n",
    "    while True:\n",
    "        line = f.readline()\n",
    "        if not line:\n",
    "            break\n",
    "        print(line)"
   ]
  },
  {
   "cell_type": "code",
   "execution_count": 45,
   "id": "fbb3f7c3-c544-4594-8b7b-ccc38bef365b",
   "metadata": {},
   "outputs": [],
   "source": [
    "def sub(a, b):\n",
    "    print(\"뺄셈의 결과는 %d입니다.\" %(a-b))\n",
    "    return"
   ]
  },
  {
   "cell_type": "code",
   "execution_count": 46,
   "id": "e7a43f9d-008b-4d56-a52e-2a48c15a0a19",
   "metadata": {},
   "outputs": [
    {
     "name": "stdout",
     "output_type": "stream",
     "text": [
      "뺄셈의 결과는 0입니다.\n"
     ]
    }
   ],
   "source": [
    "c = sub(3, 3)\n",
    "c"
   ]
  },
  {
   "cell_type": "code",
   "execution_count": 47,
   "id": "4c76b028-ecba-4362-8b64-321769d293c3",
   "metadata": {},
   "outputs": [
    {
     "name": "stdout",
     "output_type": "stream",
     "text": [
      "뺄셈의 결과는 1입니다.\n"
     ]
    }
   ],
   "source": [
    "d = sub(5, 4)"
   ]
  },
  {
   "cell_type": "code",
   "execution_count": 48,
   "id": "ee64e145-99a6-435d-8ae5-6b583034ba85",
   "metadata": {},
   "outputs": [],
   "source": [
    "d #return을 사용하지 않으면 변수에 저장 되지 않음"
   ]
  },
  {
   "cell_type": "code",
   "execution_count": 39,
   "id": "1c942ef0-ff6e-41c7-9a77-5bd75100daca",
   "metadata": {},
   "outputs": [],
   "source": [
    "def add(a,b):\n",
    "    result = a+b\n",
    "    return result"
   ]
  },
  {
   "cell_type": "code",
   "execution_count": 40,
   "id": "2242c620-33df-4af4-98f4-cc8f4816ee3f",
   "metadata": {},
   "outputs": [
    {
     "data": {
      "text/plain": [
       "8"
      ]
     },
     "execution_count": 40,
     "metadata": {},
     "output_type": "execute_result"
    }
   ],
   "source": [
    "c= add(3, 5)\n",
    "c"
   ]
  },
  {
   "cell_type": "code",
   "execution_count": 50,
   "id": "1db2ac38-43fe-442a-b204-56901171eb5b",
   "metadata": {},
   "outputs": [],
   "source": [
    "def f(x):\n",
    "    return print(x+10)\n",
    "    # 함수의 특성을 활용하지 않은 좋지 못한 코드"
   ]
  },
  {
   "cell_type": "code",
   "execution_count": 66,
   "id": "f1303396-3ab0-447b-b602-3791b648e441",
   "metadata": {},
   "outputs": [
    {
     "name": "stdout",
     "output_type": "stream",
     "text": [
      "[2, 3]\n",
      "[0, 1]\n",
      "[2, 3]\n"
     ]
    },
    {
     "ename": "NameError",
     "evalue": "name 'eggs' is not defined",
     "output_type": "error",
     "traceback": [
      "\u001b[1;31m---------------------------------------------------------------------------\u001b[0m",
      "\u001b[1;31mNameError\u001b[0m                                 Traceback (most recent call last)",
      "Cell \u001b[1;32mIn[66], line 14\u001b[0m\n\u001b[0;32m     11\u001b[0m \u001b[38;5;28mprint\u001b[39m(ham) \u001b[38;5;66;03m#[0, 1]\u001b[39;00m\n\u001b[0;32m     12\u001b[0m ham \u001b[38;5;241m=\u001b[39m Sandwich(ham)\n\u001b[1;32m---> 14\u001b[0m \u001b[38;5;28mprint\u001b[39m(Sandwich(eggs)) \u001b[38;5;66;03m#eggs는 def안에 없음, 지역변수의 범위 밖으로 나오게 됨\u001b[39;00m\n\u001b[0;32m     15\u001b[0m \u001b[38;5;28mprint\u001b[39m(Sandwich)\n",
      "\u001b[1;31mNameError\u001b[0m: name 'eggs' is not defined"
     ]
    }
   ],
   "source": [
    "#지역변수, 전역변수\n",
    "\n",
    "def Sandwich(eggs):\n",
    "    eggs.append(1)\n",
    "    eggs = [2, 3]\n",
    "    print(eggs) #def 안에서 출력하면 나옴\n",
    "    return eggs\n",
    "    \n",
    "ham = [0] #ham위치에서는 0,1이 찍힘\n",
    "Sandwich(ham)\n",
    "print(ham) #[0, 1\n",
    "\n",
    "print(Sandwich(eggs)) #eggs는 def안에 없음, 지역변수의 범위 밖으로 나오게 됨\n",
    "print(Sandwich)"
   ]
  },
  {
   "cell_type": "code",
   "execution_count": 82,
   "id": "4c29e421-77d6-4c1d-8b06-f4d6695ed1ee",
   "metadata": {},
   "outputs": [],
   "source": [
    "def swap_value(x, y):\n",
    "    temp = x\n",
    "    x=y\n",
    "    y=temp\n",
    "\n",
    "def swap_offset(offset_x, offset_y):\n",
    "    temp = a[offset_x]\n",
    "    a[offset_x] = a[offset_y]\n",
    "    a[offset_y] = temp\n",
    "\n",
    "def swap_referance(list, offset_x,offset_y):\n",
    "    temp = list[offset_x]\n",
    "    list[offset_x] = list[offset_y]\n",
    "    list[offset_y] = temp\n",
    "\n",
    "#세개의 변수를 할당해서 두개의 변수를 바꿈\n",
    "#정처기 실기\n"
   ]
  },
  {
   "cell_type": "code",
   "execution_count": 84,
   "id": "ccb8be99-ec6f-46bb-8e54-f00d4dfcf7bf",
   "metadata": {},
   "outputs": [
    {
     "name": "stdout",
     "output_type": "stream",
     "text": [
      "[1, 2, 3, 4, 5]\n",
      "[1, 3, 2, 4, 5]\n",
      "[1, 2, 3, 4, 5]\n"
     ]
    }
   ],
   "source": [
    "a= [1, 2, 3, 4, 5]\n",
    "swap_value(a[1], a[2])\n",
    "print(a)\n",
    "swap_offset(1, 2)\n",
    "print(a)\n",
    "swap_referance (a, 1, 2)\n",
    "print(a)"
   ]
  },
  {
   "cell_type": "code",
   "execution_count": 93,
   "id": "d72419f5-6011-458f-9ae9-2b5405ebc651",
   "metadata": {},
   "outputs": [],
   "source": [
    "def div(a, b):\n",
    "    \n",
    "    share = int(a/b)\n",
    "    remainer = int(a%b)\n",
    "    result = (share, remainer)\n",
    "    return result"
   ]
  },
  {
   "cell_type": "code",
   "execution_count": 94,
   "id": "88f96b09-19c4-4c5d-8bbd-e80dac3722a0",
   "metadata": {},
   "outputs": [
    {
     "data": {
      "text/plain": [
       "(3, 1)"
      ]
     },
     "execution_count": 94,
     "metadata": {},
     "output_type": "execute_result"
    }
   ],
   "source": [
    "div(10, 3)"
   ]
  },
  {
   "cell_type": "code",
   "execution_count": 95,
   "id": "e7a385e6-e48a-46a7-82f4-d1924063cf13",
   "metadata": {},
   "outputs": [
    {
     "data": {
      "text/plain": [
       "(0, 3)"
      ]
     },
     "execution_count": 95,
     "metadata": {},
     "output_type": "execute_result"
    }
   ],
   "source": [
    "div(3, 5)"
   ]
  },
  {
   "cell_type": "code",
   "execution_count": 96,
   "id": "fe1a6221-938d-466e-8aa5-709e4f52f756",
   "metadata": {},
   "outputs": [
    {
     "data": {
      "text/plain": [
       "(0, 1)"
      ]
     },
     "execution_count": 96,
     "metadata": {},
     "output_type": "execute_result"
    }
   ],
   "source": [
    "div(1, 10)"
   ]
  },
  {
   "cell_type": "code",
   "execution_count": 125,
   "id": "3de0381a-b023-4a35-bf90-e28f9e7fdda2",
   "metadata": {},
   "outputs": [],
   "source": [
    "def div2(a, b):\n",
    "    share = int(a/b) #몫\n",
    "    remainer = int(a%b) #나머지\n",
    "    if a==0:\n",
    "        result = (\"0은 사용할 수 없습니다.\")\n",
    "    return (share, remainer)"
   ]
  },
  {
   "cell_type": "code",
   "execution_count": 126,
   "id": "4a7e0021-8f91-49ed-82df-c04a9df8e9c9",
   "metadata": {},
   "outputs": [
    {
     "data": {
      "text/plain": [
       "(0, 0)"
      ]
     },
     "execution_count": 126,
     "metadata": {},
     "output_type": "execute_result"
    }
   ],
   "source": [
    "div2(0, 3)"
   ]
  },
  {
   "cell_type": "code",
   "execution_count": 127,
   "id": "04b60cec-00a3-4694-8a2d-17ba4a791eb9",
   "metadata": {},
   "outputs": [
    {
     "data": {
      "text/plain": [
       "(10, 0)"
      ]
     },
     "execution_count": 127,
     "metadata": {},
     "output_type": "execute_result"
    }
   ],
   "source": [
    "div2(10, 1)"
   ]
  },
  {
   "cell_type": "code",
   "execution_count": 198,
   "id": "12a7b016-c3be-4c90-ae64-f162de17432e",
   "metadata": {},
   "outputs": [],
   "source": [
    "def div_str(str1, unit=2):\n",
    "    length = len(str1)\n",
    "    start = 0\n",
    "    \n",
    "    while length > 0 :     \n",
    "        print(str1[start:start+unit])\n",
    "        length -= unit\n",
    "        start = start + unit\n",
    "    "
   ]
  },
  {
   "cell_type": "code",
   "execution_count": 200,
   "id": "aa2fb1ca-0685-4a1a-b00e-9acf833b17ff",
   "metadata": {},
   "outputs": [
    {
     "name": "stdout",
     "output_type": "stream",
     "text": [
      "테스\n",
      "트를\n",
      " 위\n",
      "한 \n",
      "문장\n",
      "입니\n",
      "다.\n"
     ]
    }
   ],
   "source": [
    "# 선생님 코드\n",
    "def div_str_(string, unit=2):\n",
    "    i = 0\n",
    "    while i<len(string):\n",
    "        print(string[i:i+unit])\n",
    "        i+=unit\n",
    "\n",
    "\n",
    "div_str_('테스트를 위한 문장입니다.')"
   ]
  },
  {
   "cell_type": "code",
   "execution_count": 199,
   "id": "85940297-123a-4051-b528-9f594c44c78d",
   "metadata": {},
   "outputs": [
    {
     "name": "stdout",
     "output_type": "stream",
     "text": [
      "테스\n",
      "트를\n",
      " 위\n",
      "한 \n",
      "문장\n",
      "입니\n",
      "다.\n"
     ]
    }
   ],
   "source": [
    "div_str('테스트를 위한 문장입니다.')"
   ]
  },
  {
   "cell_type": "code",
   "execution_count": 139,
   "id": "c0945976-e42b-4cb8-9946-68125ad4f3e3",
   "metadata": {},
   "outputs": [
    {
     "name": "stdout",
     "output_type": "stream",
     "text": [
      "테스트를\n",
      " 위한 \n",
      "문장입니\n",
      "다.\n"
     ]
    }
   ],
   "source": [
    "div_str('테스트를 위한 문장입니다.', 4)"
   ]
  },
  {
   "cell_type": "code",
   "execution_count": 153,
   "id": "5b5b57cb-29f7-4d9d-ab4c-dbb1dafc8029",
   "metadata": {},
   "outputs": [],
   "source": [
    "#튜플을 받음\n",
    "def add_all(*args):\n",
    "    num = len(args)\n",
    "    sum = 0\n",
    "    for i in range(0, num):\n",
    "        sum += args[i]\n",
    "    return sum"
   ]
  },
  {
   "cell_type": "code",
   "execution_count": 154,
   "id": "bc0d89e1-8396-4860-83e1-2dee122bc857",
   "metadata": {},
   "outputs": [
    {
     "data": {
      "text/plain": [
       "28"
      ]
     },
     "execution_count": 154,
     "metadata": {},
     "output_type": "execute_result"
    }
   ],
   "source": [
    "add_all(1, 2, 3, 4, 5, 6, 7)"
   ]
  },
  {
   "cell_type": "code",
   "execution_count": 155,
   "id": "f7c80408-493e-48cc-ae30-5498c8d9c815",
   "metadata": {},
   "outputs": [
    {
     "data": {
      "text/plain": [
       "55"
      ]
     },
     "execution_count": 155,
     "metadata": {},
     "output_type": "execute_result"
    }
   ],
   "source": [
    "add_all(1, 2, 3, 4, 5, 6, 7, 8, 9, 10)"
   ]
  },
  {
   "cell_type": "code",
   "execution_count": 201,
   "id": "52c56d46-dbff-4f0b-84dc-9219501de4c6",
   "metadata": {},
   "outputs": [
    {
     "ename": "TypeError",
     "evalue": "'function' object is not subscriptable",
     "output_type": "error",
     "traceback": [
      "\u001b[1;31m---------------------------------------------------------------------------\u001b[0m",
      "\u001b[1;31mTypeError\u001b[0m                                 Traceback (most recent call last)",
      "Cell \u001b[1;32mIn[201], line 1\u001b[0m\n\u001b[1;32m----> 1\u001b[0m add_all[\u001b[38;5;241m1\u001b[39m, \u001b[38;5;241m2\u001b[39m, \u001b[38;5;241m3\u001b[39m, \u001b[38;5;241m4\u001b[39m, \u001b[38;5;241m5\u001b[39m]\n",
      "\u001b[1;31mTypeError\u001b[0m: 'function' object is not subscriptable"
     ]
    }
   ],
   "source": [
    "add_all[1, 2, 3, 4, 5]\n",
    "#튜플만 받을 수 있음을 증명"
   ]
  },
  {
   "cell_type": "code",
   "execution_count": 224,
   "id": "80c9c958-40af-4a8a-8f12-a7eeef9f481d",
   "metadata": {},
   "outputs": [],
   "source": [
    "#리스트만 받음\n",
    "#args자체는 튜플로만 \n",
    "def add_all_list(*lst):\n",
    "    sum = 0\n",
    "    for i in range(len(lst)):\n",
    "        for j in lst[i]:\n",
    "            sum += j\n",
    "    return sum"
   ]
  },
  {
   "cell_type": "code",
   "execution_count": 225,
   "id": "567ab060-dde7-44bc-9d56-34e61e5ac4b2",
   "metadata": {},
   "outputs": [
    {
     "data": {
      "text/plain": [
       "15"
      ]
     },
     "execution_count": 225,
     "metadata": {},
     "output_type": "execute_result"
    }
   ],
   "source": [
    "add_all_list([1, 2, 3, 4, 5])"
   ]
  },
  {
   "cell_type": "code",
   "execution_count": 226,
   "id": "2f13f139-6952-4436-966a-d26b1982a811",
   "metadata": {},
   "outputs": [],
   "source": [
    "#튜플, 리스트 둘다\n",
    "def add_all_both(*args):\n",
    "    temp = 0\n",
    "    for i in range(len(args)):\n",
    "        if type(args[i]) == list: #리스트 타입 분류\n",
    "            for j in args[i]:\n",
    "                temp+=j\n",
    "        else:\n",
    "            temp += args[i]\n",
    "    return temp"
   ]
  },
  {
   "cell_type": "code",
   "execution_count": 219,
   "id": "13acf3af-4794-4cf1-b4f3-b1e082a921a1",
   "metadata": {},
   "outputs": [
    {
     "data": {
      "text/plain": [
       "15"
      ]
     },
     "execution_count": 219,
     "metadata": {},
     "output_type": "execute_result"
    }
   ],
   "source": [
    "add_all_both(1, 2, 3, 4, 5)"
   ]
  },
  {
   "cell_type": "code",
   "execution_count": null,
   "id": "301bbb5f-5392-496d-9c1f-73efbfe12b53",
   "metadata": {},
   "outputs": [],
   "source": []
  }
 ],
 "metadata": {
  "kernelspec": {
   "display_name": "Python 3 (ipykernel)",
   "language": "python",
   "name": "python3"
  },
  "language_info": {
   "codemirror_mode": {
    "name": "ipython",
    "version": 3
   },
   "file_extension": ".py",
   "mimetype": "text/x-python",
   "name": "python",
   "nbconvert_exporter": "python",
   "pygments_lexer": "ipython3",
   "version": "3.12.4"
  }
 },
 "nbformat": 4,
 "nbformat_minor": 5
}
